{
 "cells": [
  {
   "cell_type": "code",
   "execution_count": 1,
   "metadata": {},
   "outputs": [],
   "source": [
    "import numpy as np\n",
    "import scipy.spatial.distance\n",
    "import sklearn.cluster"
   ]
  },
  {
   "cell_type": "code",
   "execution_count": 146,
   "metadata": {},
   "outputs": [],
   "source": [
    "maxwords = 10000\n",
    "words, vecs = [], []\n",
    "with open('glove.6B.50d.txt') as fp:\n",
    "    for line in fp:\n",
    "        values = line.split()\n",
    "        words.append(values[0])\n",
    "        vecs.append(np.asarray(values[1:], dtype='float32'))\n",
    "        maxwords -= 1\n",
    "        if maxwords == 0: break"
   ]
  },
  {
   "cell_type": "code",
   "execution_count": 166,
   "metadata": {},
   "outputs": [],
   "source": [
    "def find_nearest(vec, nr=5):\n",
    "    dists = scipy.spatial.distance.cdist([vec], vecs, 'cosine')\n",
    "    nearest = dists.argsort()[0][:nr]\n",
    "    return [(words[n], dists[0][n]) for n in nearest]\n",
    "\n",
    "def emb(word):\n",
    "    return vecs[words.index(word)]"
   ]
  },
  {
   "cell_type": "code",
   "execution_count": 167,
   "metadata": {},
   "outputs": [
    {
     "data": {
      "text/plain": [
       "[('forest', 0.0),\n",
       " ('forests', 0.10678214757979143),\n",
       " ('habitat', 0.19241926402944032),\n",
       " ('wildlife', 0.24355362228663868),\n",
       " ('pine', 0.24798890650159922),\n",
       " ('area', 0.27160496430845793),\n",
       " ('park', 0.2721631584416362),\n",
       " ('lakes', 0.27520908260136945),\n",
       " ('conservation', 0.29234763001228126),\n",
       " ('trees', 0.2929180807085626)]"
      ]
     },
     "execution_count": 167,
     "metadata": {},
     "output_type": "execute_result"
    }
   ],
   "source": [
    "find_nearest(emb('forest'), nr=10)"
   ]
  },
  {
   "cell_type": "code",
   "execution_count": 168,
   "metadata": {},
   "outputs": [
    {
     "data": {
      "text/plain": [
       "[('river', 0.06845535073480957),\n",
       " ('mountain', 0.1017494062708616),\n",
       " ('valley', 0.10408058167021905),\n",
       " ('mountains', 0.1415148316085736),\n",
       " ('creek', 0.1537117878705343)]"
      ]
     },
     "execution_count": 168,
     "metadata": {},
     "output_type": "execute_result"
    }
   ],
   "source": [
    "find_nearest(emb('mountain') + emb('river'), nr=5)"
   ]
  },
  {
   "cell_type": "code",
   "execution_count": 169,
   "metadata": {},
   "outputs": [
    {
     "data": {
      "text/plain": [
       "[('rain', 0.07472944318597274),\n",
       " ('winter', 0.08934650773599495),\n",
       " ('snow', 0.16260857183337096)]"
      ]
     },
     "execution_count": 169,
     "metadata": {},
     "output_type": "execute_result"
    }
   ],
   "source": [
    "find_nearest(emb('rain') + emb('winter'), nr=3)"
   ]
  },
  {
   "cell_type": "code",
   "execution_count": 170,
   "metadata": {},
   "outputs": [
    {
     "data": {
      "text/plain": [
       "[('girl', 0.052300702916973085)]"
      ]
     },
     "execution_count": 170,
     "metadata": {},
     "output_type": "execute_result"
    }
   ],
   "source": [
    "find_nearest(emb('boy') - emb('man') + emb('woman'), nr=1)"
   ]
  },
  {
   "cell_type": "code",
   "execution_count": 171,
   "metadata": {},
   "outputs": [
    {
     "name": "stdout",
     "output_type": "stream",
     "text": [
      "[('girl', 0.052300702897155826), ('boy', 0.09373664668432202)]\n",
      "[('king', 0.11401654124942395), ('queen', 0.1390418809506978)]\n"
     ]
    }
   ],
   "source": [
    "feminine = emb('woman') - emb('man')\n",
    "print(find_nearest(emb('boy') + feminine, nr=2))\n",
    "print(find_nearest(emb('king') + feminine, nr = 2))"
   ]
  },
  {
   "cell_type": "code",
   "execution_count": 102,
   "metadata": {},
   "outputs": [
    {
     "data": {
      "text/plain": [
       "[('paris', 0.08858787899312692)]"
      ]
     },
     "execution_count": 102,
     "metadata": {},
     "output_type": "execute_result"
    }
   ],
   "source": [
    "find_nearest(emb('berlin') - emb('germany') + emb('france'), nr=1)"
   ]
  },
  {
   "cell_type": "code",
   "execution_count": 103,
   "metadata": {},
   "outputs": [
    {
     "data": {
      "text/plain": [
       "[('germany', 0.14648232203948275),\n",
       " ('asia', 0.2135826984131749),\n",
       " ('japan', 0.22114189932144135)]"
      ]
     },
     "execution_count": 103,
     "metadata": {},
     "output_type": "execute_result"
    }
   ],
   "source": [
    "find_nearest(emb('germany') - emb('europe') + emb('asia'), nr=3)"
   ]
  },
  {
   "cell_type": "code",
   "execution_count": 145,
   "metadata": {},
   "outputs": [
    {
     "data": {
      "text/plain": [
       "[('girl', 0.052300702897155826)]"
      ]
     },
     "execution_count": 145,
     "metadata": {},
     "output_type": "execute_result"
    }
   ],
   "source": [
    "plural = emb('forests') - emb('forest')\n",
    "find_nearest(emb('car') + plural, nr=1)\n"
   ]
  },
  {
   "cell_type": "code",
   "execution_count": 80,
   "metadata": {},
   "outputs": [
    {
     "data": {
      "text/plain": [
       "array([24, 24,  0,  0, 18, 18], dtype=int32)"
      ]
     },
     "execution_count": 80,
     "metadata": {},
     "output_type": "execute_result"
    }
   ],
   "source": [
    "kmeans = sklearn.cluster.KMeans(n_clusters=25).fit(vecs)\n",
    "kmeans.predict([emb('king'), emb('queen'), emb('man'), emb('woman'), emb('car'), emb('motorcycle')])"
   ]
  },
  {
   "cell_type": "code",
   "execution_count": null,
   "metadata": {},
   "outputs": [],
   "source": []
  }
 ],
 "metadata": {
  "kernelspec": {
   "display_name": "Python 3",
   "language": "python",
   "name": "python3"
  },
  "language_info": {
   "codemirror_mode": {
    "name": "ipython",
    "version": 3
   },
   "file_extension": ".py",
   "mimetype": "text/x-python",
   "name": "python",
   "nbconvert_exporter": "python",
   "pygments_lexer": "ipython3",
   "version": "3.5.2"
  }
 },
 "nbformat": 4,
 "nbformat_minor": 2
}
