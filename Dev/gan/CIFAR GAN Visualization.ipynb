{
 "cells": [
  {
   "cell_type": "code",
   "execution_count": null,
   "metadata": {},
   "outputs": [],
   "source": [
    "import random\n",
    "import matplotlib.pyplot as plt\n",
    "import numpy as np\n",
    "import tensorflow as tf\n",
    "import keras\n",
    "import keras.backend as K\n",
    "\n",
    "tf.logging.set_verbosity(tf.logging.ERROR)"
   ]
  },
  {
   "cell_type": "code",
   "execution_count": null,
   "metadata": {},
   "outputs": [],
   "source": [
    "def rounded_binary_accuracy(y_true, y_pred):\n",
    "    return K.mean(K.equal(K.round(y_true), K.round(y_pred)), axis=-1)\n",
    "\n",
    "generator = keras.models.load_model(\"DCGAN-Horses_generator-80k.h5\",\n",
    "    custom_objects={'rounded_binary_accuracy': rounded_binary_accuracy})\n",
    "generator.summary()"
   ]
  },
  {
   "cell_type": "code",
   "execution_count": null,
   "metadata": {},
   "outputs": [],
   "source": [
    "r, c = 6,6\n",
    "latent_dim = 32\n",
    "\n",
    "noise = np.random.normal(0, 1, (r * c, latent_dim))\n",
    "gen_imgs = generator.predict(noise)\n",
    "gen_imgs = 0.5 * gen_imgs + 0.5\n",
    "\n",
    "(X_train, Y_train), (X_test, Y_test) = keras.datasets.cifar10.load_data() #(label_mode='fine')\n",
    "        \n",
    "X_train = np.append(X_train, X_test, axis=0)\n",
    "Y_train = np.append(Y_train, Y_test, axis=0)\n",
    "        \n",
    "X_train = X_train[Y_train.flatten() == 7]\n",
    "#X_train = X_train / 127.5 - 1.0\n",
    "\n",
    "idx = random.sample(range(len(X_train)), r*c)\n",
    "\n",
    "plt.figure(figsize=(12,12))\n",
    "cnt=0\n",
    "for i in range(r):\n",
    "    for j in range(c):\n",
    "        plt.subplot(r,c,cnt+1)\n",
    "        if cnt%2 == 0:\n",
    "            plt.imshow(X_train[idx[cnt], :,:,:])\n",
    "#            plt.imshow(gen_imgs[cnt, :,:,:])\n",
    "        else:\n",
    "            plt.imshow(gen_imgs[cnt, :,:,:])\n",
    "        plt.axis('off')\n",
    "        cnt += 1\n",
    "        \n",
    "\n",
    "plt.show()\n"
   ]
  },
  {
   "cell_type": "code",
   "execution_count": null,
   "metadata": {},
   "outputs": [],
   "source": []
  }
 ],
 "metadata": {
  "kernelspec": {
   "display_name": "Python 3",
   "language": "python",
   "name": "python3"
  },
  "language_info": {
   "codemirror_mode": {
    "name": "ipython",
    "version": 3
   },
   "file_extension": ".py",
   "mimetype": "text/x-python",
   "name": "python",
   "nbconvert_exporter": "python",
   "pygments_lexer": "ipython3",
   "version": "3.5.2"
  }
 },
 "nbformat": 4,
 "nbformat_minor": 2
}
