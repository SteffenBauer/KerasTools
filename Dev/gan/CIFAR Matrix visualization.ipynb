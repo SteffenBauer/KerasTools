{
 "cells": [
  {
   "cell_type": "code",
   "execution_count": null,
   "metadata": {},
   "outputs": [],
   "source": [
    "import sys\n",
    "import random\n",
    "import ipywidgets\n",
    "from io import BytesIO\n",
    "import matplotlib.pyplot as plt\n",
    "import skimage\n",
    "import numpy as np\n",
    "import tensorflow as tf\n",
    "import keras\n",
    "import keras.backend as K\n",
    "\n",
    "tf.logging.set_verbosity(tf.logging.ERROR)"
   ]
  },
  {
   "cell_type": "code",
   "execution_count": null,
   "metadata": {},
   "outputs": [],
   "source": [
    "(X_train, Y_train), (X_test, Y_test) = keras.datasets.cifar10.load_data()\n",
    "X_train = np.append(X_train, X_test, axis=0)\n",
    "Y_train = np.append(Y_train, Y_test, axis=0)\n",
    "X_train = X_train[Y_train.flatten() == 7]\n",
    "\n",
    "r, c = 6, 12\n",
    "idx = random.sample(range(len(X_train)), r*c)\n",
    "plt.figure(figsize=(16,8))\n",
    "cnt=0\n",
    "for i in range(r):\n",
    "    for j in range(c):\n",
    "        plt.subplot(r,c,cnt+1)\n",
    "        plt.imshow(X_train[idx[cnt], :,:,:])\n",
    "        plt.axis('off')\n",
    "        cnt += 1\n",
    "plt.show()"
   ]
  },
  {
   "cell_type": "code",
   "execution_count": null,
   "metadata": {},
   "outputs": [],
   "source": []
  }
 ],
 "metadata": {
  "kernelspec": {
   "display_name": "Python 3",
   "language": "python",
   "name": "python3"
  },
  "language_info": {
   "codemirror_mode": {
    "name": "ipython",
    "version": 3
   },
   "file_extension": ".py",
   "mimetype": "text/x-python",
   "name": "python",
   "nbconvert_exporter": "python",
   "pygments_lexer": "ipython3",
   "version": "3.5.2"
  }
 },
 "nbformat": 4,
 "nbformat_minor": 2
}
