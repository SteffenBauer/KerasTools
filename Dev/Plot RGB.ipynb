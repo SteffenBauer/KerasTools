{
 "cells": [
  {
   "cell_type": "code",
   "execution_count": 1,
   "metadata": {},
   "outputs": [],
   "source": [
    "import numpy as np\n",
    "import matplotlib.pyplot as plt\n",
    "%matplotlib inline"
   ]
  },
  {
   "cell_type": "code",
   "execution_count": 18,
   "metadata": {},
   "outputs": [
    {
     "data": {
      "image/png": "[encoded data removed]",
      "text/plain": [
       "<Figure size 432x288 with 1 Axes>"
      ]
     },
     "metadata": {
      "needs_background": "light"
     },
     "output_type": "display_data"
    }
   ],
   "source": [
    "a = np.zeros((10,10,3))\n",
    "a[:,:,0] = 0.0\n",
    "a[0,0,0] = 1.0\n",
    "a[1,1,1] = 1.0\n",
    "a[2,2,2] = 1.0\n",
    "a[3,3,0] = 1.0\n",
    "a[3,3,1] = 1.0\n",
    "a[4,4,0] = 1.0\n",
    "a[4,4,2] = 1.0\n",
    "a[5,5,1] = 1.0\n",
    "a[5,5,2] = 1.0\n",
    "a[6,6,0:3] = 1.0\n",
    "#a[6,6,1] = 1.0\n",
    "#a[6,6,2] = 1.0\n",
    "plt.imshow(a)\n",
    "plt.show()"
   ]
  },
  {
   "cell_type": "code",
   "execution_count": null,
   "metadata": {},
   "outputs": [],
   "source": []
  }
 ],
 "metadata": {
  "kernelspec": {
   "display_name": "Python 2",
   "language": "python",
   "name": "python2"
  },
  "language_info": {
   "codemirror_mode": {
    "name": "ipython",
    "version": 2
   },
   "file_extension": ".py",
   "mimetype": "text/x-python",
   "name": "python",
   "nbconvert_exporter": "python",
   "pygments_lexer": "ipython2",
   "version": "2.7.12"
  }
 },
 "nbformat": 4,
 "nbformat_minor": 2
}
