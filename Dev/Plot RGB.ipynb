{
 "cells": [
  {
   "cell_type": "code",
   "execution_count": null,
   "metadata": {},
   "outputs": [],
   "source": [
    "import PIL.Image\n",
    "import io\n",
    "import ipywidgets\n",
    "import numpy as np"
   ]
  },
  {
   "cell_type": "code",
   "execution_count": null,
   "metadata": {},
   "outputs": [],
   "source": [
    "a = np.zeros((1,8,3))\n",
    "\n",
    "a[0,0,:] = (1,0,0)\n",
    "a[0,1,:] = (0,1,0)\n",
    "a[0,2,:] = (0,0,1)\n",
    "a[0,3,:] = (1,1,0)\n",
    "a[0,4,:] = (1,0,1)\n",
    "a[0,5,:] = (0,1,1)\n",
    "a[0,6,:] = (1,1,1)\n",
    "a[0,7,:] = (0,0,0)\n",
    "\n",
    "img = ipywidgets.Image()\n",
    "with io.BytesIO() as buf:\n",
    "    a *= 255\n",
    "    PIL.Image.fromarray(a.astype('uint8')).resize((512, 64)).save(buf, 'gif')\n",
    "    img.value = buf.getvalue()\n",
    "display(img)"
   ]
  },
  {
   "cell_type": "code",
   "execution_count": null,
   "metadata": {},
   "outputs": [],
   "source": []
  }
 ],
 "metadata": {
  "kernelspec": {
   "display_name": "Python 2",
   "language": "python",
   "name": "python2"
  },
  "language_info": {
   "codemirror_mode": {
    "name": "ipython",
    "version": 3
   },
   "file_extension": ".py",
   "mimetype": "text/x-python",
   "name": "python",
   "nbconvert_exporter": "python",
   "pygments_lexer": "ipython3",
   "version": "3.5.2"
  }
 },
 "nbformat": 4,
 "nbformat_minor": 2
}
