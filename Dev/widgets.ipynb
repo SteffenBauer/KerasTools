{
 "cells": [
  {
   "cell_type": "code",
   "execution_count": null,
   "metadata": {},
   "outputs": [],
   "source": [
    "import ipywidgets\n",
    "import ipyevents\n",
    "import bqplot, bqplot.pyplot\n",
    "import PIL, io, PIL.Image, PIL.ImageDraw\n",
    "import numpy as np"
   ]
  },
  {
   "cell_type": "code",
   "execution_count": null,
   "metadata": {},
   "outputs": [],
   "source": [
    "text = ipywidgets.widgets.Text()\n",
    "display(text)\n",
    "def handle_submit(sender):\n",
    "    print(\"Got the text {} from {}\".format(text.value, sender))\n",
    "text.on_submit(handle_submit)\n"
   ]
  },
  {
   "cell_type": "code",
   "execution_count": null,
   "metadata": {},
   "outputs": [],
   "source": [
    "button = ipywidgets.widgets.Button(description = \"Click\")\n",
    "display(button)\n",
    "def on_button_clicked(b):\n",
    "    print(\"Button clicked: {}\".format(b))\n",
    "button.on_click(on_button_clicked)"
   ]
  },
  {
   "cell_type": "code",
   "execution_count": null,
   "metadata": {},
   "outputs": [],
   "source": [
    "radiobutton = ipywidgets.widgets.RadioButtons(options=['Undef', 'Good', 'Bad'])\n",
    "display(radiobutton)\n",
    "def on_radio_change(r):\n",
    "    print(\"Radio button state now: {}\".format(r['new']))\n",
    "radiobutton.observe(on_radio_change, 'value')"
   ]
  },
  {
   "cell_type": "code",
   "execution_count": null,
   "metadata": {},
   "outputs": [],
   "source": [
    "def f(x):\n",
    "    print(x)\n",
    "    return 20*x\n",
    "\n",
    "a = ipywidgets.interact(f, x=10)"
   ]
  },
  {
   "cell_type": "code",
   "execution_count": null,
   "metadata": {},
   "outputs": [],
   "source": [
    "a = np.zeros((1,8,3))\n",
    "\n",
    "a[0,0,:] = (1,0,0)\n",
    "a[0,1,:] = (0,1,0)\n",
    "a[0,2,:] = (0,0,1)\n",
    "a[0,3,:] = (1,1,0)\n",
    "a[0,4,:] = (1,0,1)\n",
    "a[0,5,:] = (0,1,1)\n",
    "a[0,6,:] = (1,1,1)\n",
    "a[0,7,:] = (0,0,0)\n",
    "\n",
    "img = ipywidgets.Image()\n",
    "with io.BytesIO() as buf:\n",
    "    a *= 255\n",
    "    PIL.Image.fromarray(a.astype('uint8')).resize((512, 64)).save(buf, 'gif')\n",
    "    img.value = buf.getvalue()\n",
    "display(img)"
   ]
  },
  {
   "cell_type": "code",
   "execution_count": null,
   "metadata": {
    "scrolled": false
   },
   "outputs": [],
   "source": [
    "canvas = PIL.Image.new('RGB', (256, 256), color='white')\n",
    "draw = PIL.ImageDraw.Draw(canvas)\n",
    "buf = io.BytesIO()\n",
    "\n",
    "img = ipywidgets.Image()\n",
    "img.layout.border = '1px solid black'\n",
    "\n",
    "im_events = ipyevents.Event()\n",
    "im_events.source = img\n",
    "im_events.watched_events = ['mousemove', 'mousedown', 'mouseup']\n",
    "no_drag = ipyevents.Event(source=img, watched_events=['dragstart'], prevent_default_action = True)\n",
    "\n",
    "button_clear = ipywidgets.Button(description = 'Clear')\n",
    "\n",
    "def paint_frame():\n",
    "    canvas.save(buf, 'png')\n",
    "    buf.seek(0)\n",
    "    img.value = buf.getvalue()\n",
    "    \n",
    "paint_frame()\n",
    "\n",
    "do_draw = False\n",
    "def print_coords(event):\n",
    "    global do_draw\n",
    "    if event['type'] == 'mousedown':\n",
    "        do_draw = True      \n",
    "    elif event['type'] == 'mouseup':\n",
    "        do_draw = False\n",
    "    elif event['type'] == 'mousemove' and do_draw:\n",
    "        x,y = event['dataX'], event['dataY']\n",
    "        draw.ellipse([x-5,y-5,x+5,y+5], outline='black', fill='black')\n",
    "        paint_frame()\n",
    "im_events.on_dom_event(print_coords)\n",
    "\n",
    "def clear_canvas(event):\n",
    "    draw.rectangle([0,0,255,255], fill='white')\n",
    "    paint_frame()\n",
    "    \n",
    "button_clear.on_click(clear_canvas)\n",
    "\n",
    "display(img)\n",
    "display(button_clear)"
   ]
  },
  {
   "cell_type": "code",
   "execution_count": null,
   "metadata": {},
   "outputs": [],
   "source": []
  }
 ],
 "metadata": {
  "kernelspec": {
   "display_name": "Python 2",
   "language": "python",
   "name": "python2"
  },
  "language_info": {
   "codemirror_mode": {
    "name": "ipython",
    "version": 3
   },
   "file_extension": ".py",
   "mimetype": "text/x-python",
   "name": "python",
   "nbconvert_exporter": "python",
   "pygments_lexer": "ipython3",
   "version": "3.5.2"
  }
 },
 "nbformat": 4,
 "nbformat_minor": 2
}
