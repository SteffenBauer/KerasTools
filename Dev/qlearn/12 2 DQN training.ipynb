{
 "cells": [
  {
   "cell_type": "code",
   "execution_count": null,
   "metadata": {},
   "outputs": [],
   "source": [
    "import time, threading, collections, io\n",
    "\n",
    "import ipywidgets\n",
    "import PIL.Image\n",
    "\n",
    "import numpy as np\n",
    "import keras\n",
    "import tensorflow as tf\n",
    "tf.logging.set_verbosity(tf.logging.ERROR)\n",
    "\n",
    "import agent, memory, callbacks, catch, snake, tromis"
   ]
  },
  {
   "cell_type": "code",
   "execution_count": null,
   "metadata": {},
   "outputs": [],
   "source": [
    "stopEvent = threading.Event()\n",
    "currentGame = collections.deque([], 1)\n",
    "class GamePlot(threading.Thread):\n",
    "    def __init__(self, ratio=1.0):\n",
    "        threading.Thread.__init__(self, name=\"GamePlot\")\n",
    "        self.ratio=ratio\n",
    "        self.imbuf = io.BytesIO()\n",
    "        self.img = ipywidgets.Image(width=int(ratio*256), height=256)\n",
    "        display(self.img)\n",
    "        self.plot_frame(np.zeros((2,2), np.uint8))\n",
    "    def run(self):\n",
    "        while not stopEvent.isSet():\n",
    "            try: game = currentGame.pop()\n",
    "            except IndexError: time.sleep(0.1)\n",
    "            else:\n",
    "                for frame in game:\n",
    "                    self.plot_frame(frame)\n",
    "                    time.sleep(0.1)\n",
    "                time.sleep(0.5)\n",
    "    def plot_frame(self, frame):\n",
    "        self.imbuf.seek(0)\n",
    "        frame *= 255\n",
    "        PIL.Image.fromarray(frame.astype('uint8')).\\\n",
    "                  resize((int(self.ratio*256), 256)).\\\n",
    "                  save(self.imbuf, 'png')\n",
    "        self.img.value = self.imbuf.getvalue()\n",
    "        \n",
    "class GameStore(callbacks.Callback):\n",
    "    def __init__(self, ratio=1.0):\n",
    "        currentGame.append([])\n",
    "        self.plotter = GamePlot(ratio)\n",
    "        self.plotter.start()\n",
    "    def game_start(self, frame):\n",
    "        self.gamestore = [frame]\n",
    "    def game_frame(self, frame):\n",
    "        self.gamestore.append(frame)\n",
    "    def game_over(self):\n",
    "        currentGame.append(self.gamestore)"
   ]
  },
  {
   "cell_type": "code",
   "execution_count": null,
   "metadata": {},
   "outputs": [],
   "source": [
    "grid_size, width, height, nb_frames = 16, 16, 16, 1\n",
    "game = catch.Catch(grid_size)\n",
    "\n",
    "#grid_size, width, height, nb_frames = 8, 8, 8, 2\n",
    "#game = snake.Snake(grid_size)\n",
    "\n",
    "#width, height, nb_frames = 5, 8, 2\n",
    "#game = tromis.Tromis(width=width, height=height)\n",
    "\n",
    "cs = 16\n",
    "inpc = keras.layers.Input(shape=(height, width, 3), name='conv_input')\n",
    "conv1 = keras.layers.Conv2D(cs,3,padding='same',strides=2,activation='relu', name='conv1')(inpc)\n",
    "conv2 = keras.layers.Conv2D(cs*2,3,padding='same',strides=2,activation='relu', name='conv2')(conv1)\n",
    "#conv3 = keras.layers.Conv2D(cs*4,3,padding='same',strides=2,activation='relu', name='conv3')(conv2)\n",
    "#conv4 = keras.layers.Conv2D(cs*8,3,padding='same',strides=2,activation='relu', name='conv4')(conv3)\n",
    "flat = keras.layers.Flatten(name='flatten')(conv2)\n",
    "convm = keras.models.Model(inputs=inpc, outputs=flat, name='CONV_BASE')\n",
    "convm.summary()\n",
    "\n",
    "ls = cs\n",
    "inp = keras.layers.Input(shape=(nb_frames, height, width, 3), name='state_input')\n",
    "x = keras.layers.TimeDistributed(convm, name='conv_distributed')(inp)\n",
    "x = keras.layers.SimpleRNN(ls, return_sequences=False, name='rnn')(x)\n",
    "#x = keras.layers.Dense(ls, activation='relu', name='dense1')(x)\n",
    "act = keras.layers.Dense(game.nb_actions, activation='linear', name='actions')(x)\n",
    "\n",
    "model = keras.models.Model(inputs=inp, outputs=act, name='DQN')\n",
    "model.compile(keras.optimizers.adam(), 'mse')\n",
    "model.summary()\n",
    "\n",
    "m = memory.UniqMemory(memory_size=65536)\n",
    "a = agent.Agent(model=model, mem=m, num_frames = nb_frames)\n",
    "initial_epoch=0"
   ]
  },
  {
   "cell_type": "code",
   "execution_count": null,
   "metadata": {},
   "outputs": [],
   "source": [
    "%%time\n",
    "#game.max_turn=64\n",
    "stopEvent.clear()\n",
    "a.train(game, batch_size=32, epochs=initial_epoch + 10, initial_epoch=initial_epoch,\n",
    "            train_interval=32, episodes=256, gamma=0.98, reset_memory=False, \n",
    "            epsilon=[1.0 if initial_epoch == 0 else 0.0, 0.0], epsilon_rate=0.25, verbose=2,\n",
    "            callbacks = [GameStore(ratio=width/height)])\n",
    "stopEvent.set()\n",
    "initial_epoch += 10\n",
    "print()"
   ]
  },
  {
   "cell_type": "code",
   "execution_count": null,
   "metadata": {},
   "outputs": [],
   "source": []
  }
 ],
 "metadata": {
  "kernelspec": {
   "display_name": "Python 3",
   "language": "python",
   "name": "python3"
  },
  "language_info": {
   "codemirror_mode": {
    "name": "ipython",
    "version": 3
   },
   "file_extension": ".py",
   "mimetype": "text/x-python",
   "name": "python",
   "nbconvert_exporter": "python",
   "pygments_lexer": "ipython3",
   "version": "3.5.2"
  }
 },
 "nbformat": 4,
 "nbformat_minor": 2
}
