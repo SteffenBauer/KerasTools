{
 "cells": [
  {
   "cell_type": "code",
   "execution_count": null,
   "metadata": {},
   "outputs": [],
   "source": [
    "import os, sys\n",
    "import ipywidgets\n",
    "from io import BytesIO\n",
    "import matplotlib.pyplot as plt\n",
    "import skimage\n",
    "import time\n",
    "import snake"
   ]
  },
  {
   "cell_type": "code",
   "execution_count": null,
   "metadata": {},
   "outputs": [],
   "source": [
    "button_ly = ipywidgets.Layout(width='34px', height='30px', border='1px solid black')\n",
    "button_st = ipywidgets.ButtonStyle(font_weight='bold', button_color='yellow')\n",
    "\n",
    "bleft = ipywidgets.Button(layout=button_ly, style=button_st, icon='arrow-left')\n",
    "bright = ipywidgets.Button(layout=button_ly, style=button_st, icon='arrow-right')\n",
    "bstay = ipywidgets.Button(layout=button_ly, style=button_st, icon='dot-circle-o')\n",
    "\n",
    "lt = ipywidgets.Layout(width='68px', height='30px', border='1px solid black')\n",
    "stt = ipywidgets.ButtonStyle(font_weight='bold', button_color='green')\n",
    "bnew = ipywidgets.Button(layout=lt, style=stt, description = 'New')\n",
    "stat = ipywidgets.HTML(layout=lt)\n",
    "\n",
    "ls = ipywidgets.Layout(width='34px', height='30px', border=None)\n",
    "bs = ipywidgets.Label(layout=ls)\n",
    "    \n",
    "bx = ipywidgets.HBox([bnew, bleft, bstay, bright, stat])\n",
    "img = ipywidgets.Image()\n",
    "game = snake.Snake(max_turn=None)\n",
    "\n",
    "total_score = 0\n",
    "def plot_game(frame):\n",
    "    imbuf = BytesIO()\n",
    "    f = skimage.transform.resize(frame,(256,256), order=0, mode='constant', anti_aliasing=False)\n",
    "    plt.imsave(imbuf, f)\n",
    "    imbuf.seek(0)           \n",
    "    img.value = imbuf.getvalue()\n",
    "\n",
    "def onButtonClicked(args):\n",
    "    global total_score\n",
    "    if args.description == 'New':\n",
    "        game.reset()\n",
    "        stat.value = \"\"\n",
    "        total_score = 0\n",
    "    elif not game.is_over():\n",
    "        action = {'arrow-left': 0, 'arrow-right': 1, 'dot-circle-o': 2 }\n",
    "        game.play(action[args.icon])\n",
    "        current_reward = game.get_score()\n",
    "        total_score += current_reward\n",
    "        stat.value = \"<center><big><b>{}/{}\".format(current_reward, total_score)\n",
    "    \n",
    "    plot_game(game.get_frame())\n",
    "\n",
    "bleft.on_click(onButtonClicked)\n",
    "bright.on_click(onButtonClicked)\n",
    "bstay.on_click(onButtonClicked)\n",
    "bnew.on_click(onButtonClicked)\n",
    "\n",
    "display(img)\n",
    "display(bx)\n",
    "plot_game(game.get_frame())"
   ]
  },
  {
   "cell_type": "code",
   "execution_count": null,
   "metadata": {},
   "outputs": [],
   "source": []
  }
 ],
 "metadata": {
  "kernelspec": {
   "display_name": "Python 3",
   "language": "python",
   "name": "python3"
  },
  "language_info": {
   "codemirror_mode": {
    "name": "ipython",
    "version": 3
   },
   "file_extension": ".py",
   "mimetype": "text/x-python",
   "name": "python",
   "nbconvert_exporter": "python",
   "pygments_lexer": "ipython3",
   "version": "3.5.2"
  }
 },
 "nbformat": 4,
 "nbformat_minor": 2
}
