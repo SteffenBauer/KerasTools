{
 "cells": [
  {
   "cell_type": "code",
   "execution_count": null,
   "metadata": {},
   "outputs": [],
   "source": [
    "import io\n",
    "import time\n",
    "import ipywidgets\n",
    "import PIL.Image\n",
    "import fruit"
   ]
  },
  {
   "cell_type": "code",
   "execution_count": null,
   "metadata": {},
   "outputs": [],
   "source": [
    "button_ly = ipywidgets.Layout(width='34px', height='30px', border='1px solid black')\n",
    "\n",
    "bleft_st = ipywidgets.ButtonStyle(font_weight='bold', button_color='yellow')\n",
    "bleft = ipywidgets.Button(layout=button_ly, style=bleft_st, icon='arrow-left')\n",
    "\n",
    "bright_st = ipywidgets.ButtonStyle(font_weight='bold', button_color='yellow')\n",
    "bright = ipywidgets.Button(layout=button_ly, style=bright_st, icon='arrow-right')\n",
    "\n",
    "bup_st = ipywidgets.ButtonStyle(font_weight='bold', button_color='yellow')\n",
    "bup = ipywidgets.Button(layout=button_ly, style=bup_st, icon='arrow-up')\n",
    "\n",
    "bdown_st = ipywidgets.ButtonStyle(font_weight='bold', button_color='yellow')\n",
    "bdown = ipywidgets.Button(layout=button_ly, style=bdown_st, icon='arrow-down')\n",
    "\n",
    "lt = ipywidgets.Layout(width='68px', height='30px', border='1px solid black')\n",
    "stt = ipywidgets.ButtonStyle(font_weight='bold', button_color='green')\n",
    "bnew = ipywidgets.Button(layout=lt, style=stt, description = 'New')\n",
    "stat = ipywidgets.HTML(layout=lt)\n",
    "\n",
    "bx = ipywidgets.HBox([bnew, bleft, bright, bup, bdown, stat])\n",
    "\n",
    "img = ipywidgets.Image()\n",
    "game = fruit.Fruit(grid_size=12, with_poison=True)\n",
    "\n",
    "def plot_game(frame):\n",
    "    imbuf = io.BytesIO()\n",
    "    frame *= 255\n",
    "    PIL.Image.fromarray(frame.astype('uint8')).resize((256, 256)).save(imbuf, 'bmp')\n",
    "    img.value = imbuf.getvalue()\n",
    "\n",
    "def onButtonClicked(args):\n",
    "    if args.description == 'New':\n",
    "        game.reset()\n",
    "        stat.value = \"\"\n",
    "    elif not game.is_over():\n",
    "        args.style.button_color = 'red'   \n",
    "        time.sleep(0.1)\n",
    "        args.style.button_color = 'yellow'\n",
    "        action = {'arrow-left': 0, 'arrow-right': 1, 'arrow-up': 2, 'arrow-down':3}\n",
    "        game.play(action[args.icon])\n",
    "    stat.value = \"<center><big><b>R: {}\".format(str(game.get_score()))    \n",
    "    plot_game(game.get_frame())\n",
    "\n",
    "bleft.on_click(onButtonClicked)\n",
    "bright.on_click(onButtonClicked)\n",
    "bup.on_click(onButtonClicked)\n",
    "bdown.on_click(onButtonClicked)\n",
    "bnew.on_click(onButtonClicked)\n",
    "\n",
    "display(img)\n",
    "display(bx)\n",
    "plot_game(game.get_frame())"
   ]
  },
  {
   "cell_type": "code",
   "execution_count": null,
   "metadata": {},
   "outputs": [],
   "source": []
  }
 ],
 "metadata": {
  "kernelspec": {
   "display_name": "Python 3",
   "language": "python",
   "name": "python3"
  },
  "language_info": {
   "codemirror_mode": {
    "name": "ipython",
    "version": 3
   },
   "file_extension": ".py",
   "mimetype": "text/x-python",
   "name": "python",
   "nbconvert_exporter": "python",
   "pygments_lexer": "ipython3",
   "version": "3.5.3"
  }
 },
 "nbformat": 4,
 "nbformat_minor": 2
}
