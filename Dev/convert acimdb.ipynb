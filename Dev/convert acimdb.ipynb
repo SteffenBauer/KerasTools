{
 "cells": [
  {
   "cell_type": "code",
   "execution_count": null,
   "metadata": {},
   "outputs": [],
   "source": [
    "import glob"
   ]
  },
  {
   "cell_type": "code",
   "execution_count": null,
   "metadata": {},
   "outputs": [],
   "source": [
    "test_positive = []\n",
    "for f in glob.glob('./test/pos/*.txt'):\n",
    "    with open(f, 'r') as fp:\n",
    "        line = fp.read()\n",
    "        test_positive.append(line)\n",
    "test_negative = []\n",
    "for f in glob.glob('./test/neg/*.txt'):\n",
    "    with open(f, 'r') as fp:\n",
    "        line = fp.read()\n",
    "        test_negative.append(line)\n",
    "train_positive = []\n",
    "for f in glob.glob('./train/pos/*.txt'):\n",
    "    with open(f, 'r') as fp:\n",
    "        line = fp.read()\n",
    "        train_positive.append(line)\n",
    "train_negative = []\n",
    "for f in glob.glob('./train/neg/*.txt'):\n",
    "    with open(f, 'r') as fp:\n",
    "        line = fp.read()\n",
    "        train_negative.append(line)\n",
    "        "
   ]
  },
  {
   "cell_type": "code",
   "execution_count": null,
   "metadata": {},
   "outputs": [],
   "source": [
    "train_negative[0]"
   ]
  },
  {
   "cell_type": "code",
   "execution_count": null,
   "metadata": {},
   "outputs": [],
   "source": [
    "import string\n",
    "string.ascii_lowercase + ' '"
   ]
  },
  {
   "cell_type": "code",
   "execution_count": null,
   "metadata": {},
   "outputs": [],
   "source": [
    "with open('test.dat', 'w') as fp:\n",
    "    for t in test_negative:\n",
    "        l = t.lower()\n",
    "        r = filter(lambda c: c in string.ascii_lowercase + ' ', l)\n",
    "        fp.write(\"0, \"+r+\"\\n\")\n",
    "    for t in test_positive:\n",
    "        l = t.lower()\n",
    "        r = filter(lambda c: c in string.ascii_lowercase + ' ', l)\n",
    "        fp.write(\"1, \"+r+\"\\n\")\n",
    "    "
   ]
  },
  {
   "cell_type": "code",
   "execution_count": null,
   "metadata": {},
   "outputs": [],
   "source": [
    "with open('train.dat', 'w') as fp:\n",
    "    for t in train_negative:\n",
    "        l = t.lower()\n",
    "        r = filter(lambda c: c in string.ascii_lowercase + ' ', l)\n",
    "        fp.write(\"0, \"+r+\"\\n\")\n",
    "    for t in train_positive:\n",
    "        l = t.lower()\n",
    "        r = filter(lambda c: c in string.ascii_lowercase + ' ', l)\n",
    "        fp.write(\"1, \"+r+\"\\n\")"
   ]
  },
  {
   "cell_type": "code",
   "execution_count": null,
   "metadata": {},
   "outputs": [],
   "source": []
  }
 ],
 "metadata": {
  "kernelspec": {
   "display_name": "Python 2",
   "language": "python",
   "name": "python2"
  },
  "language_info": {
   "codemirror_mode": {
    "name": "ipython",
    "version": 2
   },
   "file_extension": ".py",
   "mimetype": "text/x-python",
   "name": "python",
   "nbconvert_exporter": "python",
   "pygments_lexer": "ipython2",
   "version": "2.7.12"
  }
 },
 "nbformat": 4,
 "nbformat_minor": 2
}
