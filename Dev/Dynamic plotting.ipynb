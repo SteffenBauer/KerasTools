{
 "cells": [
  {
   "cell_type": "code",
   "execution_count": null,
   "metadata": {},
   "outputs": [],
   "source": [
    "import bqplot\n",
    "import random\n",
    "import numpy\n",
    "import ipywidgets"
   ]
  },
  {
   "cell_type": "code",
   "execution_count": null,
   "metadata": {},
   "outputs": [],
   "source": [
    "size = 20\n",
    "numpy.random.seed(0)\n",
    "\n",
    "x_data = numpy.arange(size)\n",
    "\n",
    "x_ord = bqplot.OrdinalScale()\n",
    "y_sc = bqplot.LinearScale(min=-5, max=5)\n",
    "line = bqplot.Lines(x=x_data, y=numpy.random.randn(size), scales={'x': x_ord, 'y': y_sc},\n",
    "             stroke_width=3, colors=['red'], display_legend=True, labels=['loss'])\n",
    "ax_x = bqplot.Axis(scale=x_ord, grid_lines='solid', label='X')\n",
    "ax_y = bqplot.Axis(scale=y_sc, orientation='vertical', tick_format='0.2f',\n",
    "            grid_lines='solid', label='Y')\n",
    "\n",
    "fig = bqplot.Figure(marks=[line], legend_location='bottom-right' ,axes=[ax_x, ax_y])"
   ]
  },
  {
   "cell_type": "code",
   "execution_count": null,
   "metadata": {},
   "outputs": [],
   "source": [
    "display(fig)"
   ]
  },
  {
   "cell_type": "code",
   "execution_count": null,
   "metadata": {},
   "outputs": [],
   "source": [
    "fig.marks[0].y = numpy.random.randn(size)"
   ]
  },
  {
   "cell_type": "code",
   "execution_count": null,
   "metadata": {},
   "outputs": [],
   "source": [
    "fig1 = bqplot.Figure(\n",
    "    marks=[bqplot.Lines(x=x_data, y=numpy.random.randn(size), \n",
    "                        scales={'y': bqplot.LinearScale(),\n",
    "                                'x': bqplot.LinearScale()})])\n",
    "fig2 = bqplot.Figure(\n",
    "    marks=[bqplot.Lines(x=x_data, y=numpy.random.randn(size), colors=['darkorange'],\n",
    "                        scales={'y': bqplot.LinearScale(),\n",
    "                                'x': bqplot.LinearScale()})])\n"
   ]
  },
  {
   "cell_type": "code",
   "execution_count": null,
   "metadata": {},
   "outputs": [],
   "source": [
    "display(ipywidgets.HBox([fig1, fig2]))"
   ]
  },
  {
   "cell_type": "code",
   "execution_count": null,
   "metadata": {},
   "outputs": [],
   "source": [
    "fig2.marks[0].y = numpy.random.randn(size)"
   ]
  },
  {
   "cell_type": "code",
   "execution_count": null,
   "metadata": {},
   "outputs": [],
   "source": [
    "import keras\n",
    "import PIL\n",
    "import io\n",
    "import ipywidgets\n",
    "(train_images, train_labels), (test_images, test_labels) = keras.datasets.cifar10.load_data()\n",
    "(x_tr, y_tr), (x_te, y_te) = keras.datasets.mnist.load_data()\n",
    "def array_to_ipyvalue(a, width=None, height=None):\n",
    "    with io.BytesIO() as buf:\n",
    "        im = PIL.Image.fromarray(a)\n",
    "        if width is not None and height is not None:\n",
    "            im = im.resize((width, height))\n",
    "        im.save(buf, 'gif')\n",
    "        return buf.getvalue()"
   ]
  },
  {
   "cell_type": "code",
   "execution_count": null,
   "metadata": {},
   "outputs": [],
   "source": [
    "img1 = ipywidgets.Image(value=array_to_ipyvalue(x_tr[8], 128, 128))\n",
    "img2 = ipywidgets.Image(value=array_to_ipyvalue(x_tr[7], 128, 128))\n",
    "img3 = ipywidgets.Image(value=array_to_ipyvalue(train_images[20], 128, 128))"
   ]
  },
  {
   "cell_type": "code",
   "execution_count": null,
   "metadata": {},
   "outputs": [],
   "source": [
    "display(ipywidgets.HBox([img1, img2, img3]))"
   ]
  },
  {
   "cell_type": "code",
   "execution_count": null,
   "metadata": {},
   "outputs": [],
   "source": [
    "img3.value=array_to_ipyvalue(train_images[4], 128, 128)"
   ]
  },
  {
   "cell_type": "code",
   "execution_count": null,
   "metadata": {},
   "outputs": [],
   "source": []
  }
 ],
 "metadata": {
  "kernelspec": {
   "display_name": "Python 3",
   "language": "python",
   "name": "python3"
  },
  "language_info": {
   "codemirror_mode": {
    "name": "ipython",
    "version": 3
   },
   "file_extension": ".py",
   "mimetype": "text/x-python",
   "name": "python",
   "nbconvert_exporter": "python",
   "pygments_lexer": "ipython3",
   "version": "3.5.2"
  }
 },
 "nbformat": 4,
 "nbformat_minor": 2
}
