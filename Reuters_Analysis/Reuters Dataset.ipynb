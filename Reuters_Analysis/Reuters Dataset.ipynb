{
 "cells": [
  {
   "cell_type": "code",
   "execution_count": null,
   "metadata": {},
   "outputs": [],
   "source": [
    "import os, sys\n",
    "import keras\n",
    "import numpy as np\n",
    "import collections\n",
    "import statistics\n",
    "\n",
    "import tensorflow as tf\n",
    "import tensorflow.keras as keras\n",
    "\n",
    "tf.get_logger().setLevel('ERROR')"
   ]
  },
  {
   "cell_type": "code",
   "execution_count": null,
   "metadata": {},
   "outputs": [],
   "source": [
    "# Step 1\n",
    "\n",
    "# Load the Reuters dataset, Dataset of 11,228 newswires from Reuters, labeled over 46 topics.\n",
    "# \n",
    "# It is split into training and test set of 8982 / 2246 entries.\n",
    "# The words are tokenized into integer encoding.\n",
    "\n",
    "(train_data, train_labels), (test_data, test_labels) = keras.datasets.reuters.load_data()\n",
    "\n",
    "print(train_data.shape)\n",
    "print(test_data.shape)\n",
    "print(max(len(e) for e in train_data))"
   ]
  },
  {
   "cell_type": "code",
   "execution_count": null,
   "metadata": {},
   "outputs": [],
   "source": [
    "# Step 2\n",
    "\n",
    "# Show raw data of training set entry '0'\n",
    "# train_data: Tokenized newswire entry\n",
    "# train_label: Category of newswire\n",
    "\n",
    "print(\"Raw training entry No 0: {}\".format(train_data[0]))\n",
    "print\n",
    "print(\"Raw training label No 0: '{}'\".format(train_labels[0]))"
   ]
  },
  {
   "cell_type": "code",
   "execution_count": null,
   "metadata": {},
   "outputs": [],
   "source": [
    "# Step 3\n",
    "\n",
    "# Use the tokenizer word encoding dictionary to reconstruct the original review text.\n",
    "#\n",
    "# Note: Tokens 0, 1, and 2 are reserved for 'padding', 'start of sequence', and 'unknown word'\n",
    "\n",
    "raw_word_index = keras.datasets.reuters.get_word_index()\n",
    "word_index = {v+3:k for k,v in raw_word_index.items()}\n",
    "word_index[0] = '-PAD-'\n",
    "word_index[1] = '-START-'\n",
    "word_index[2] = '-UNK-'\n",
    "\n",
    "# Reconstruct train data entry as string\n",
    "entry = 202\n",
    "print(\"Newswire category: {}\".format(train_labels[entry]))\n",
    "print(\" \".join(word_index.get(w, 2) for w in train_data[entry]))"
   ]
  },
  {
   "cell_type": "code",
   "execution_count": null,
   "metadata": {},
   "outputs": [],
   "source": [
    "# Step 4\n",
    "\n",
    "# Sort newswire texts according to class labels\n",
    "# and print all of a certain category\n",
    "\n",
    "category = 5\n",
    "\n",
    "train_elabels = [(c, i) for i,c in enumerate(train_labels)]\n",
    "cat = [e[1] for e in filter(lambda x: x[0]==category, train_elabels)]\n",
    "print(\"Number of entries for category {}: {}\".format(category, len(cat)))\n",
    "print()\n",
    "for c in cat:\n",
    "    print(\" \".join(word_index.get(w, 2) for w in train_data[c]))\n",
    "    print()"
   ]
  },
  {
   "cell_type": "code",
   "execution_count": null,
   "metadata": {},
   "outputs": [],
   "source": [
    "# Step 5\n",
    "\n",
    "# Generate statistics over all 46 classes\n",
    "\n",
    "mapping = ['cocoa','grain','veg-oil','earn','acq','wheat','copper','housing','money-supply',\n",
    "           'coffee','sugar','trade','reserves','ship','cotton','carcass','crude','nat-gas',\n",
    "           'cpi','money-fx','interest','gnp','meal-feed','alum','oilseed','gold','tin',\n",
    "           'strategic-metal','livestock','retail','ipi','iron-steel','rubber','heat','jobs',\n",
    "           'lei','bop','zinc','orange','pet-chem','dlr','gas','silver','wpi','hog','lead']\n",
    "\n",
    "train_count = collections.Counter(train_labels)\n",
    "test_count = collections.Counter(test_labels)\n",
    "total_words = [statistics.mean([len(e) for e in train_data[train_labels.flatten() == i]]) for i in range(46)]\n",
    "\n",
    "print(\"{:5s} {:20s} {:5s} {:5s}  {:7s}\".format(\" \"    ,\" \"         , \"Nr of\", \"docs\", \"Mean nr of words\"))\n",
    "print(\"{:5s} {:20s} {:5s}  {:5s} {:7s}\".format(\"Index\",\"Class name\", \"train\", \"test\", \"in train set\"))\n",
    "for i in range(46):\n",
    "    print(\"{:5d} {:20s} {:5d} {:5d}   {:6.2f}\".format(i,mapping[i], train_count[i], test_count[i], total_words[i]))"
   ]
  },
  {
   "cell_type": "code",
   "execution_count": null,
   "metadata": {},
   "outputs": [],
   "source": []
  }
 ],
 "metadata": {
  "kernelspec": {
   "display_name": "Python 3",
   "language": "python",
   "name": "python3"
  },
  "language_info": {
   "codemirror_mode": {
    "name": "ipython",
    "version": 3
   },
   "file_extension": ".py",
   "mimetype": "text/x-python",
   "name": "python",
   "nbconvert_exporter": "python",
   "pygments_lexer": "ipython3",
   "version": "3.5.2"
  }
 },
 "nbformat": 4,
 "nbformat_minor": 2
}
