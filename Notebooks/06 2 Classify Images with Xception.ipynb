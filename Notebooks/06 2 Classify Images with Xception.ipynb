{
 "cells": [
  {
   "cell_type": "code",
   "execution_count": null,
   "metadata": {},
   "outputs": [],
   "source": [
    "import tensorflow as tf\n",
    "tf.logging.set_verbosity(tf.logging.ERROR)\n",
    "\n",
    "from keras.applications import imagenet_utils\n",
    "from keras.applications import xception as network \n",
    "from keras.preprocessing.image import img_to_array\n",
    "from keras.preprocessing.image import load_img\n",
    "import matplotlib.pyplot as plt\n",
    "%matplotlib inline \n",
    "\n",
    "import numpy as np\n",
    "\n",
    "inputShape = (299, 299, 3) # Standard input size for an Xception network\n",
    "\n",
    "print(\"[INFO] loading {}...\".format(network.__name__))\n",
    "model = network.Xception(weights=\"imagenet\")"
   ]
  },
  {
   "cell_type": "code",
   "execution_count": null,
   "metadata": {},
   "outputs": [],
   "source": [
    "# This is the image to be classified with above network\n",
    "image_file = '/tmp/workspace/Pictures/elephants.jpg'\n",
    "\n",
    "print(\"[INFO] loading and pre-processing image...\")\n",
    "\n",
    "# Load the image and display it without any preprocessing\n",
    "raw_image = load_img(image_file)\n",
    "plt.imshow(raw_image)\n",
    "plt.show()\n",
    "\n",
    "# Load the image again, this time perform preprocessing to feed it into the network\n",
    "image = load_img(image_file, target_size=inputShape)\n",
    "image = img_to_array(image)\n",
    "\n",
    "# Transform the image from (299, 299, 3) to (1, 299, 299, 3)\n",
    "# Reason: model.predict expects arrays of images\n",
    "image = np.expand_dims(image, axis=0)\n",
    "\n",
    "# Perform necessary pre-processing on the image array\n",
    "image = network.preprocess_input(image)\n",
    "\n",
    "# Classify the image\n",
    "print(\"[INFO] classifying image {} with {}...\".format(image_file, network.__name__))\n",
    "preds = model.predict(image)\n",
    "\n",
    "# Decode the raw prediction result into array of \n",
    "# (ImageNetID, Description, Probability) sorted by probability\n",
    "P = imagenet_utils.decode_predictions(preds, top=10)\n",
    "\n",
    "results=[{'rank': i+1, 'score': prob*100.0, 'class': np.where(preds == prob)[1][0], 'id': imagenetID, 'label': label}\n",
    "         for (i, (imagenetID, label, prob)) in enumerate(P[0])]\n",
    "\n",
    "print('-' * 60)\n",
    "print(\"{0:>5} |{1:>6}  |{2:>6} | {3:<12}| {4:<32}\".format(\"Rank\", \"Score\", \"Class\", \"ImageNet ID\", \"Label\"))\n",
    "print('-' * 60)\n",
    "for r in results:\n",
    "    print(\"{rank:>5} |{score:>6.2f}% |{class:>6} | {id:<12}| {label:<48}\".format(**r))\n",
    "print('-' * 60)"
   ]
  },
  {
   "cell_type": "code",
   "execution_count": null,
   "metadata": {},
   "outputs": [],
   "source": []
  }
 ],
 "metadata": {
  "kernelspec": {
   "display_name": "Python 3",
   "language": "python",
   "name": "python3"
  },
  "language_info": {
   "codemirror_mode": {
    "name": "ipython",
    "version": 3
   },
   "file_extension": ".py",
   "mimetype": "text/x-python",
   "name": "python",
   "nbconvert_exporter": "python",
   "pygments_lexer": "ipython3",
   "version": "3.5.2"
  }
 },
 "nbformat": 4,
 "nbformat_minor": 2
}
