{
 "cells": [
  {
   "cell_type": "code",
   "execution_count": null,
   "metadata": {},
   "outputs": [],
   "source": [
    "import PIL, io, ipywidgets\n",
    "\n",
    "import keras\n",
    "import keras.applications.imagenet_utils\n",
    "\n",
    "import numpy as np\n",
    "import pandas as pd\n",
    "\n",
    "import tensorflow as tf\n",
    "tf.logging.set_verbosity(tf.logging.ERROR)\n",
    "\n",
    "inputShape = (299, 299, 3) # Standard input size for an Xception network\n",
    "network = keras.applications.xception\n",
    "\n",
    "print(\"[INFO] loading {}...\".format(network.__name__))\n",
    "model = network.Xception(weights=\"imagenet\")\n",
    "preprocess = network.preprocess_input"
   ]
  },
  {
   "cell_type": "code",
   "execution_count": null,
   "metadata": {},
   "outputs": [],
   "source": [
    "# This is the image to be classified with above network\n",
    "image_file = '/tmp/workspace/Pictures/elephants.jpg'\n",
    "\n",
    "print(\"[INFO] loading and pre-processing image...\")\n",
    "\n",
    "# Load the image and display it without any preprocessing\n",
    "orig_image = PIL.Image.open(image_file)\n",
    "buf = io.BytesIO()\n",
    "orig_image.save(buf, format='png')\n",
    "\n",
    "img = ipywidgets.Image(value=buf.getvalue())\n",
    "display(img)\n",
    "\n",
    "# Convert the image to a numpy array to feed it into the network\n",
    "image_array = keras.preprocessing.image.img_to_array(orig_image.resize(inputShape[:2]))\n",
    "\n",
    "# Transform the image from (299, 299, 3) to (1, 299, 299, 3)\n",
    "# Reason: model.predict expects arrays of images\n",
    "image_array = np.expand_dims(image_array, axis=0)\n",
    "\n",
    "# Perform necessary pre-processing on the image array\n",
    "image_array = preprocess(image_array)\n",
    "\n",
    "# Classify the image\n",
    "print(\"[INFO] classifying image {} with {}...\".format(image_file, network.__name__))\n",
    "preds = model.predict(image_array)\n",
    "\n",
    "# Decode the raw prediction result into array of \n",
    "# (ImageNetID, Description, Probability) sorted by probability\n",
    "P = keras.applications.imagenet_utils.decode_predictions(preds, top=6)\n",
    "\n",
    "results=[{'rank': i+1, 'score': prob*100.0, 'class': np.where(preds == prob)[1][0], 'id': imagenetID, 'label': label}\n",
    "         for (i, (imagenetID, label, prob)) in enumerate(P[0])]\n",
    "\n",
    "p = pd.DataFrame(results).set_index('rank')\n",
    "print(p)"
   ]
  },
  {
   "cell_type": "code",
   "execution_count": null,
   "metadata": {},
   "outputs": [],
   "source": []
  }
 ],
 "metadata": {
  "kernelspec": {
   "display_name": "Python 3",
   "language": "python",
   "name": "python3"
  },
  "language_info": {
   "codemirror_mode": {
    "name": "ipython",
    "version": 3
   },
   "file_extension": ".py",
   "mimetype": "text/x-python",
   "name": "python",
   "nbconvert_exporter": "python",
   "pygments_lexer": "ipython3",
   "version": "3.5.2"
  }
 },
 "nbformat": 4,
 "nbformat_minor": 2
}
