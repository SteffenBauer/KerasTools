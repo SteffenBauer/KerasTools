{
 "cells": [
  {
   "cell_type": "code",
   "execution_count": null,
   "metadata": {},
   "outputs": [],
   "source": [
    "import os, sys\n",
    "module_path = os.path.abspath(os.path.join('..'))\n",
    "if module_path not in sys.path:\n",
    "    sys.path.append(module_path)\n",
    "import KerasTools as KT\n",
    "import tensorflow as tf\n",
    "tf.logging.set_verbosity(tf.logging.ERROR)\n",
    "\n",
    "import numpy as np\n",
    "from keras.datasets import fashion_mnist\n",
    "from keras import models\n",
    "from keras import layers\n",
    "from keras import optimizers\n",
    "from keras.utils import to_categorical\n",
    "import matplotlib.pyplot as plt\n",
    "%matplotlib inline"
   ]
  },
  {
   "cell_type": "code",
   "execution_count": null,
   "metadata": {},
   "outputs": [],
   "source": [
    "# Load Fashion MNIST data and preprocess it\n",
    "#\n",
    "# Note: We will now use a 2D convolutional network, which expects input in format (height, width, channels)\n",
    "# The MNIST data has only one channel per image (grayscale) (RGB images have 3 channels)\n",
    "(train_images, train_labels), (test_images, test_labels) = fashion_mnist.load_data()\n",
    "train_images = train_images.reshape((60000, 28, 28, 1))\n",
    "train_images = train_images.astype('float32') / 255\n",
    "test_images = test_images.reshape((10000, 28, 28, 1))\n",
    "test_images = test_images.astype('float32') / 255\n",
    "\n",
    "train_labels = to_categorical(train_labels)\n",
    "test_labels = to_categorical(test_labels)"
   ]
  },
  {
   "cell_type": "code",
   "execution_count": null,
   "metadata": {},
   "outputs": [],
   "source": [
    "# Build the neural network\n",
    "\n",
    "def build_network():\n",
    "    network = models.Sequential()\n",
    "    # Convolutional base\n",
    "    network.add(layers.Conv2D(32, (3, 3), activation='relu', input_shape=(28, 28, 1)))\n",
    "    network.add(layers.MaxPooling2D((2, 2)))\n",
    "    network.add(layers.Conv2D(64, (3, 3), activation='relu'))\n",
    "    network.add(layers.MaxPooling2D((2, 2)))\n",
    "    network.add(layers.Conv2D(64, (3, 3), activation='relu'))\n",
    "    \n",
    "    # DNN classifier\n",
    "    network.add(layers.Flatten())\n",
    "    network.add(layers.Dense(64, activation='relu'))\n",
    "    network.add(layers.Dense(10, activation='softmax'))\n",
    "    \n",
    "    network.compile(optimizer='rmsprop', loss='categorical_crossentropy', metrics=['accuracy'])\n",
    "\n",
    "    return network"
   ]
  },
  {
   "cell_type": "code",
   "execution_count": null,
   "metadata": {},
   "outputs": [],
   "source": [
    "network = build_network()\n",
    "epochs = 5\n",
    "history = network.fit(train_images, train_labels, epochs=epochs, batch_size=128)\n",
    "\n",
    "test_loss, test_acc = network.evaluate(test_images, test_labels)\n",
    "print()\n",
    "print(\"Test loss\", test_loss)\n",
    "print(\"Test accuracy\", test_acc)\n",
    "history.history['test_loss'] = test_loss\n",
    "history.history['test_acc'] = test_acc\n",
    "history.history['epochs'] = epochs"
   ]
  },
  {
   "cell_type": "code",
   "execution_count": null,
   "metadata": {},
   "outputs": [],
   "source": [
    "KT.plot_history(history.history)"
   ]
  },
  {
   "cell_type": "code",
   "execution_count": null,
   "metadata": {},
   "outputs": [],
   "source": [
    "# Save network for later production use\n",
    "network.save(\"./fmnist_convnet_trained.h5\")"
   ]
  },
  {
   "cell_type": "code",
   "execution_count": null,
   "metadata": {},
   "outputs": [],
   "source": [
    "entry = 0\n",
    "\n",
    "test_image = test_images[entry:entry+1]\n",
    "test_label = np.argmax(test_labels[entry])\n",
    "desc = KT.datasets.decode.decode_dataset('fmnist', test_label)\n",
    "\n",
    "pred = network.predict(test_image)\n",
    "prediction = KT.datasets.decode.decode_predictions('fmnist', pred, top=10)\n",
    "\n",
    "plt.title(\"FMNIST image no. {0} with label '{1}/{2}'\".format(entry, test_label, desc))\n",
    "plt.imshow(test_image.reshape(28,28), cmap=plt.cm.binary)\n",
    "plt.show()\n",
    "\n",
    "print('-' * 32)\n",
    "print(\"{0:>6} | {1:>12} | {2:>6} \".format(\"Class\", \"Label\", \"Score\"))\n",
    "print('-' * 32)\n",
    "for p in prediction[0]:\n",
    "    print(\"{0:>6} | {1:>12} | {2:>7.2%} \".format(*p))\n",
    "print('-' * 32)"
   ]
  },
  {
   "cell_type": "code",
   "execution_count": null,
   "metadata": {},
   "outputs": [],
   "source": []
  }
 ],
 "metadata": {
  "kernelspec": {
   "display_name": "Python 3",
   "language": "python",
   "name": "python3"
  },
  "language_info": {
   "codemirror_mode": {
    "name": "ipython",
    "version": 3
   },
   "file_extension": ".py",
   "mimetype": "text/x-python",
   "name": "python",
   "nbconvert_exporter": "python",
   "pygments_lexer": "ipython3",
   "version": "3.5.2"
  }
 },
 "nbformat": 4,
 "nbformat_minor": 2
}
