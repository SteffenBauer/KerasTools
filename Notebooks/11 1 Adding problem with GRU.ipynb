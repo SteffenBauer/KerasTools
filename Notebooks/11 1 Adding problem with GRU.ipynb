{
 "cells": [
  {
   "cell_type": "code",
   "execution_count": null,
   "metadata": {},
   "outputs": [],
   "source": [
    "import keras\n",
    "import os, sys\n",
    "module_path = os.path.abspath(os.path.join('..'))\n",
    "if module_path not in sys.path:\n",
    "    sys.path.append(module_path)\n",
    "import KerasTools as KT\n",
    "import numpy as np\n",
    "\n",
    "import tensorflow as tf\n",
    "tf.logging.set_verbosity(tf.logging.ERROR)"
   ]
  },
  {
   "cell_type": "code",
   "execution_count": null,
   "metadata": {},
   "outputs": [],
   "source": [
    "def adding_problem_generator(N, seq_len=6, high=1):\n",
    "    \"\"\" A data generator for the adding problem.\n",
    "\n",
    "    The data definition strictly follows Quoc V. Le, Navdeep Jaitly, Geoffrey E.\n",
    "    Hintan's paper, A Simple Way to Initialize Recurrent Networks of Rectified\n",
    "    Linear Units.\n",
    "\n",
    "    The single datum entry is a 2D vector with two rows with same length.\n",
    "    The first row is a list of random data; the second row is a list of binary\n",
    "    mask with all ones, except two positions sampled by uniform distribution.\n",
    "    The corresponding label entry is the sum of the masked data. For\n",
    "    example:\n",
    "\n",
    "     input          label\n",
    "     -----          -----\n",
    "    1 4 5 3  ----->   9 (4 + 5)\n",
    "    0 1 1 0\n",
    "\n",
    "    :param N: the number of the entries.\n",
    "    :param seq_len: the length of a single sequence.\n",
    "    :param p: the probability of 1 in generated mask\n",
    "    :param high: the random data is sampled from a [0, high] uniform distribution.\n",
    "    :return: (X, Y), X the data, Y the label.\n",
    "    \"\"\"    \n",
    "    X_num = np.random.uniform(low=0, high=high, size=(N, seq_len, 1))\n",
    "    X_mask = np.zeros((N, seq_len, 1))\n",
    "    Y = np.ones((N, 1))\n",
    "    for i in range(N):\n",
    "        # Default uniform distribution on position sampling\n",
    "        positions = np.random.choice(seq_len, size=2, replace=False)\n",
    "        X_mask[i, positions] = 1\n",
    "        Y[i, 0] = np.sum(X_num[i, positions])\n",
    "    X = np.append(X_num, X_mask, axis=2)\n",
    "    return X, Y"
   ]
  },
  {
   "cell_type": "code",
   "execution_count": null,
   "metadata": {},
   "outputs": [],
   "source": [
    "seqlen = 64\n",
    "epochs = 200\n",
    "batch_size = 100\n",
    "x_train, y_train = adding_problem_generator(1000, seq_len=seqlen)\n",
    "\n",
    "model = keras.models.Sequential()\n",
    "model.add(keras.layers.GRU(8, input_shape=(seqlen, 2)))\n",
    "model.add(keras.layers.Dense(1, activation='linear'))\n",
    "model.compile(optimizer='rmsprop', loss='mse')\n",
    "model.summary()\n",
    "\n",
    "history = model.fit(x_train, y_train, batch_size=batch_size, epochs=epochs, validation_split=0.2)"
   ]
  },
  {
   "cell_type": "code",
   "execution_count": null,
   "metadata": {},
   "outputs": [],
   "source": [
    "x_test, y_test = adding_problem_generator(500, seq_len=seqlen)\n",
    "history.history['test_loss'] = model.evaluate(x_test, y_test)\n",
    "history.history['epochs'] = epochs\n",
    "history.history['baseline'] = 0.1767\n",
    "KT.plot_history(history.history)"
   ]
  },
  {
   "cell_type": "code",
   "execution_count": null,
   "metadata": {},
   "outputs": [],
   "source": []
  }
 ],
 "metadata": {
  "kernelspec": {
   "display_name": "Python 3",
   "language": "python",
   "name": "python3"
  },
  "language_info": {
   "codemirror_mode": {
    "name": "ipython",
    "version": 3
   },
   "file_extension": ".py",
   "mimetype": "text/x-python",
   "name": "python",
   "nbconvert_exporter": "python",
   "pygments_lexer": "ipython3",
   "version": "3.5.2"
  }
 },
 "nbformat": 4,
 "nbformat_minor": 2
}
