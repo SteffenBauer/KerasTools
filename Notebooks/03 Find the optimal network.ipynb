{
 "cells": [
  {
   "cell_type": "code",
   "execution_count": null,
   "metadata": {},
   "outputs": [],
   "source": [
    "from __future__ import print_function\n",
    "import KerasTools as KT\n",
    "import numpy as np\n",
    "from keras.datasets import mnist\n",
    "from keras import models\n",
    "from keras import layers\n",
    "from keras import optimizers\n",
    "from keras.utils import to_categorical"
   ]
  },
  {
   "cell_type": "code",
   "execution_count": null,
   "metadata": {},
   "outputs": [],
   "source": [
    "# Load MNIST data and preprocess it\n",
    "(train_images, train_labels), (test_images, test_labels) = mnist.load_data()\n",
    "train_images = train_images.reshape((60000, 28 * 28))\n",
    "train_images = train_images.astype('float32') / 255\n",
    "test_images = test_images.reshape((10000, 28 * 28))\n",
    "test_images = test_images.astype('float32') / 255\n",
    "\n",
    "train_labels = to_categorical(train_labels)\n",
    "test_labels = to_categorical(test_labels)"
   ]
  },
  {
   "cell_type": "code",
   "execution_count": null,
   "metadata": {},
   "outputs": [],
   "source": [
    "# Generate a neural network\n",
    "#\n",
    "# Here we will use SGD for smoother training curves.\n",
    "# Usually one would rather use an adaptive optimizer like adam or rmsprop\n",
    "\n",
    "def build_network():\n",
    "    network = models.Sequential()\n",
    "    network.add(layers.Dense(64, activation='relu', input_shape=(28*28*1,)))\n",
    "    network.add(layers.Dense(64, activation='relu'))\n",
    "    network.add(layers.Dense(10, activation='softmax'))\n",
    "\n",
    "    network.compile(optimizer=optimizers.sgd(lr=0.01, momentum=0.9), loss='categorical_crossentropy', metrics=['accuracy'])\n",
    "\n",
    "    return network"
   ]
  },
  {
   "cell_type": "code",
   "execution_count": null,
   "metadata": {},
   "outputs": [],
   "source": [
    "# Build a fresh new neural network and plot its architecture\n",
    "network = build_network()\n",
    "network.summary()"
   ]
  },
  {
   "cell_type": "code",
   "execution_count": null,
   "metadata": {},
   "outputs": [],
   "source": [
    "# Pass 1:\n",
    "#\n",
    "# Train the network with the MNIST training set for 50 epochs and a batch size of 128\n",
    "# Use this time 20% of training data to validate training progress\n",
    "\n",
    "epochs = 50\n",
    "history = network.fit(train_images, train_labels, epochs=epochs, batch_size=128, validation_split=0.2)"
   ]
  },
  {
   "cell_type": "code",
   "execution_count": null,
   "metadata": {},
   "outputs": [],
   "source": [
    "KT.plot_history(history.history)"
   ]
  },
  {
   "cell_type": "code",
   "execution_count": null,
   "metadata": {},
   "outputs": [],
   "source": [
    "# Pass 2:\n",
    "#\n",
    "# Use the 1st pass results to determine the optimal number of epochs where validation loss is at its minimum.\n",
    "# Train a new network a second time with the whole training dataset\n",
    "network = build_network()\n",
    "epochs = 20\n",
    "network.fit(train_images, train_labels, epochs=epochs, batch_size=128)\n",
    "\n",
    "# After final training, evaluate the generalizing power of the network with the test set. \n",
    "test_loss, test_acc = network.evaluate(test_images, test_labels)\n",
    "print()\n",
    "print(\"Test loss: {}\".format(test_loss))\n",
    "print(\"Test accuracy: {}\".format(test_acc))\n",
    "history.history['test_loss'] = test_loss\n",
    "history.history['test_acc'] = test_acc\n",
    "history.history['epochs'] = epochs"
   ]
  },
  {
   "cell_type": "code",
   "execution_count": null,
   "metadata": {},
   "outputs": [],
   "source": [
    "# Plot loss/accuracy training history and test results in some nice graphs\n",
    "KT.plot_history(history.history)"
   ]
  },
  {
   "cell_type": "code",
   "execution_count": null,
   "metadata": {},
   "outputs": [],
   "source": [
    "# Save the network for later production use\n",
    "network.save(\"./mnist_trained.h5\")"
   ]
  },
  {
   "cell_type": "code",
   "execution_count": null,
   "metadata": {},
   "outputs": [],
   "source": []
  }
 ],
 "metadata": {
  "kernelspec": {
   "display_name": "Python 2",
   "language": "python",
   "name": "python2"
  },
  "language_info": {
   "codemirror_mode": {
    "name": "ipython",
    "version": 2
   },
   "file_extension": ".py",
   "mimetype": "text/x-python",
   "name": "python",
   "nbconvert_exporter": "python",
   "pygments_lexer": "ipython2",
   "version": "2.7.13"
  }
 },
 "nbformat": 4,
 "nbformat_minor": 2
}
