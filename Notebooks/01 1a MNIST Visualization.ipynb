{
 "cells": [
  {
   "cell_type": "code",
   "execution_count": null,
   "metadata": {},
   "outputs": [],
   "source": [
    "# Import the necessary libraries\n",
    "import matplotlib.pyplot as plt\n",
    "from keras.datasets import mnist\n",
    "\n",
    "# Needed for smooth matplotlib graph plotting\n",
    "%matplotlib inline"
   ]
  },
  {
   "cell_type": "code",
   "execution_count": null,
   "metadata": {},
   "outputs": [],
   "source": [
    "# Step 1:\n",
    "#\n",
    "# Load the MNIST dataset, consisting of 70000 handwritten digits\n",
    "#\n",
    "# It contains of a train and a test set,\n",
    "# each consisting of an array of grayscale images with corresponding labels\n",
    "\n",
    "(train_images, train_labels), (test_images, test_labels) = mnist.load_data()\n",
    "\n",
    "print(\"Train images numpy shape: {}\".format(train_images.shape))\n",
    "print(\"Train labels numpy shape: {}\".format(train_labels.shape))\n",
    "print(\"Test images numpy shape: {}\".format(test_images.shape))\n",
    "print(\"Test labels numpy shape: {}\".format(test_labels.shape))"
   ]
  },
  {
   "cell_type": "code",
   "execution_count": null,
   "metadata": {},
   "outputs": [],
   "source": [
    "# Step 2:\n",
    "#\n",
    "# Visualize some data. Lets look how an image looks like and what is its corresponding label\n",
    "\n",
    "entry = 4\n",
    "digit = train_images[entry]\n",
    "label = train_labels[entry]\n",
    "plt.title(\"MNIST image no. {0} with label '{1}'\".format(entry, label))\n",
    "plt.imshow(digit, cmap=plt.cm.binary)\n",
    "plt.show()"
   ]
  },
  {
   "cell_type": "code",
   "execution_count": null,
   "metadata": {},
   "outputs": [],
   "source": [
    "# Print the raw data for a single dataset entry\n",
    "\n",
    "print(\"Numpy shape for image entry no. {0}: {1}\".format(entry, digit.shape))\n",
    "print(\"Corresponding label: {}\".format(label))\n",
    "print(\"Raw image data: {}\".format(digit))"
   ]
  },
  {
   "cell_type": "code",
   "execution_count": null,
   "metadata": {},
   "outputs": [],
   "source": []
  }
 ],
 "metadata": {
  "kernelspec": {
   "display_name": "Python 3",
   "language": "python",
   "name": "python3"
  },
  "language_info": {
   "codemirror_mode": {
    "name": "ipython",
    "version": 3
   },
   "file_extension": ".py",
   "mimetype": "text/x-python",
   "name": "python",
   "nbconvert_exporter": "python",
   "pygments_lexer": "ipython3",
   "version": "3.5.2"
  }
 },
 "nbformat": 4,
 "nbformat_minor": 2
}
