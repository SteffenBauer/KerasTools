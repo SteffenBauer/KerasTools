{
 "cells": [
  {
   "cell_type": "code",
   "execution_count": null,
   "metadata": {},
   "outputs": [],
   "source": [
    "from __future__ import print_function\n",
    "import KerasTools as KT\n",
    "import numpy as np\n",
    "from keras.datasets import mnist\n",
    "from keras import models\n",
    "from keras import layers\n",
    "from keras import optimizers\n",
    "from keras.utils import to_categorical"
   ]
  },
  {
   "cell_type": "code",
   "execution_count": null,
   "metadata": {},
   "outputs": [],
   "source": [
    "# Load MNIST data and preprocess it\n",
    "(train_images, train_labels), (test_images, test_labels) = mnist.load_data()\n",
    "train_images = train_images.reshape((60000, 28 * 28))\n",
    "train_images = train_images.astype('float32') / 255\n",
    "test_images = test_images.reshape((10000, 28 * 28))\n",
    "test_images = test_images.astype('float32') / 255\n",
    "\n",
    "train_labels = to_categorical(train_labels)\n",
    "test_labels = to_categorical(test_labels)"
   ]
  },
  {
   "cell_type": "code",
   "execution_count": null,
   "metadata": {},
   "outputs": [],
   "source": [
    "# Generate a neural network\n",
    "#\n",
    "# We will use a sequential model (one layer after another)\n",
    "# The network will accept as input flattened and normalized images of 1D size 784. \n",
    "# Two intermediate layers with 64 neurons and ReLU ('rectified linear unit') activation\n",
    "# The output layer will have 10 neurons and Softmax activation\n",
    "#\n",
    "# We will use 'categorical_crossentropy' for the loss function\n",
    "# The optimizer will be SGD ('stochastic gradient descent') with a learning rate of 0.01\n",
    "# We will additionally measure the predictive accuracy\n",
    "\n",
    "def build_network():\n",
    "    network = models.Sequential()\n",
    "    network.add(layers.Dense(64, activation='relu', input_shape=(28*28*1,)))\n",
    "    network.add(layers.Dense(64, activation='relu'))\n",
    "    network.add(layers.Dense(10, activation='softmax'))\n",
    "\n",
    "    network.compile(optimizer=optimizers.sgd(lr=0.01), loss='categorical_crossentropy', metrics=['accuracy'])\n",
    "\n",
    "    return network"
   ]
  },
  {
   "cell_type": "code",
   "execution_count": null,
   "metadata": {},
   "outputs": [],
   "source": [
    "# Build a fresh new neural network and plot its architecture\n",
    "network = build_network()\n",
    "network.summary()"
   ]
  },
  {
   "cell_type": "code",
   "execution_count": null,
   "metadata": {},
   "outputs": [],
   "source": []
  }
 ],
 "metadata": {
  "kernelspec": {
   "display_name": "Python 2",
   "language": "python",
   "name": "python2"
  },
  "language_info": {
   "codemirror_mode": {
    "name": "ipython",
    "version": 2
   },
   "file_extension": ".py",
   "mimetype": "text/x-python",
   "name": "python",
   "nbconvert_exporter": "python",
   "pygments_lexer": "ipython2",
   "version": "2.7.13"
  }
 },
 "nbformat": 4,
 "nbformat_minor": 2
}
