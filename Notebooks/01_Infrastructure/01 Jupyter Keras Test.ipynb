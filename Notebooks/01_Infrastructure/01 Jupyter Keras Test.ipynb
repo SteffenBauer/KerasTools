{
 "cells": [
  {
   "cell_type": "code",
   "execution_count": null,
   "metadata": {},
   "outputs": [],
   "source": [
    "import tensorflow as tf\n",
    "import packaging.version\n",
    "\n",
    "tf_version = tf.__version__\n",
    "if packaging.version.parse(tf_version) < packaging.version.parse(\"2.0.0\"):\n",
    "    print(\"These notebooks only work with Tensorflow 2!\")\n",
    "print('Installed tensorflow version', tf.__version__)\n",
    "\n",
    "hello = tf.constant('Hello Tensorflow!')\n",
    "print(\"Tensorflow constant '{}'\".format(hello))\n",
    "\n",
    "x = [[2.]]\n",
    "print('Tensorflow multiplication: {}'.format(tf.matmul(x, x)))\n"
   ]
  },
  {
   "cell_type": "code",
   "execution_count": null,
   "metadata": {},
   "outputs": [],
   "source": [
    "import tensorflow.keras as keras\n",
    "import PIL\n",
    "import io\n",
    "import ipywidgets\n",
    "\n",
    "(train_images, train_labels), (test_images, test_labels) = keras.datasets.mnist.load_data()\n",
    "entry = 4\n",
    "digit = train_images[entry]\n",
    "label = train_labels[entry]\n",
    "\n",
    "buf = io.BytesIO()\n",
    "PIL.Image.fromarray(digit).resize((256, 256), resample=PIL.Image.NEAREST).save(buf, 'bmp')\n",
    "\n",
    "img = ipywidgets.Image(value=buf.getvalue())\n",
    "print(\"MNIST image label '{0}'\".format(label))\n",
    "display(img)"
   ]
  },
  {
   "cell_type": "code",
   "execution_count": null,
   "metadata": {},
   "outputs": [],
   "source": []
  }
 ],
 "metadata": {
  "kernelspec": {
   "display_name": "Python 3",
   "language": "python",
   "name": "python3"
  },
  "language_info": {
   "codemirror_mode": {
    "name": "ipython",
    "version": 3
   },
   "file_extension": ".py",
   "mimetype": "text/x-python",
   "name": "python",
   "nbconvert_exporter": "python",
   "pygments_lexer": "ipython3",
   "version": "3.7.3"
  }
 },
 "nbformat": 4,
 "nbformat_minor": 2
}
