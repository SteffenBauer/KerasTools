{
 "cells": [
  {
   "cell_type": "code",
   "execution_count": null,
   "metadata": {},
   "outputs": [],
   "source": [
    "import random\n",
    "import numpy\n",
    "import bokeh, bokeh.io, bokeh.plotting, bokeh.models\n",
    "bokeh.io.output_notebook(resources=bokeh.resources.Resources(mode=\"inline\"))"
   ]
  },
  {
   "cell_type": "code",
   "execution_count": null,
   "metadata": {},
   "outputs": [],
   "source": [
    "size = 20\n",
    "numpy.random.seed(0)\n",
    "\n",
    "data = {'x_values': numpy.arange(size),\n",
    "        'y_values': numpy.random.randn(size)}\n",
    "\n",
    "source = bokeh.models.ColumnDataSource(data=data)\n",
    "\n",
    "p = bokeh.plotting.figure(title=\"simple line example\", x_axis_label='x', y_axis_label='y')\n",
    "p.line(x='x_values', y='y_values', source = source, legend_label=\"Temp.\", line_width=2)\n",
    "t = bokeh.plotting.show(p, notebook_handle=True)"
   ]
  },
  {
   "cell_type": "code",
   "execution_count": null,
   "metadata": {},
   "outputs": [],
   "source": [
    "source.data['y_values'] = numpy.random.randn(size)\n",
    "bokeh.io.push_notebook(handle=t)"
   ]
  },
  {
   "cell_type": "code",
   "execution_count": null,
   "metadata": {},
   "outputs": [],
   "source": []
  }
 ],
 "metadata": {
  "kernelspec": {
   "display_name": "Python 3",
   "language": "python",
   "name": "python3"
  },
  "language_info": {
   "codemirror_mode": {
    "name": "ipython",
    "version": 3
   },
   "file_extension": ".py",
   "mimetype": "text/x-python",
   "name": "python",
   "nbconvert_exporter": "python",
   "pygments_lexer": "ipython3",
   "version": "3.7.3"
  }
 },
 "nbformat": 4,
 "nbformat_minor": 2
}
