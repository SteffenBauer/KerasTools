{
 "cells": [
  {
   "cell_type": "code",
   "execution_count": null,
   "metadata": {},
   "outputs": [],
   "source": [
    "from __future__ import print_function\n",
    "import KerasTools as KT\n",
    "import numpy as np"
   ]
  },
  {
   "cell_type": "code",
   "execution_count": null,
   "metadata": {},
   "outputs": [],
   "source": [
    "# Step 1\n",
    "\n",
    "# Load the IMDB dataset, a set of 50000 reviews from the Internet Movie Database, \n",
    "# binary labeled ('good movie' / 'bad movie' )\n",
    "# \n",
    "# It is split into training and test set of 25000 / 25000 entries.\n",
    "# The words are tokenized into integer encoding.\n",
    "#\n",
    "# Note: As loading the IMDB dataset has some computational overhead for preprocessing,\n",
    "# we load it over a wrapper function (KT.imdb.load_data), which uses a cache.\n",
    "\n",
    "(train_data, train_labels), (test_data, test_labels) = KT.imdb.load_data(num_words=10000)"
   ]
  },
  {
   "cell_type": "code",
   "execution_count": null,
   "metadata": {},
   "outputs": [],
   "source": [
    "# Step 2\n",
    "\n",
    "# Show raw data of training set entry '0'\n",
    "# train_entry: Tokenized movie review \n",
    "# train_label: Binary sentiment label ('0' = bad movie, '1' = good movie)\n",
    "\n",
    "print(\"Raw training entry No 0: {}\".format(train_data[0]))\n",
    "print\n",
    "print(\"Raw training label No 0: '{}'\".format(train_labels[0]))"
   ]
  },
  {
   "cell_type": "code",
   "execution_count": null,
   "metadata": {},
   "outputs": [],
   "source": [
    "# Step 3\n",
    "\n",
    "# Use the tokenizer word encoding dictionary to reconstruct the original review text.\n",
    "#\n",
    "# Note: Tokens 0, 1, and 2 are reserved for 'padding', 'start of sequence', and 'unknown word'\n",
    "\n",
    "raw_word_index = KT.imdb.get_word_index()\n",
    "word_index = {v+3:k for k,v in raw_word_index.items()}\n",
    "word_index[0] = '-PAD-'\n",
    "word_index[1] = '-START-'\n",
    "word_index[2] = '-UNK-'\n",
    "\n",
    "# Reconstruct train data entry 0 as string\n",
    "print(\" \".join(word_index.get(w, 2) for w in train_data[0]))"
   ]
  },
  {
   "cell_type": "code",
   "execution_count": null,
   "metadata": {},
   "outputs": [],
   "source": []
  }
 ],
 "metadata": {
  "kernelspec": {
   "display_name": "Python 2",
   "language": "python",
   "name": "python2"
  },
  "language_info": {
   "codemirror_mode": {
    "name": "ipython",
    "version": 2
   },
   "file_extension": ".py",
   "mimetype": "text/x-python",
   "name": "python",
   "nbconvert_exporter": "python",
   "pygments_lexer": "ipython2",
   "version": "2.7.13"
  }
 },
 "nbformat": 4,
 "nbformat_minor": 2
}
