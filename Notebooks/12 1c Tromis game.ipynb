{
 "cells": [
  {
   "cell_type": "code",
   "execution_count": null,
   "metadata": {},
   "outputs": [],
   "source": [
    "from __future__ import print_function\n",
    "import os, sys\n",
    "#module_path = os.path.abspath(os.path.join('..'))\n",
    "#if module_path not in sys.path:\n",
    "#    sys.path.append(module_path)\n",
    "import KerasTools as KT\n",
    "import ipywidgets\n",
    "import StringIO\n",
    "import matplotlib.pyplot as plt\n",
    "import skimage\n",
    "import time\n",
    "import keras"
   ]
  },
  {
   "cell_type": "code",
   "execution_count": null,
   "metadata": {},
   "outputs": [],
   "source": [
    "button_ly = ipywidgets.Layout(width='34px', height='30px', border='1px solid black')\n",
    "\n",
    "bleft_st = ipywidgets.ButtonStyle(font_weight='bold', button_color='yellow')\n",
    "bleft = ipywidgets.Button(layout=button_ly, style=bleft_st, icon='arrow-left')\n",
    "bright_st = ipywidgets.ButtonStyle(font_weight='bold', button_color='yellow')\n",
    "bright = ipywidgets.Button(layout=button_ly, style=bright_st, icon='arrow-right')\n",
    "bstay_st = ipywidgets.ButtonStyle(font_weight='bold', button_color='yellow')\n",
    "bstay = ipywidgets.Button(layout=button_ly, style=bstay_st, icon='dot-circle-o')\n",
    "brotleft_st = ipywidgets.ButtonStyle(font_weight='bold', button_color='yellow')\n",
    "brotleft = ipywidgets.Button(layout=button_ly, style=brotleft_st, icon='rotate-left')\n",
    "brotright_st = ipywidgets.ButtonStyle(font_weight='bold', button_color='yellow')\n",
    "brotright = ipywidgets.Button(layout=button_ly, style=brotright_st, icon='rotate-right')\n",
    "\n",
    "lt = ipywidgets.Layout(width='68px', height='30px', border='1px solid black')\n",
    "stt = ipywidgets.ButtonStyle(font_weight='bold', button_color='green')\n",
    "bnew = ipywidgets.Button(layout=lt, style=stt, description = 'New')\n",
    "stat = ipywidgets.HTML(layout=lt)\n",
    "\n",
    "ls = ipywidgets.Layout(width='34px', height='30px', border=None)\n",
    "bs = ipywidgets.Label(layout=ls)\n",
    "    \n",
    "bx = ipywidgets.HBox([bnew, bleft, brotleft, bstay, brotright, bright, stat])\n",
    "img = ipywidgets.Image()\n",
    "game = KT.qlearn.tromis.Tromis(width=7,height=12,max_turn=None)\n",
    "\n",
    "total_score = 0\n",
    "\n",
    "def plot_game(frame):\n",
    "    imbuf = StringIO.StringIO()\n",
    "    f = skimage.transform.resize(frame,(12*256/7,256), order=0, mode='constant', anti_aliasing=False)\n",
    "    plt.imsave(imbuf, f)\n",
    "    imbuf.seek(0)           \n",
    "    img.value = imbuf.buf\n",
    "\n",
    "def onButtonClicked(args):\n",
    "    global total_score\n",
    "    if args.description == 'New':\n",
    "        game.reset()\n",
    "        stat.value = \"\"\n",
    "        total_score = 0\n",
    "    elif not game.is_over():\n",
    "        args.style.button_color = 'red'\n",
    "        time.sleep(0.1)\n",
    "        args.style.button_color = 'yellow'        \n",
    "        action = {'arrow-left': 0, 'arrow-right': 1, 'dot-circle-o': 2, 'rotate-left': 3, 'rotate-right': 4}\n",
    "        game.play(action[args.icon])\n",
    "    current_reward = game.get_score()\n",
    "    total_score += current_reward\n",
    "    stat.value = \"<center><big><b>{}/{}\".format(current_reward, total_score)\n",
    "    \n",
    "    plot_game(game.get_frame())\n",
    "\n",
    "bleft.on_click(onButtonClicked)\n",
    "bright.on_click(onButtonClicked)\n",
    "bstay.on_click(onButtonClicked)\n",
    "bnew.on_click(onButtonClicked)\n",
    "brotleft.on_click(onButtonClicked)\n",
    "brotright.on_click(onButtonClicked)\n",
    "\n",
    "\n",
    "display(img)\n",
    "display(bx)\n",
    "plot_game(game.get_frame())"
   ]
  },
  {
   "cell_type": "code",
   "execution_count": null,
   "metadata": {},
   "outputs": [],
   "source": [
    "model = keras.models.load_model('tromis_7x12_130.h5')\n",
    "model.summary()\n",
    "game = KT.qlearn.tromis.Tromis(width=7,height=12,max_turn=None)\n",
    "agent = KT.qlearn.agent.Agent(model=model, nb_frames = 12)"
   ]
  },
  {
   "cell_type": "code",
   "execution_count": null,
   "metadata": {},
   "outputs": [],
   "source": [
    "button_map = {0: bleft, 1: bright, 2: bstay, 3:brotleft, 4:brotright}\n",
    "num_games = 10\n",
    "won = 0\n",
    "for i in range(num_games):\n",
    "    while not game.is_over():\n",
    "        time.sleep(0.1)\n",
    "        action = agent.get_action(game)\n",
    "        button_map[action].click()\n",
    "    time.sleep(1)\n",
    "    if game.is_won(): won += 1\n",
    "    bnew.click()\n",
    "print(\"Won {:2.0%} of games\".format(float(won)/num_games))"
   ]
  },
  {
   "cell_type": "code",
   "execution_count": null,
   "metadata": {},
   "outputs": [],
   "source": []
  }
 ],
 "metadata": {
  "kernelspec": {
   "display_name": "Python 2",
   "language": "python",
   "name": "python2"
  },
  "language_info": {
   "codemirror_mode": {
    "name": "ipython",
    "version": 2
   },
   "file_extension": ".py",
   "mimetype": "text/x-python",
   "name": "python",
   "nbconvert_exporter": "python",
   "pygments_lexer": "ipython2",
   "version": "2.7.13"
  }
 },
 "nbformat": 4,
 "nbformat_minor": 2
}
