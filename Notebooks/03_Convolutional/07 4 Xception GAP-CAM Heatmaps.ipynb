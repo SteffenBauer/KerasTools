{
 "cells": [
  {
   "cell_type": "code",
   "execution_count": null,
   "metadata": {},
   "outputs": [],
   "source": [
    "import PIL, io, ipywidgets\n",
    "\n",
    "import keras\n",
    "import keras.applications.imagenet_utils\n",
    "\n",
    "import numpy as np\n",
    "import pandas as pd\n",
    "\n",
    "import tensorflow as tf\n",
    "tf.logging.set_verbosity(tf.logging.ERROR)\n",
    "\n",
    "inputShape = (299, 299, 3)\n",
    "network = keras.applications.xception\n",
    "\n",
    "print(\"[INFO] loading {}...\".format(network.__name__))\n",
    "model = network.Xception(weights=\"imagenet\")\n",
    "preprocess = network.preprocess_input"
   ]
  },
  {
   "cell_type": "code",
   "execution_count": null,
   "metadata": {},
   "outputs": [],
   "source": [
    "# Grayscale -> Colormap mapping functions\n",
    "def s_jetmap(s):\n",
    "    g = s[0]\n",
    "    if g < 64:  return np.asarray((0, 4*g, 255)).astype('uint8')\n",
    "    if g < 128: return np.asarray((0, 255, 255+4*(64-g))).astype('uint8')\n",
    "    if g < 192: return np.asarray((4*(g-128), 255, 0)).astype('uint8')\n",
    "    return np.asarray((255, 255+4*(192-g), 0)).astype('uint8')\n",
    "\n",
    "def s_graymap(s):\n",
    "    return np.asarray((s[0], s[0], s[0])).astype('uint8')\n",
    "\n",
    "def colormap(heatmap, cmap=s_jetmap):\n",
    "    return np.apply_along_axis(cmap, -1, np.expand_dims(heatmap, axis=-1)).reshape((heatmap.shape[0],heatmap.shape[1],3))\n",
    "\n",
    "# Pillow -> ipywidgets transformation\n",
    "def pil2ipy(image):\n",
    "    buf = io.BytesIO()\n",
    "    image.save(buf, format='png')\n",
    "    return buf.getvalue()\n",
    "\n",
    "# Image scale to uint8 0-255\n",
    "def uint8scale(array):\n",
    "    array /= np.max(array)\n",
    "    array *= 255\n",
    "    return np.maximum(array, 0.0).astype('uint8')\n",
    "\n",
    "class GAPCAM:\n",
    "    # Generate GAP model to return both classification and final feature maps layers\n",
    "    def __init__(self, model, preprocess):\n",
    "        self.GAP_model = keras.models.Model(\n",
    "                             inputs=model.input,\n",
    "                             outputs=(model.layers[-3].output, model.layers[-1].output)\n",
    "                         )\n",
    "        self.preprocess = preprocess\n",
    "        self.pred = None\n",
    "        self.conv = None\n",
    "        \n",
    "    def process(self, image):\n",
    "        img = keras.preprocessing.image.img_to_array(image.resize(inputShape[:2])).astype('uint8')\n",
    "        img = self.preprocess(np.expand_dims(img, axis=0))\n",
    "        self.conv, self.pred = self.GAP_model.predict(img)\n",
    "    \n",
    "    def get_predictions(self, top=5):\n",
    "        P = keras.applications.imagenet_utils.decode_predictions(self.pred, top)\n",
    "        results=[{\n",
    "            'rank': i+1, \n",
    "            'score': prob*100.0, \n",
    "            'class': np.where(self.pred == prob)[1][0], \n",
    "            'id': imagenetID, \n",
    "            'label': label\n",
    "        } for (i, (imagenetID, label, prob)) in enumerate(P[0])]\n",
    "        return results\n",
    "    \n",
    "    def get_heatmap(self, channel):\n",
    "        last_conv_output = np.squeeze(self.conv)\n",
    "        all_amp_layer_weights = self.GAP_model.layers[-1].get_weights()[0]\n",
    "        amp_layer_weights = all_amp_layer_weights[:, channel]\n",
    "        fh, fw, fn = last_conv_output.shape\n",
    "        final_output = np.dot(last_conv_output.reshape((fh*fw, fn)), amp_layer_weights).reshape(fh,fw)\n",
    "        return uint8scale(final_output)\n"
   ]
  },
  {
   "cell_type": "code",
   "execution_count": null,
   "metadata": {},
   "outputs": [],
   "source": [
    "# This is the image to be classified with above network\n",
    "image_file = '/tmp/workspace/Pictures/Saxophone.jpg'\n",
    "\n",
    "print(\"[INFO] loading image...\")\n",
    "\n",
    "orig_image = PIL.Image.open(image_file)\n",
    "img = ipywidgets.Image(value=pil2ipy(orig_image))\n",
    "display(img)"
   ]
  },
  {
   "cell_type": "code",
   "execution_count": null,
   "metadata": {},
   "outputs": [],
   "source": [
    "print(\"[INFO] classifying image {} with {}...\".format(image_file, network.__name__))\n",
    "gap_cam = GAPCAM(model, preprocess)\n",
    "gap_cam.process(orig_image)\n",
    "results = gap_cam.get_predictions(top=10)\n",
    "\n",
    "p = pd.DataFrame(results).set_index('rank')\n",
    "print(p)"
   ]
  },
  {
   "cell_type": "code",
   "execution_count": null,
   "metadata": {},
   "outputs": [],
   "source": [
    "# Get the GAP-CAM heatmap for the dominant class\n",
    "maxclass = results[0]['class']\n",
    "heatmap = gap_cam.get_heatmap(maxclass)\n",
    "jetmap = colormap(heatmap, s_jetmap)\n",
    "jetmap_image = PIL.Image.fromarray(jetmap).resize((orig_image.width, orig_image.height), resample=PIL.Image.BICUBIC)\n",
    "\n",
    "# Overlay the heatmap over the original picture\n",
    "image_array = keras.preprocessing.image.img_to_array(orig_image)\n",
    "jetmap_array = keras.preprocessing.image.img_to_array(jetmap_image)\n",
    "\n",
    "overlay_image = PIL.Image.fromarray(uint8scale(image_array * jetmap_array))\n",
    "img.value = pil2ipy(overlay_image)"
   ]
  },
  {
   "cell_type": "code",
   "execution_count": null,
   "metadata": {},
   "outputs": [],
   "source": []
  }
 ],
 "metadata": {
  "kernelspec": {
   "display_name": "Python 3",
   "language": "python",
   "name": "python3"
  },
  "language_info": {
   "codemirror_mode": {
    "name": "ipython",
    "version": 3
   },
   "file_extension": ".py",
   "mimetype": "text/x-python",
   "name": "python",
   "nbconvert_exporter": "python",
   "pygments_lexer": "ipython3",
   "version": "3.5.2"
  }
 },
 "nbformat": 4,
 "nbformat_minor": 2
}
