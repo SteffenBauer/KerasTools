{
 "cells": [
  {
   "cell_type": "code",
   "execution_count": null,
   "metadata": {},
   "outputs": [],
   "source": [
    "import tensorflow as tf\n",
    "tf.logging.set_verbosity(tf.logging.ERROR)\n",
    "\n",
    "import PIL, io, ipywidgets\n",
    "import keras\n",
    "import numpy as np"
   ]
  },
  {
   "cell_type": "code",
   "execution_count": null,
   "metadata": {},
   "outputs": [],
   "source": [
    "# Load a trained network and print its architecture\n",
    "network = keras.models.load_model('mnist_trained.h5')\n",
    "network.summary()"
   ]
  },
  {
   "cell_type": "code",
   "execution_count": null,
   "metadata": {},
   "outputs": [],
   "source": [
    "# Prepare the data to be classified by our network\n",
    "# We use the MNIST test dataset for make predictions.\n",
    "# For a real application you'd need to provide your production data in appropriate shape\n",
    "\n",
    "_, (test_images, test_labels) = keras.datasets.mnist.load_data()\n",
    "\n",
    "# Reshape the raw test data to (10000, 784) and normalize it\n",
    "input_shape = (test_images.shape[0], network.input_shape[1])\n",
    "test_images_re = test_images.reshape(input_shape)\n",
    "test_images_re = test_images_re.astype('float32') / 255"
   ]
  },
  {
   "cell_type": "code",
   "execution_count": null,
   "metadata": {},
   "outputs": [],
   "source": [
    "# Use the network to classify a handwritten digit\n",
    "entry=2\n",
    "\n",
    "# Use the predict() function of the trained network\n",
    "prediction = network.predict(test_images_re[entry:entry+1])\n",
    "\n",
    "# Print the raw prediction return (array of probabilities for each number)\n",
    "# Note: predict() expects an array of input samples, and returns an array of corresponding predicted values\n",
    "print(\"Raw prediction result: {}\".format(prediction[0]))\n",
    "\n",
    "# The predicted label is the index with the highest calculated probability\n",
    "predicted_label = np.argmax(prediction, axis=1)\n",
    "\n",
    "# Print the original image labels, together with the predicted labels\n",
    "print(\"Original label:  {}\".format(test_labels[entry]))\n",
    "print(\"Predicted label: {}\".format(predicted_label[0]))\n"
   ]
  },
  {
   "cell_type": "code",
   "execution_count": null,
   "metadata": {},
   "outputs": [],
   "source": [
    "# Show the image & pretty-print detailed categorization scores\n",
    "buf = io.BytesIO()\n",
    "PIL.Image.fromarray(test_images[entry]).resize((256, 256)).save(buf, 'gif')\n",
    "img = ipywidgets.Image(value=buf.getvalue())\n",
    "display(img)\n",
    "\n",
    "results = [{'label': l, 'score': s*100} for l,s in enumerate(prediction[0])]\n",
    "print('-' * 20)\n",
    "print(\"{0:>5} | {1:>6} \".format(\"Label\", \"Score\"))\n",
    "print('-' * 20)\n",
    "for r in results:\n",
    "    print(\"{label:>5} | {score:>6.2f}% \".format(**r))\n",
    "print('-' * 20)"
   ]
  },
  {
   "cell_type": "code",
   "execution_count": null,
   "metadata": {},
   "outputs": [],
   "source": []
  }
 ],
 "metadata": {
  "kernelspec": {
   "display_name": "Python 3",
   "language": "python",
   "name": "python3"
  },
  "language_info": {
   "codemirror_mode": {
    "name": "ipython",
    "version": 3
   },
   "file_extension": ".py",
   "mimetype": "text/x-python",
   "name": "python",
   "nbconvert_exporter": "python",
   "pygments_lexer": "ipython3",
   "version": "3.5.2"
  }
 },
 "nbformat": 4,
 "nbformat_minor": 2
}
