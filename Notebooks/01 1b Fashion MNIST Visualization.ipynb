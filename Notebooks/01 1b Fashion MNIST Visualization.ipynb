{
 "cells": [
  {
   "cell_type": "code",
   "execution_count": 1,
   "metadata": {},
   "outputs": [
    {
     "name": "stderr",
     "output_type": "stream",
     "text": [
      "Using TensorFlow backend.\n"
     ]
    }
   ],
   "source": [
    "# Import the necessary libraries\n",
    "from __future__ import print_function\n",
    "import KerasTools as KT\n",
    "from keras.datasets import fashion_mnist\n",
    "import matplotlib.pyplot as plt\n",
    "\n",
    "# Needed for smooth matplotlib graph plotting\n",
    "%matplotlib inline"
   ]
  },
  {
   "cell_type": "code",
   "execution_count": 2,
   "metadata": {},
   "outputs": [
    {
     "name": "stdout",
     "output_type": "stream",
     "text": [
      "Train images numpy shape: (60000, 28, 28)\n",
      "Train labels numpy shape: (60000,)\n",
      "Test images numpy shape: (10000, 28, 28)\n",
      "Test labels numpy shape: (10000,)\n"
     ]
    }
   ],
   "source": [
    "# Step 1:\n",
    "#\n",
    "# Load the Fashion MNIST dataset, consisting of 70000 small scale (28x28) grayscale images\n",
    "#\n",
    "# It contains of a train and a test set,\n",
    "# each consisting of an array of RGB images with corresponding labels\n",
    "\n",
    "(train_images, train_labels), (test_images, test_labels) = fashion_mnist.load_data()\n",
    "\n",
    "print(\"Train images numpy shape: {}\".format(train_images.shape))\n",
    "print(\"Train labels numpy shape: {}\".format(train_labels.shape))\n",
    "print(\"Test images numpy shape: {}\".format(test_images.shape))\n",
    "print(\"Test labels numpy shape: {}\".format(test_labels.shape))"
   ]
  },
  {
   "cell_type": "code",
   "execution_count": 3,
   "metadata": {},
   "outputs": [
    {
     "data": {
      "image/png": "[encoded data removed]",
      "text/plain": [
       "<Figure size 432x288 with 1 Axes>"
      ]
     },
     "metadata": {},
     "output_type": "display_data"
    }
   ],
   "source": [
    "# Step 2:\n",
    "#\n",
    "# Visualize some data. Lets look how an image looks like and what is its corresponding label\n",
    "\n",
    "entry = 5\n",
    "image = train_images[entry]\n",
    "label = train_labels[entry]\n",
    "desc = KT.decode_dataset('fmnist', label)\n",
    "plt.title(\"FMNIST image no. {0} with label '{1}/{2}'\".format(entry, label, desc))\n",
    "plt.imshow(image, cmap=plt.cm.binary)\n",
    "plt.show()"
   ]
  },
  {
   "cell_type": "code",
   "execution_count": null,
   "metadata": {},
   "outputs": [],
   "source": []
  }
 ],
 "metadata": {
  "kernelspec": {
   "display_name": "Python 2",
   "language": "python",
   "name": "python2"
  },
  "language_info": {
   "codemirror_mode": {
    "name": "ipython",
    "version": 2
   },
   "file_extension": ".py",
   "mimetype": "text/x-python",
   "name": "python",
   "nbconvert_exporter": "python",
   "pygments_lexer": "ipython2",
   "version": "2.7.13"
  }
 },
 "nbformat": 4,
 "nbformat_minor": 2
}
