{
 "cells": [
  {
   "cell_type": "code",
   "execution_count": null,
   "metadata": {},
   "outputs": [],
   "source": [
    "from __future__ import print_function\n",
    "import os, sys\n",
    "module_path = os.path.abspath(os.path.join('..'))\n",
    "if module_path not in sys.path:\n",
    "    sys.path.append(module_path)\n",
    "\n",
    "os.environ[\"CUDA_DEVICE_ORDER\"] = \"PCI_BUS_ID\"\n",
    "os.environ[\"CUDA_VISIBLE_DEVICES\"] = \"-1\"\n",
    "    \n",
    "import keras\n",
    "import KerasTools as KT\n",
    "import numpy as np"
   ]
  },
  {
   "cell_type": "code",
   "execution_count": null,
   "metadata": {},
   "outputs": [],
   "source": [
    "max_features = 10000 # Top most frequent words to consider\n",
    "maxlen = 200       # Cut texts after this number of words\n",
    "\n",
    "print('Load data...')\n",
    "(train_data, train_labels), (test_data, test_labels) = keras.datasets.reuters.load_data(num_words=max_features)"
   ]
  },
  {
   "cell_type": "code",
   "execution_count": null,
   "metadata": {},
   "outputs": [],
   "source": [
    "def vectorize_sequences(sequences, dimension=10000):\n",
    "    results = np.zeros((len(sequences), dimension))\n",
    "    for i, sequence in enumerate(sequences):\n",
    "        results[i, sequence] = 1.\n",
    "    return results\n",
    "x_train = vectorize_sequences(train_data)\n",
    "y_train = keras.utils.to_categorical(train_labels)\n",
    "x_test = vectorize_sequences(test_data)\n",
    "y_test = keras.utils.to_categorical(test_labels)\n",
    "print('x_train shape:', x_train.shape)\n",
    "print('y_train shape:', y_train.shape)\n",
    "print('x_test shape:', x_test.shape)\n",
    "print('y_test shape:', y_test.shape)"
   ]
  },
  {
   "cell_type": "code",
   "execution_count": null,
   "metadata": {},
   "outputs": [],
   "source": [
    "print('Pad sequences (samples x time)')\n",
    "x_train = keras.preprocessing.sequence.pad_sequences(train_data, maxlen=maxlen)\n",
    "y_train = keras.utils.to_categorical(train_labels)\n",
    "x_test = keras.preprocessing.sequence.pad_sequences(test_data, maxlen=maxlen)\n",
    "y_test = keras.utils.to_categorical(test_labels)\n",
    "print('x_train shape:', x_train.shape)\n",
    "print('y_train shape:', y_train.shape)\n",
    "print('x_test shape:', x_test.shape)\n",
    "print('y_test shape:', y_test.shape)"
   ]
  },
  {
   "cell_type": "code",
   "execution_count": null,
   "metadata": {},
   "outputs": [],
   "source": [
    "import collections\n",
    "mapping = collections.Counter(train_labels)\n",
    "weights = {k: float(len(train_labels)) / float((len(mapping)) * mapping[k]) for k in mapping}"
   ]
  },
  {
   "cell_type": "code",
   "execution_count": null,
   "metadata": {},
   "outputs": [],
   "source": [
    "print('Build model...')\n",
    "model = keras.models.Sequential()\n",
    "#model.add(keras.layers.Embedding(max_features, 16, input_shape=(maxlen, ), mask_zero=False))\n",
    "#model.add(keras.layers.Flatten())\n",
    "model.add(keras.layers.Dense(46, activation='relu', input_shape=(max_features,)))\n",
    "#model.add(keras.layers.Dense(64, activation='relu'))\n",
    "model.add(keras.layers.Dense(46, activation='softmax'))\n",
    "\n",
    "model.compile(loss='categorical_crossentropy',\n",
    "              optimizer=keras.optimizers.RMSprop(),\n",
    "              metrics=['accuracy'])\n",
    "model.summary()"
   ]
  },
  {
   "cell_type": "code",
   "execution_count": null,
   "metadata": {},
   "outputs": [],
   "source": [
    "print('Train...')\n",
    "history = model.fit(x_train, y_train, class_weight = weights,\n",
    "          batch_size=256, epochs=25, validation_split=0.1)"
   ]
  },
  {
   "cell_type": "code",
   "execution_count": null,
   "metadata": {},
   "outputs": [],
   "source": [
    "KT.plot_history(history.history)"
   ]
  },
  {
   "cell_type": "code",
   "execution_count": null,
   "metadata": {},
   "outputs": [],
   "source": [
    "print('Build and train final model...')\n",
    "model = keras.models.Sequential()\n",
    "#model.add(keras.layers.Embedding(max_features, 16, input_shape=(maxlen, ), mask_zero=False))\n",
    "#model.add(keras.layers.Flatten())\n",
    "#model.add(keras.layers.Dense(64, activation='relu'))\n",
    "model.add(keras.layers.Dense(46, activation='relu', input_shape=(max_features,)))\n",
    "model.add(keras.layers.Dense(46, activation='softmax'))\n",
    "\n",
    "model.compile(loss='categorical_crossentropy',\n",
    "              optimizer=keras.optimizers.RMSprop(),\n",
    "              metrics=['accuracy'])\n",
    "final_epochs = 8\n",
    "model.fit(x_train, y_train, batch_size=256, epochs=final_epochs, class_weight = weights)\n",
    "test_loss, test_acc = model.evaluate(x_test, y_test)"
   ]
  },
  {
   "cell_type": "code",
   "execution_count": null,
   "metadata": {},
   "outputs": [],
   "source": [
    "history.history['test_loss'] = test_loss\n",
    "history.history['test_acc'] = test_acc\n",
    "history.history['epochs'] = final_epochs\n",
    "KT.plot_history(history.history)"
   ]
  },
  {
   "cell_type": "code",
   "execution_count": null,
   "metadata": {},
   "outputs": [],
   "source": [
    "model.save(\"reuters.h5\")"
   ]
  },
  {
   "cell_type": "code",
   "execution_count": null,
   "metadata": {},
   "outputs": [],
   "source": [
    "raw_word_index = keras.datasets.reuters.get_word_index()\n",
    "word_index = {v+3:k for k,v in raw_word_index.items()}\n",
    "word_index[0] = '-PAD-'\n",
    "word_index[1] = '-START-'\n",
    "word_index[2] = '-UNK-'\n",
    "\n",
    "# Reconstruct test data entry as string\n",
    "entry = 301\n",
    "print(\" \".join(word_index.get(w, 2) for w in test_data[entry]))\n",
    "result = model.predict(x_test[entry:entry+1])\n",
    "prediction = KT.datasets.decode.decode_predictions('reuters', result, top=5)\n",
    "\n",
    "print('-' * 32)\n",
    "print(\" Real newswire category: {}\".format(test_labels[entry]))\n",
    "print('-' * 32)\n",
    "print(\" Prediction:\")\n",
    "print('-' * 32)\n",
    "print(\"{0:>6} | {1:>12} | {2:>6} \".format(\"Class\", \"Label\", \"Score\"))\n",
    "print('-' * 32)\n",
    "for p in prediction[0]:\n",
    "    print(\"{0:>6} | {1:>12} | {2:>6.2f}% \".format(*p))\n",
    "print('-' * 32)"
   ]
  },
  {
   "cell_type": "code",
   "execution_count": null,
   "metadata": {},
   "outputs": [],
   "source": []
  }
 ],
 "metadata": {
  "kernelspec": {
   "display_name": "Python 2",
   "language": "python",
   "name": "python2"
  },
  "language_info": {
   "codemirror_mode": {
    "name": "ipython",
    "version": 2
   },
   "file_extension": ".py",
   "mimetype": "text/x-python",
   "name": "python",
   "nbconvert_exporter": "python",
   "pygments_lexer": "ipython2",
   "version": "2.7.13"
  }
 },
 "nbformat": 4,
 "nbformat_minor": 2
}
