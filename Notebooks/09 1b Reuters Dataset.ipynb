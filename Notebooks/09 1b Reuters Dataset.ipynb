{
 "cells": [
  {
   "cell_type": "code",
   "execution_count": null,
   "metadata": {},
   "outputs": [],
   "source": [
    "import os, sys\n",
    "import keras\n",
    "import numpy as np\n",
    "\n",
    "import tensorflow as tf\n",
    "tf.logging.set_verbosity(tf.logging.ERROR)"
   ]
  },
  {
   "cell_type": "code",
   "execution_count": null,
   "metadata": {},
   "outputs": [],
   "source": [
    "# Step 1\n",
    "\n",
    "# Load the Reuters dataset, Dataset of 11,228 newswires from Reuters, labeled over 46 topics.\n",
    "# \n",
    "# It is split into training and test set of 8982 / 2246 entries.\n",
    "# The words are tokenized into integer encoding.\n",
    "\n",
    "(train_data, train_labels), (test_data, test_labels) = keras.datasets.reuters.load_data(test_split=0.0)"
   ]
  },
  {
   "cell_type": "code",
   "execution_count": null,
   "metadata": {},
   "outputs": [],
   "source": [
    "print(train_data.shape)\n",
    "print(test_data.shape)\n",
    "print(max(len(e) for e in train_data))"
   ]
  },
  {
   "cell_type": "code",
   "execution_count": null,
   "metadata": {},
   "outputs": [],
   "source": [
    "# Step 2\n",
    "\n",
    "# Show raw data of training set entry '0'\n",
    "# train_data: Tokenized newswire entry\n",
    "# train_label: Category of newswire\n",
    "\n",
    "print(\"Raw training entry No 0: {}\".format(train_data[0]))\n",
    "print\n",
    "print(\"Raw training label No 0: '{}'\".format(train_labels[0]))"
   ]
  },
  {
   "cell_type": "code",
   "execution_count": null,
   "metadata": {
    "scrolled": true
   },
   "outputs": [],
   "source": [
    "# Step 3\n",
    "\n",
    "# Use the tokenizer word encoding dictionary to reconstruct the original review text.\n",
    "#\n",
    "# Note: Tokens 0, 1, and 2 are reserved for 'padding', 'start of sequence', and 'unknown word'\n",
    "\n",
    "raw_word_index = keras.datasets.reuters.get_word_index()\n",
    "word_index = {v+3:k for k,v in raw_word_index.items()}\n",
    "word_index[0] = '-PAD-'\n",
    "word_index[1] = '-START-'\n",
    "word_index[2] = '-UNK-'\n",
    "\n",
    "# Reconstruct train data entry as string\n",
    "entry = 202\n",
    "print(\"Newswire category: {}\".format(train_labels[entry]))\n",
    "print(\" \".join(word_index.get(w, 2) for w in train_data[entry]))"
   ]
  },
  {
   "cell_type": "code",
   "execution_count": null,
   "metadata": {},
   "outputs": [],
   "source": [
    "train_elabels = [(c, i) for i,c in enumerate(train_labels)]"
   ]
  },
  {
   "cell_type": "code",
   "execution_count": null,
   "metadata": {},
   "outputs": [],
   "source": [
    "freqs = []\n",
    "for i in range(46):\n",
    "    freqs.append((i, list(train_labels).count(i)))\n",
    "print(sorted(freqs, key=lambda x:x[1], reverse=True))"
   ]
  },
  {
   "cell_type": "code",
   "execution_count": null,
   "metadata": {},
   "outputs": [],
   "source": [
    "category = 41\n",
    "cat = [e[1] for e in filter(lambda x: x[0]==category, train_elabels)]\n",
    "print(\"Number of entries for category {}: {}\".format(category, len(cat)))\n",
    "print()\n",
    "for c in cat:\n",
    "    print(\" \".join(word_index.get(w, 2) for w in train_data[c]))\n",
    "    print()"
   ]
  },
  {
   "cell_type": "code",
   "execution_count": null,
   "metadata": {},
   "outputs": [],
   "source": []
  }
 ],
 "metadata": {
  "kernelspec": {
   "display_name": "Python 3",
   "language": "python",
   "name": "python3"
  },
  "language_info": {
   "codemirror_mode": {
    "name": "ipython",
    "version": 3
   },
   "file_extension": ".py",
   "mimetype": "text/x-python",
   "name": "python",
   "nbconvert_exporter": "python",
   "pygments_lexer": "ipython3",
   "version": "3.5.2"
  }
 },
 "nbformat": 4,
 "nbformat_minor": 2
}
