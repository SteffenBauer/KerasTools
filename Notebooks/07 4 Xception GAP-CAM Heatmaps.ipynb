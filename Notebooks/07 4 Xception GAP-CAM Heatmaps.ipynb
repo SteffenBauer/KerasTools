{
 "cells": [
  {
   "cell_type": "code",
   "execution_count": null,
   "metadata": {},
   "outputs": [],
   "source": [
    "from keras import backend as K\n",
    "from keras.applications import imagenet_utils\n",
    "from keras.applications import xception as network \n",
    "from keras.preprocessing.image import img_to_array\n",
    "from keras.preprocessing.image import load_img\n",
    "import matplotlib.pyplot as plt\n",
    "from keras.models import Model\n",
    "%matplotlib inline \n",
    "\n",
    "import numpy as np\n",
    "import tensorflow as tf\n",
    "tf.logging.set_verbosity(tf.logging.ERROR)\n",
    "\n",
    "inputShape = (299, 299, 3)\n",
    "\n",
    "print(\"[INFO] loading {}...\".format(network.__name__))\n",
    "model = network.Xception(weights=\"imagenet\")\n",
    "\n",
    "# Generate GAP model to return both classification and final feature maps layers\n",
    "GAP_model = Model(inputs=model.input,\n",
    "                  outputs=(model.layers[-3].output, model.layers[-1].output))"
   ]
  },
  {
   "cell_type": "code",
   "execution_count": null,
   "metadata": {},
   "outputs": [],
   "source": [
    "# This is the image to be classified with above network\n",
    "image_file = '/tmp/workspace/Pictures/elephants.jpg'\n",
    "\n",
    "print(\"[INFO] loading and pre-processing image...\")\n",
    "\n",
    "raw_image = load_img(image_file)\n",
    "plt.imshow(raw_image)\n",
    "plt.show()\n",
    "\n",
    "image = load_img(image_file, target_size=inputShape)\n",
    "image = img_to_array(image)\n",
    "image = np.expand_dims(image, axis=0)\n",
    "image = network.preprocess_input(image)\n",
    "\n",
    "print(\"[INFO] classifying image {} with {}...\".format(image_file, network.__name__))\n",
    "last_conv_output, preds = GAP_model.predict(image)\n",
    "P = imagenet_utils.decode_predictions(preds)\n",
    "\n",
    "results=[{'rank': i+1, 'score': prob*100.0, 'class': np.where(preds == prob)[1][0], 'id': imagenetID, 'label': label}\n",
    "         for (i, (imagenetID, label, prob)) in enumerate(P[0])]\n",
    "\n",
    "print('-' * 60)\n",
    "print(\"{0:>5} |{1:>6}  |{2:>6} | {3:<12}| {4:<32}\".format(\"Rank\", \"Score\", \"Class\", \"ImageNet ID\", \"Label\"))\n",
    "print('-' * 60)\n",
    "for r in results:\n",
    "    print(\"{rank:>5} |{score:>6.2f}% |{class:>6} | {id:<12}| {label:<48}\".format(**r))\n",
    "print('-' * 60)"
   ]
  },
  {
   "cell_type": "code",
   "execution_count": null,
   "metadata": {},
   "outputs": [],
   "source": [
    "maxclass = np.argmax(preds[0])\n",
    "\n",
    "# Perform the GAP-CAM process\n",
    "last_conv_output = np.squeeze(last_conv_output)\n",
    "all_amp_layer_weights = model.layers[-1].get_weights()[0]\n",
    "amp_layer_weights = all_amp_layer_weights[:, maxclass]\n",
    "\n",
    "fh, fw, fn = last_conv_output.shape\n",
    "final_output = np.dot(last_conv_output.reshape((fh*fw, fn)), amp_layer_weights).reshape(fh,fw)\n",
    "final_output /= np.max(final_output)\n",
    "final_output = np.maximum(final_output, 0.0)\n",
    "\n",
    "plt.figure(figsize=(15,15))\n",
    "plt.subplot(1, 2, 1)\n",
    "plt.imshow(final_output)\n",
    "plt.subplot(1, 2, 2)\n",
    "plt.imshow(raw_image)\n",
    "plt.show()"
   ]
  },
  {
   "cell_type": "code",
   "execution_count": null,
   "metadata": {},
   "outputs": [],
   "source": []
  }
 ],
 "metadata": {
  "kernelspec": {
   "display_name": "Python 3",
   "language": "python",
   "name": "python3"
  },
  "language_info": {
   "codemirror_mode": {
    "name": "ipython",
    "version": 3
   },
   "file_extension": ".py",
   "mimetype": "text/x-python",
   "name": "python",
   "nbconvert_exporter": "python",
   "pygments_lexer": "ipython3",
   "version": "3.5.2"
  }
 },
 "nbformat": 4,
 "nbformat_minor": 2
}
