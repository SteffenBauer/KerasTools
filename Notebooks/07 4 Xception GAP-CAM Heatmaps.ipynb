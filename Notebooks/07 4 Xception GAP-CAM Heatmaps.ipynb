{
 "cells": [
  {
   "cell_type": "code",
   "execution_count": null,
   "metadata": {},
   "outputs": [],
   "source": [
    "import PIL, io, ipywidgets\n",
    "import keras\n",
    "import keras.applications.imagenet_utils\n",
    "import numpy as np\n",
    "import tensorflow as tf\n",
    "tf.logging.set_verbosity(tf.logging.ERROR)\n",
    "\n",
    "inputShape = (299, 299, 3)\n",
    "\n",
    "network = keras.applications.xception\n",
    "print(\"[INFO] loading {}...\".format(network.__name__))\n",
    "model = network.Xception(weights=\"imagenet\")\n",
    "\n",
    "# Generate GAP model to return both classification and final feature maps layers\n",
    "GAP_model = keras.models.Model(inputs=model.input,\n",
    "                  outputs=(model.layers[-3].output, model.layers[-1].output))"
   ]
  },
  {
   "cell_type": "code",
   "execution_count": null,
   "metadata": {},
   "outputs": [],
   "source": [
    "# This is the image to be classified with above network\n",
    "image_file = '/tmp/workspace/Pictures/fuji_temple.jpg'\n",
    "\n",
    "print(\"[INFO] loading and pre-processing image...\")\n",
    "\n",
    "pimage = PIL.Image.open(image_file)\n",
    "buf = io.BytesIO()\n",
    "pimage.save(buf, format='png')\n",
    "img = ipywidgets.Image(value=buf.getvalue())\n",
    "display(img)"
   ]
  },
  {
   "cell_type": "code",
   "execution_count": null,
   "metadata": {},
   "outputs": [],
   "source": [
    "image = keras.preprocessing.image.img_to_array(pimage.resize(inputShape[:2])).astype('uint8')\n",
    "image = np.expand_dims(image, axis=0)\n",
    "image = network.preprocess_input(image)"
   ]
  },
  {
   "cell_type": "code",
   "execution_count": null,
   "metadata": {},
   "outputs": [],
   "source": [
    "print(\"[INFO] classifying image {} with {}...\".format(image_file, network.__name__))\n",
    "last_conv_output, preds = GAP_model.predict(image)\n",
    "P = keras.applications.imagenet_utils.decode_predictions(preds)\n",
    "\n",
    "results=[{'rank': i+1, 'score': prob*100.0, 'class': np.where(preds == prob)[1][0], 'id': imagenetID, 'label': label}\n",
    "         for (i, (imagenetID, label, prob)) in enumerate(P[0])]\n",
    "\n",
    "print('-' * 60)\n",
    "print(\"{0:>5} |{1:>6}  |{2:>6} | {3:<12}| {4:<32}\".format(\"Rank\", \"Score\", \"Class\", \"ImageNet ID\", \"Label\"))\n",
    "print('-' * 60)\n",
    "for r in results:\n",
    "    print(\"{rank:>5} |{score:>6.2f}% |{class:>6} | {id:<12}| {label:<48}\".format(**r))\n",
    "print('-' * 60)"
   ]
  },
  {
   "cell_type": "code",
   "execution_count": null,
   "metadata": {},
   "outputs": [],
   "source": [
    "def s_jetmap(s):\n",
    "    g = s[0]\n",
    "    if g < 64:  return np.asarray((0, 4*g, 255)).astype('uint8')\n",
    "    if g < 128: return np.asarray((0, 255, 255+4*(64-g))).astype('uint8')\n",
    "    if g < 192: return np.asarray((4*(g-128), 255, 0)).astype('uint8')\n",
    "    return np.asarray((255, 255+4*(192-g), 0)).astype('uint8')\n",
    "\n",
    "def s_graymap(s):\n",
    "    return np.asarray((s[0], s[0], s[0])).astype('uint8')\n",
    "\n",
    "def colormap(heatmap, cmap=s_jetmap):\n",
    "    return np.apply_along_axis(cmap, -1, np.expand_dims(heatmap, axis=-1)).reshape((heatmap.shape[0],heatmap.shape[1],3))\n"
   ]
  },
  {
   "cell_type": "code",
   "execution_count": null,
   "metadata": {},
   "outputs": [],
   "source": [
    "maxclass = np.argmax(preds[0])\n",
    "#maxclass = 832\n",
    "\n",
    "# Perform the GAP-CAM process\n",
    "last_conv_output = np.squeeze(last_conv_output)\n",
    "all_amp_layer_weights = model.layers[-1].get_weights()[0]\n",
    "amp_layer_weights = all_amp_layer_weights[:, maxclass]\n",
    "\n",
    "fh, fw, fn = last_conv_output.shape\n",
    "final_output = np.dot(last_conv_output.reshape((fh*fw, fn)), amp_layer_weights).reshape(fh,fw)\n",
    "final_output /= np.max(final_output)\n",
    "\n",
    "final_output *= 255\n",
    "final_output = np.maximum(final_output, 0.0).astype('uint8')\n",
    "heatmap = colormap(final_output, s_jetmap)\n",
    "pfimage = PIL.Image.fromarray(heatmap).resize((pimage.width, pimage.height), resample=PIL.Image.BICUBIC)\n",
    "\n",
    "poimage = keras.preprocessing.image.img_to_array(pimage)\n",
    "himage = keras.preprocessing.image.img_to_array(pfimage)\n",
    "\n",
    "eimage = poimage * himage\n",
    "eimage /= np.max(eimage)\n",
    "eimage *= 255\n",
    "\n",
    "eoimage = PIL.Image.fromarray(eimage.astype('uint8'))\n",
    "buf = io.BytesIO()\n",
    "eoimage.save(buf, format='png')\n",
    "img = ipywidgets.Image(value=buf.getvalue())\n",
    "display(img)"
   ]
  },
  {
   "cell_type": "code",
   "execution_count": null,
   "metadata": {},
   "outputs": [],
   "source": []
  }
 ],
 "metadata": {
  "kernelspec": {
   "display_name": "Python 3",
   "language": "python",
   "name": "python3"
  },
  "language_info": {
   "codemirror_mode": {
    "name": "ipython",
    "version": 3
   },
   "file_extension": ".py",
   "mimetype": "text/x-python",
   "name": "python",
   "nbconvert_exporter": "python",
   "pygments_lexer": "ipython3",
   "version": "3.5.2"
  }
 },
 "nbformat": 4,
 "nbformat_minor": 2
}
