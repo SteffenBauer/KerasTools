{
 "cells": [
  {
   "cell_type": "code",
   "execution_count": null,
   "metadata": {},
   "outputs": [],
   "source": [
    "from __future__ import print_function\n",
    "import os, sys\n",
    "module_path = os.path.abspath(os.path.join('..'))\n",
    "if module_path not in sys.path:\n",
    "    sys.path.append(module_path)\n",
    "import KerasTools as KT\n",
    "import ipywidgets\n",
    "import StringIO\n",
    "import matplotlib.pyplot as plt\n",
    "import skimage\n",
    "import time"
   ]
  },
  {
   "cell_type": "code",
   "execution_count": null,
   "metadata": {},
   "outputs": [],
   "source": [
    "button_ly = ipywidgets.Layout(width='34px', height='30px', border='1px solid black')\n",
    "bleft_st = ipywidgets.ButtonStyle(font_weight='bold', button_color='yellow')\n",
    "bleft = ipywidgets.Button(layout=button_ly, style=bleft_st, icon='arrow-left')\n",
    "\n",
    "bright_st = ipywidgets.ButtonStyle(font_weight='bold', button_color='yellow')\n",
    "bright = ipywidgets.Button(layout=button_ly, style=bright_st, icon='arrow-right')\n",
    "\n",
    "bstay_st = ipywidgets.ButtonStyle(font_weight='bold', button_color='yellow')\n",
    "bstay = ipywidgets.Button(layout=button_ly, style=bstay_st, icon='dot-circle-o')\n",
    "\n",
    "lt = ipywidgets.Layout(width='68px', height='30px', border='1px solid black')\n",
    "stt = ipywidgets.ButtonStyle(font_weight='bold', button_color='green')\n",
    "bnew = ipywidgets.Button(layout=lt, style=stt, description = 'New')\n",
    "stat = ipywidgets.HTML(layout=lt)\n",
    "\n",
    "bx = ipywidgets.HBox([bnew, bleft, bstay, bright, stat])\n",
    "\n",
    "img = ipywidgets.Image()\n",
    "game = KT.qlearn.catch.Catch()\n",
    "\n",
    "def plot_game(frame):\n",
    "    imbuf = StringIO.StringIO()\n",
    "    f = skimage.transform.resize(frame,(256,256), order=0, mode='constant', anti_aliasing=False)\n",
    "    plt.imsave(imbuf, f, vmin=0.0, vmax=1.0, cmap='nipy_spectral')\n",
    "    imbuf.seek(0)           \n",
    "    img.value = imbuf.buf\n",
    "\n",
    "def onButtonClicked(args):\n",
    "    if args.description == 'New':\n",
    "        game.reset()\n",
    "        stat.value = \"\"\n",
    "    elif not game.is_over():\n",
    "        args.style.button_color = 'red'\n",
    "        time.sleep(0.1)\n",
    "        args.style.button_color = 'yellow'\n",
    "        action = {'arrow-left': 0, 'dot-circle-o': 1, 'arrow-right': 2}\n",
    "        game.play(action[args.icon])\n",
    "    stat.value = \"<center><big><b>R: {}\".format(str(game.get_score()))    \n",
    "    plot_game(game.get_frame())\n",
    "\n",
    "bleft.on_click(onButtonClicked)\n",
    "bstay.on_click(onButtonClicked)\n",
    "bright.on_click(onButtonClicked)\n",
    "bnew.on_click(onButtonClicked)\n",
    "\n",
    "display(img)\n",
    "display(bx)\n",
    "plot_game(game.get_frame())"
   ]
  },
  {
   "cell_type": "code",
   "execution_count": null,
   "metadata": {},
   "outputs": [],
   "source": []
  }
 ],
 "metadata": {
  "kernelspec": {
   "display_name": "Python 2",
   "language": "python",
   "name": "python2"
  },
  "language_info": {
   "codemirror_mode": {
    "name": "ipython",
    "version": 2
   },
   "file_extension": ".py",
   "mimetype": "text/x-python",
   "name": "python",
   "nbconvert_exporter": "python",
   "pygments_lexer": "ipython2",
   "version": "2.7.13"
  }
 },
 "nbformat": 4,
 "nbformat_minor": 2
}
