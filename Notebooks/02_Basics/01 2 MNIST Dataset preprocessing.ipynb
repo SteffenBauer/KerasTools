{
 "cells": [
  {
   "cell_type": "code",
   "execution_count": null,
   "metadata": {},
   "outputs": [],
   "source": [
    "import keras\n",
    "import numpy as np"
   ]
  },
  {
   "cell_type": "code",
   "execution_count": null,
   "metadata": {},
   "outputs": [],
   "source": [
    "# Preprocess training & test data\n",
    "\n",
    "(train_images, train_labels), (test_images, test_labels) = keras.datasets.mnist.load_data()\n",
    "\n",
    "# Reshape the images to 1D arrays, of length 784\n",
    "train_images = train_images.reshape((60000, 28 * 28))\n",
    "test_images = test_images.reshape((10000, 28 * 28))\n",
    "\n",
    "# Convert to float32 and normalize to range [0.0 - 1.0]\n",
    "train_images = train_images.astype('float32') / 255\n",
    "test_images = test_images.astype('float32') / 255\n",
    "\n",
    "# Convert dataset labels to categorical encoding\n",
    "train_labels = keras.utils.to_categorical(train_labels, num_classes=10)\n",
    "test_labels = keras.utils.to_categorical(test_labels, num_classes=10)"
   ]
  },
  {
   "cell_type": "code",
   "execution_count": null,
   "metadata": {},
   "outputs": [],
   "source": [
    "# Print the preprocessed data for a single dataset entry\n",
    "entry = 4\n",
    "digit = train_images[entry]\n",
    "label = train_labels[entry]\n",
    "\n",
    "print(\"Numpy shape for preprocessed image entry no. {0}: {1}\".format(entry, digit.shape))\n",
    "print(\"Corresponding label in categorical encoding: {}\".format(label))\n",
    "print(\"Normalized image data:\")\n",
    "print(\"\".join(\"{: 4.2f}\".format(d) for d in digit))\n"
   ]
  },
  {
   "cell_type": "code",
   "execution_count": null,
   "metadata": {},
   "outputs": [],
   "source": []
  }
 ],
 "metadata": {
  "kernelspec": {
   "display_name": "Python 3",
   "language": "python",
   "name": "python3"
  },
  "language_info": {
   "codemirror_mode": {
    "name": "ipython",
    "version": 3
   },
   "file_extension": ".py",
   "mimetype": "text/x-python",
   "name": "python",
   "nbconvert_exporter": "python",
   "pygments_lexer": "ipython3",
   "version": "3.5.2"
  }
 },
 "nbformat": 4,
 "nbformat_minor": 2
}
