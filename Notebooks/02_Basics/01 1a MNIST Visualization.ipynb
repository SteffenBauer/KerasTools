{
 "cells": [
  {
   "cell_type": "code",
   "execution_count": null,
   "metadata": {},
   "outputs": [],
   "source": [
    "# Import the necessary libraries\n",
    "import PIL, io, ipywidgets\n",
    "import tensorflow.keras as keras"
   ]
  },
  {
   "cell_type": "code",
   "execution_count": null,
   "metadata": {},
   "outputs": [],
   "source": [
    "# Step 1:\n",
    "#\n",
    "# Load the MNIST dataset, consisting of 70000 handwritten digits\n",
    "#\n",
    "# It contains of a train and a test set,\n",
    "# each consisting of an array of grayscale images with corresponding labels\n",
    "\n",
    "(train_images, train_labels), (test_images, test_labels) = keras.datasets.mnist.load_data()\n",
    "\n",
    "print(\"Train images numpy shape: {}\".format(train_images.shape))\n",
    "print(\"Train labels numpy shape: {}\".format(train_labels.shape))\n",
    "print(\"Test images numpy shape: {}\".format(test_images.shape))\n",
    "print(\"Test labels numpy shape: {}\".format(test_labels.shape))"
   ]
  },
  {
   "cell_type": "code",
   "execution_count": null,
   "metadata": {},
   "outputs": [],
   "source": [
    "# Step 2:\n",
    "#\n",
    "# Visualize some data. Lets look how an image looks like and what is its corresponding label\n",
    "\n",
    "entry = 4\n",
    "digit = train_images[entry]\n",
    "label = train_labels[entry]\n",
    "print(\"MNIST image no. {0} with label '{1}'\".format(entry, label))\n",
    "\n",
    "buf = io.BytesIO()\n",
    "PIL.Image.fromarray(digit).resize((256, 256)).save(buf, 'bmp')\n",
    "\n",
    "img = ipywidgets.Image(value=buf.getvalue())\n",
    "display(img)"
   ]
  },
  {
   "cell_type": "code",
   "execution_count": null,
   "metadata": {},
   "outputs": [],
   "source": [
    "# Print the raw data for a single dataset entry\n",
    "\n",
    "print(\"Numpy shape for image entry no. {0}: {1}\".format(entry, digit.shape))\n",
    "print(\"Corresponding label: {}\".format(label))\n",
    "print(\"Raw image data:\")\n",
    "for line in digit:\n",
    "    print(\"\".join(\"{: 4d}\".format(c) for c in line))\n"
   ]
  },
  {
   "cell_type": "code",
   "execution_count": null,
   "metadata": {},
   "outputs": [],
   "source": []
  }
 ],
 "metadata": {
  "kernelspec": {
   "display_name": "Python 3",
   "language": "python",
   "name": "python3"
  },
  "language_info": {
   "codemirror_mode": {
    "name": "ipython",
    "version": 3
   },
   "file_extension": ".py",
   "mimetype": "text/x-python",
   "name": "python",
   "nbconvert_exporter": "python",
   "pygments_lexer": "ipython3",
   "version": "3.7.3"
  }
 },
 "nbformat": 4,
 "nbformat_minor": 2
}
