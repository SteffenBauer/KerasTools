{
 "cells": [
  {
   "cell_type": "code",
   "execution_count": null,
   "metadata": {},
   "outputs": [],
   "source": [
    "# Import the necessary libraries\n",
    "import PIL, io, ipywidgets\n",
    "import os, sys\n",
    "import tensorflow.keras as keras\n",
    "module_path = os.path.abspath(os.path.join('../..'))\n",
    "if module_path not in sys.path:\n",
    "    sys.path.append(module_path)\n",
    "import KerasTools as KT"
   ]
  },
  {
   "cell_type": "code",
   "execution_count": null,
   "metadata": {},
   "outputs": [],
   "source": [
    "# Step 1:\n",
    "#\n",
    "# Load the Fashion MNIST dataset, consisting of 70000 small scale (28x28) grayscale images\n",
    "#\n",
    "# It contains of a train and a test set,\n",
    "# each consisting of an array of RGB images with corresponding labels\n",
    "\n",
    "(train_images, train_labels), (test_images, test_labels) = keras.datasets.fashion_mnist.load_data()\n",
    "\n",
    "print(\"Train images numpy shape: {}\".format(train_images.shape))\n",
    "print(\"Train labels numpy shape: {}\".format(train_labels.shape))\n",
    "print(\"Test images numpy shape: {}\".format(test_images.shape))\n",
    "print(\"Test labels numpy shape: {}\".format(test_labels.shape))"
   ]
  },
  {
   "cell_type": "code",
   "execution_count": null,
   "metadata": {},
   "outputs": [],
   "source": [
    "# Step 2:\n",
    "#\n",
    "# Visualize some data. Lets look how an image looks like and what is its corresponding label\n",
    "\n",
    "entry = 5\n",
    "image = train_images[entry]\n",
    "label = train_labels[entry]\n",
    "desc = KT.datasets.decode.decode_dataset('fmnist', label)\n",
    "print(\"Fashion MNIST image no. {0} with label '{1} / {2}'\".format(entry, label, desc))\n",
    "buf = io.BytesIO()\n",
    "PIL.Image.fromarray(image).resize((256, 256)).save(buf, 'gif')\n",
    "\n",
    "img = ipywidgets.Image(value=buf.getvalue())\n",
    "display(img)"
   ]
  },
  {
   "cell_type": "code",
   "execution_count": null,
   "metadata": {},
   "outputs": [],
   "source": []
  }
 ],
 "metadata": {
  "kernelspec": {
   "display_name": "Python 3",
   "language": "python",
   "name": "python3"
  },
  "language_info": {
   "codemirror_mode": {
    "name": "ipython",
    "version": 3
   },
   "file_extension": ".py",
   "mimetype": "text/x-python",
   "name": "python",
   "nbconvert_exporter": "python",
   "pygments_lexer": "ipython3",
   "version": "3.7.3"
  }
 },
 "nbformat": 4,
 "nbformat_minor": 2
}
