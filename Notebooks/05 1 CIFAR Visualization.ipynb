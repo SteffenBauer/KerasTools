{
 "cells": [
  {
   "cell_type": "code",
   "execution_count": null,
   "metadata": {},
   "outputs": [],
   "source": [
    "# Import the necessary libraries\n",
    "from __future__ import print_function\n",
    "import KerasTools as KT\n",
    "from keras.datasets import cifar100\n",
    "import matplotlib.pyplot as plt\n",
    "\n",
    "# Needed for smooth matplotlib graph plotting\n",
    "%matplotlib inline"
   ]
  },
  {
   "cell_type": "code",
   "execution_count": null,
   "metadata": {},
   "outputs": [],
   "source": [
    "# Step 1:\n",
    "#\n",
    "# Load the CIFAR100 dataset, consisting of 60000 small scale (32x32) color images\n",
    "#\n",
    "# It contains of a train and a test set,\n",
    "# each consisting of an array of RGB images with corresponding labels\n",
    "\n",
    "(train_images, train_labels), (test_images, test_labels) = cifar100.load_data(label_mode='fine')\n",
    "\n",
    "print(\"Train images numpy shape: {}\".format(train_images.shape))\n",
    "print(\"Train labels numpy shape: {}\".format(train_labels.shape))\n",
    "print(\"Test images numpy shape: {}\".format(test_images.shape))\n",
    "print(\"Test labels numpy shape: {}\".format(test_labels.shape))"
   ]
  },
  {
   "cell_type": "code",
   "execution_count": null,
   "metadata": {},
   "outputs": [],
   "source": [
    "# Step 2:\n",
    "#\n",
    "# Visualize some data. Lets look how an image looks like and what is its corresponding label\n",
    "\n",
    "entry = 9\n",
    "image = train_images[entry]\n",
    "label = train_labels[entry][0]\n",
    "desc = KT.decode_dataset('cifar100_fine', label)\n",
    "plt.title(\"CIFAR100 image no. {0} with label '{1}/{2}'\".format(entry, label, desc))\n",
    "plt.imshow(image, cmap=plt.cm.binary)\n",
    "plt.show()"
   ]
  },
  {
   "cell_type": "code",
   "execution_count": null,
   "metadata": {},
   "outputs": [],
   "source": [
    "# Now load the CIFAR10 dataset, consisting also of 60000 small scale (32x32) color images\n",
    "# This datasets consists of different pictures, organized into 10 classes\n",
    "\n",
    "from keras.datasets import cifar10\n",
    "(train_c10_images, train_c10_labels), (test_c10_images, test_c10_labels) = cifar10.load_data()"
   ]
  },
  {
   "cell_type": "code",
   "execution_count": null,
   "metadata": {},
   "outputs": [],
   "source": [
    "entry = 7\n",
    "image = train_c10_images[entry]\n",
    "label = train_c10_labels[entry][0]\n",
    "desc = KT.decode_dataset('cifar10', label)\n",
    "plt.title(\"CIFAR10 image no. {0} with label '{1}/{2}'\".format(entry, label, desc))\n",
    "plt.imshow(image, cmap=plt.cm.binary)\n",
    "plt.show()"
   ]
  },
  {
   "cell_type": "code",
   "execution_count": null,
   "metadata": {},
   "outputs": [],
   "source": []
  }
 ],
 "metadata": {
  "kernelspec": {
   "display_name": "Python 2",
   "language": "python",
   "name": "python2"
  },
  "language_info": {
   "codemirror_mode": {
    "name": "ipython",
    "version": 2
   },
   "file_extension": ".py",
   "mimetype": "text/x-python",
   "name": "python",
   "nbconvert_exporter": "python",
   "pygments_lexer": "ipython2",
   "version": "2.7.13"
  }
 },
 "nbformat": 4,
 "nbformat_minor": 2
}
