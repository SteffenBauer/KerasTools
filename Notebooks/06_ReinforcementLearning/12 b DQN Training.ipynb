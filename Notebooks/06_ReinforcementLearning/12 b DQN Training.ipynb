{
 "cells": [
  {
   "cell_type": "code",
   "execution_count": null,
   "metadata": {},
   "outputs": [],
   "source": [
    "import os, sys, io, threading, collections, time\n",
    "module_path = os.path.abspath(os.path.join('../..'))\n",
    "if module_path not in sys.path:\n",
    "    sys.path.append(module_path)\n",
    "    \n",
    "import ipywidgets\n",
    "import PIL, PIL.Image\n",
    "import tensorflow as tf\n",
    "import tensorflow.keras as keras\n",
    "tf.compat.v1.disable_eager_execution()\n",
    "tf.get_logger().setLevel('ERROR')\n",
    "\n",
    "import KerasTools.rl.games.catch\n",
    "import KerasTools.rl.games.fruit\n",
    "import KerasTools.rl.games.snake\n",
    "import KerasTools.rl.games.tromis\n",
    "import KerasTools.rl.tools.gui\n",
    "import KerasTools.rl.callbacks.callbacks\n",
    "import KerasTools.rl.agents.dqn\n",
    "import KerasTools.rl.memory.uniqmemory"
   ]
  },
  {
   "cell_type": "code",
   "execution_count": null,
   "metadata": {},
   "outputs": [],
   "source": [
    "class GameStore(KerasTools.rl.callbacks.callbacks.Callback):\n",
    "    def __init__(self, gameQueue):\n",
    "        self.gameQueue = gameQueue\n",
    "        self.gameQueue.clear()\n",
    "    def game_start(self, frame):\n",
    "        self.episode = [(frame, None, 0.0, False)]\n",
    "    def game_step(self, frame, action, reward, isOver):\n",
    "        self.episode.append((frame, action, reward, isOver))\n",
    "    def game_over(self):\n",
    "        self.gameQueue.clear()\n",
    "        self.gameQueue.append(self.episode)\n",
    "        \n",
    "class GamePlot(threading.Thread):\n",
    "    def __init__(self, width, height, gameQueue):\n",
    "        threading.Thread.__init__(self, name=\"GamePlot\")\n",
    "        self.gameQueue = gameQueue\n",
    "        self.imbuf = io.BytesIO()\n",
    "        rx, ry = (256, int(height*256/width)) if (width > height) else (int(width*256/height), 256)\n",
    "        self.canvas = ipywidgets.Image(width=rx, height=ry)\n",
    "    def run(self):\n",
    "        while not stopEvent.isSet():\n",
    "            try: game = self.gameQueue.pop()\n",
    "            except IndexError: time.sleep(0.1)\n",
    "            else:\n",
    "                for frame in game:\n",
    "                    self.plot_frame(frame[0])\n",
    "                    time.sleep(0.1)\n",
    "                time.sleep(0.5)\n",
    "    def plot_frame(self, frame):\n",
    "        self.imbuf.seek(0)\n",
    "        fx, fy = frame.shape[0], frame.shape[1]\n",
    "        rx, ry = (256, int(fy*256/fx)) if (fx > fy) else (int(fx*256/fy), 256)\n",
    "        PIL.Image.fromarray((frame*255).astype('uint8')).resize((ry, rx), resample=PIL.Image.NEAREST).save(self.imbuf, 'gif')\n",
    "        self.canvas.value = self.imbuf.getvalue()"
   ]
  },
  {
   "cell_type": "code",
   "execution_count": null,
   "metadata": {},
   "outputs": [],
   "source": [
    "def build_model(nb_frames, width, height):\n",
    "    inp = keras.layers.Input(shape=(nb_frames, height, width, 3))\n",
    "    x = keras.layers.Conv3D(32,5,padding='same',strides=1,activation='relu')(inp)\n",
    "    x = keras.layers.Conv3D(64,3,padding='same',strides=2,activation='relu')(x)\n",
    "    x = keras.layers.Flatten()(x)\n",
    "    x = keras.layers.Dense(128, activation='relu')(x)\n",
    "    act = keras.layers.Dense(game.nb_actions, activation='linear')(x)\n",
    "\n",
    "    model = keras.models.Model(inputs=inp, outputs=act)\n",
    "    model.compile(keras.optimizers.Adam(), 'logcosh')\n",
    "    return model"
   ]
  },
  {
   "cell_type": "code",
   "execution_count": null,
   "metadata": {},
   "outputs": [],
   "source": [
    "nb_frames, grid_size = 1, 12\n",
    "#game = KerasTools.rl.games.catch.Catch(grid_size)\n",
    "game = KerasTools.rl.games.fruit.Fruit(grid_size, with_poison=True)\n",
    "#game = KerasTools.rl.games.snake.Snake(grid_size, max_turn=64)\n",
    "model = build_model(nb_frames, grid_size, grid_size)\n",
    "\n",
    "# Tromis has asymmetric game board\n",
    "#nb_frames, width, height = 1, 6, 11\n",
    "#game = KerasTools.rl.games.tromis.Tromis(width, height, max_turn=128)\n",
    "#model = build_model(nb_frames, width, height)\n",
    "\n",
    "m = KerasTools.rl.memory.uniqmemory.UniqMemory(memory_size=65536)\n",
    "a = KerasTools.rl.agents.dqn.Agent(model=model, mem=m, num_frames = nb_frames)\n",
    "\n",
    "stopEvent = threading.Event()\n",
    "gameQueue = collections.deque([], 1)\n",
    "gameStore = GameStore(gameQueue)\n",
    "plotter = GamePlot(grid_size, grid_size, gameQueue)\n",
    "display(plotter.canvas)\n",
    "\n",
    "stopEvent.clear()\n",
    "plotter.start()\n",
    "\n",
    "a.train(game, batch_size=32, epochs=100, episodes=256, train_interval=32,\n",
    "            epsilon=[1.0, 0.0], epsilon_rate=0.25,\n",
    "            gamma=0.98, reset_memory=False, observe=0, verbose=1,\n",
    "            callbacks = [gameStore])\n",
    "\n",
    "stopEvent.set()"
   ]
  },
  {
   "cell_type": "code",
   "execution_count": null,
   "metadata": {},
   "outputs": [],
   "source": []
  }
 ],
 "metadata": {
  "kernelspec": {
   "display_name": "Python 3",
   "language": "python",
   "name": "python3"
  },
  "language_info": {
   "codemirror_mode": {
    "name": "ipython",
    "version": 3
   },
   "file_extension": ".py",
   "mimetype": "text/x-python",
   "name": "python",
   "nbconvert_exporter": "python",
   "pygments_lexer": "ipython3",
   "version": "3.5.2"
  }
 },
 "nbformat": 4,
 "nbformat_minor": 4
}
