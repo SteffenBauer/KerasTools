{
 "cells": [
  {
   "cell_type": "code",
   "execution_count": null,
   "metadata": {},
   "outputs": [],
   "source": [
    "import os, sys\n",
    "module_path = os.path.abspath(os.path.join('../..'))\n",
    "if module_path not in sys.path:\n",
    "    sys.path.append(module_path)\n",
    "    \n",
    "import ipywidgets\n",
    "\n",
    "import KerasTools.rl.games.catch\n",
    "import KerasTools.rl.games.fruit\n",
    "import KerasTools.rl.games.snake\n",
    "import KerasTools.rl.games.tromis\n",
    "import KerasTools.rl.tools.gui"
   ]
  },
  {
   "cell_type": "code",
   "execution_count": null,
   "metadata": {},
   "outputs": [],
   "source": [
    "game = KerasTools.rl.games.catch.Catch(grid_size=12)\n",
    "#game = KerasTools.rl.games.fruit.Fruit(with_poison=True)\n",
    "#game = KerasTools.rl.games.snake.Snake(grid_size=12)\n",
    "#game = KerasTools.rl.games.tromis.Tromis(width=7, height=9)\n",
    "\n",
    "gui = KerasTools.rl.tools.gui.GameGUI(game)\n",
    "display(gui.gamebox)"
   ]
  },
  {
   "cell_type": "code",
   "execution_count": null,
   "metadata": {},
   "outputs": [],
   "source": []
  }
 ],
 "metadata": {
  "kernelspec": {
   "display_name": "Python 3",
   "language": "python",
   "name": "python3"
  },
  "language_info": {
   "codemirror_mode": {
    "name": "ipython",
    "version": 3
   },
   "file_extension": ".py",
   "mimetype": "text/x-python",
   "name": "python",
   "nbconvert_exporter": "python",
   "pygments_lexer": "ipython3",
   "version": "3.5.2"
  }
 },
 "nbformat": 4,
 "nbformat_minor": 4
}
