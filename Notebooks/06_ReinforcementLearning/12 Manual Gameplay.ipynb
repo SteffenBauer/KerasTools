{
 "cells": [
  {
   "cell_type": "code",
   "execution_count": null,
   "metadata": {},
   "outputs": [],
   "source": [
    "import os, sys, io\n",
    "module_path = os.path.abspath(os.path.join('../..'))\n",
    "if module_path not in sys.path:\n",
    "    sys.path.append(module_path)\n",
    "    \n",
    "import ipywidgets\n",
    "import PIL, PIL.Image\n",
    "import time\n",
    "\n",
    "import KerasTools.rl.games.catch\n",
    "import KerasTools.rl.games.fruit\n",
    "import KerasTools.rl.games.snake\n",
    "import KerasTools.rl.games.tromis"
   ]
  },
  {
   "cell_type": "code",
   "execution_count": null,
   "metadata": {},
   "outputs": [],
   "source": [
    "button_layout = ipywidgets.Layout(width='34px', height='30px', border='1px solid black')\n",
    "\n",
    "bleft     = ipywidgets.Button(layout=button_layout, style=ipywidgets.ButtonStyle(font_weight='bold', button_color='yellow'), icon='arrow-left')\n",
    "bright    = ipywidgets.Button(layout=button_layout, style=ipywidgets.ButtonStyle(font_weight='bold', button_color='yellow'), icon='arrow-right')\n",
    "bup       = ipywidgets.Button(layout=button_layout, style=ipywidgets.ButtonStyle(font_weight='bold', button_color='yellow'), icon='arrow-up')\n",
    "bdown     = ipywidgets.Button(layout=button_layout, style=ipywidgets.ButtonStyle(font_weight='bold', button_color='yellow'), icon='arrow-down')\n",
    "bforward  = ipywidgets.Button(layout=button_layout, style=ipywidgets.ButtonStyle(font_weight='bold', button_color='yellow'), icon='arrow-up')\n",
    "brotleft  = ipywidgets.Button(layout=button_layout, style=ipywidgets.ButtonStyle(font_weight='bold', button_color='yellow'), icon='rotate-left')\n",
    "brotright = ipywidgets.Button(layout=button_layout, style=ipywidgets.ButtonStyle(font_weight='bold', button_color='yellow'), icon='rotate-right')\n",
    "bskip     = ipywidgets.Button(layout=button_layout, style=ipywidgets.ButtonStyle(font_weight='bold', button_color='yellow'), icon='dot-circle-o')\n",
    "\n",
    "lt = ipywidgets.Layout(width='68px', height='30px', border='1px solid black')\n",
    "\n",
    "bnew = ipywidgets.Button(layout=lt, style=ipywidgets.ButtonStyle(font_weight='bold', button_color='green'), description = 'New')\n",
    "stat = ipywidgets.HTML(layout=lt)\n",
    "\n",
    "bx = ipywidgets.HBox([bnew, bleft, bskip, bright, stat])\n",
    "\n",
    "img = ipywidgets.Image()\n",
    "imbuf = io.BytesIO()\n",
    "\n",
    "def plot_game(frame):\n",
    "    imbuf.seek(0)\n",
    "    PIL.Image.fromarray(frame.astype('uint8')*255).resize((256, 256), resample=PIL.Image.NEAREST).save(imbuf, 'gif')\n",
    "    img.value = imbuf.getvalue()\n",
    "\n",
    "def onButtonClicked(args):\n",
    "    if args.description == 'New':\n",
    "        game.reset()\n",
    "        stat.value = \"\"\n",
    "    elif not game.is_over():\n",
    "        args.style.button_color = 'red'\n",
    "        time.sleep(0.1)\n",
    "        args.style.button_color = 'yellow'\n",
    "        action = {'arrow-left': 0, 'dot-circle-o': 1, 'arrow-right': 2}\n",
    "        game.play(action[args.icon])\n",
    "    stat.value = \"<center><big><b>R: {}\".format(str(game.get_score()))    \n",
    "    plot_game(game.get_frame())\n",
    "\n",
    "bleft.on_click(onButtonClicked)\n",
    "bskip.on_click(onButtonClicked)\n",
    "bright.on_click(onButtonClicked)\n",
    "bnew.on_click(onButtonClicked)\n"
   ]
  },
  {
   "cell_type": "code",
   "execution_count": null,
   "metadata": {},
   "outputs": [],
   "source": [
    "game = KerasTools.rl.games.catch.Catch()\n",
    "display(img)\n",
    "display(bx)\n",
    "plot_game(game.get_frame())"
   ]
  },
  {
   "cell_type": "code",
   "execution_count": null,
   "metadata": {},
   "outputs": [],
   "source": []
  }
 ],
 "metadata": {
  "kernelspec": {
   "display_name": "Python 3",
   "language": "python",
   "name": "python3"
  },
  "language_info": {
   "codemirror_mode": {
    "name": "ipython",
    "version": 3
   },
   "file_extension": ".py",
   "mimetype": "text/x-python",
   "name": "python",
   "nbconvert_exporter": "python",
   "pygments_lexer": "ipython3",
   "version": "3.5.2"
  }
 },
 "nbformat": 4,
 "nbformat_minor": 4
}
