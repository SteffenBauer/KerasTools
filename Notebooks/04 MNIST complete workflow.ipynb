{
 "cells": [
  {
   "cell_type": "code",
   "execution_count": null,
   "metadata": {},
   "outputs": [],
   "source": [
    "import random\n",
    "from io import BytesIO\n",
    "import ipywidgets\n",
    "import keras\n",
    "import numpy as np\n",
    "import tensorflow as tf\n",
    "import matplotlib.pyplot as plt\n",
    "\n",
    "tf.logging.set_verbosity(tf.logging.ERROR)\n",
    "%matplotlib inline"
   ]
  },
  {
   "cell_type": "code",
   "execution_count": null,
   "metadata": {},
   "outputs": [],
   "source": [
    "(train_images, train_labels), (test_images, test_labels) = keras.datasets.mnist.load_data()\n",
    "train_images = train_images.reshape((60000, 28 * 28))\n",
    "train_images = train_images.astype('float32') / 255\n",
    "test_images = test_images.reshape((10000, 28 * 28))\n",
    "test_images = test_images.astype('float32') / 255\n",
    "\n",
    "train_labels = keras.utils.to_categorical(train_labels)\n",
    "test_labels = keras.utils.to_categorical(test_labels)"
   ]
  },
  {
   "cell_type": "code",
   "execution_count": null,
   "metadata": {},
   "outputs": [],
   "source": [
    "r, c = 4, 8\n",
    "idx = random.sample(range(len(train_images)), r*c)\n",
    "plot_images = [train_images[i].reshape((28,28)) for i in idx]\n",
    "plt.figure(figsize=(8,4))\n",
    "cnt=0\n",
    "for i in range(r):\n",
    "    for j in range(c):\n",
    "        plt.subplot(r,c,cnt+1)\n",
    "        plt.imshow(plot_images[cnt], cmap=plt.cm.binary)\n",
    "        plt.axis('off')\n",
    "        cnt += 1\n",
    "plt.show()"
   ]
  },
  {
   "cell_type": "code",
   "execution_count": null,
   "metadata": {},
   "outputs": [],
   "source": [
    "class plot_history(keras.callbacks.Callback):\n",
    "    def __init__(self, loss_plt, acc_plt, mode='val', history = None):\n",
    "        self.loss_plt = loss_plt\n",
    "        self.acc_plt = acc_plt\n",
    "        self.mode = mode\n",
    "        if history is None:\n",
    "            history = {'loss':[], 'val_loss':[], 'acc': [], 'val_acc':[]}\n",
    "        self.history = history\n",
    "    def on_epoch_end(self, epoch, logs={}):\n",
    "        if self.mode == 'val':\n",
    "            self.history['loss'].append(logs.get('loss'))\n",
    "            self.history['val_loss'].append(logs.get('val_loss'))\n",
    "            self.history['acc'].append(logs.get('acc'))\n",
    "            self.history['val_acc'].append(logs.get('val_acc'))\n",
    "        \n",
    "        imbuf = BytesIO()\n",
    "\n",
    "        plt.plot(range(1, len(self.history['loss'])+1), self.history['loss'], linewidth=2)\n",
    "        plt.plot(range(1, len(self.history['val_loss'])+1), self.history['val_loss'], linewidth=2)\n",
    "        if self.mode == 'final':\n",
    "            plt.plot([epoch+1], [logs.get('val_loss')], 'rx', ms=5.0)\n",
    "            plt.axvline(epoch+1, ls=':')\n",
    "        plt.ylabel('Loss')\n",
    "        plt.xlabel('Epochs')\n",
    "        plt.savefig(imbuf)\n",
    "        imbuf.seek(0)\n",
    "        self.loss_plt.value = imbuf.getvalue()\n",
    "        plt.clf()\n",
    "        plt.plot(range(1, len(self.history['acc'])+1), self.history['acc'], linewidth=2)\n",
    "        plt.plot(range(1, len(self.history['val_acc'])+1), self.history['val_acc'], linewidth=2)\n",
    "        if self.mode == 'final':\n",
    "            plt.plot([epoch+1], [logs.get('val_acc')], 'rx', ms=5.0)\n",
    "            plt.axvline(epoch+1, ls=':')\n",
    "        plt.ylabel('Accuracy')\n",
    "        plt.xlabel('Steps')\n",
    "        plt.savefig(imbuf)\n",
    "        imbuf.seek(0)\n",
    "        self.acc_plt.value = imbuf.getvalue()\n",
    "        plt.clf()\n",
    "        \n",
    "        vt = \"Validation\" if self.mode == 'val' else \"Test\"\n",
    "        print(\"Epoch {: 4d} | Loss: {:5.4f} Accuracy: {:5.4f} | {} Loss: {:5.4f} {} Accuracy {:5.4f}\".format(\n",
    "            epoch+1,logs.get('loss'),logs.get('acc'),vt,logs.get('val_loss'),vt,logs.get('val_acc')))"
   ]
  },
  {
   "cell_type": "code",
   "execution_count": null,
   "metadata": {},
   "outputs": [],
   "source": [
    "def build_network():\n",
    "    network = keras.models.Sequential(name='MNIST_DNN')\n",
    "    network.add(keras.layers.Dense(32, activation='relu', name='input', input_shape=(28*28*1,)))\n",
    "    network.add(keras.layers.Dense(32, activation='relu', name='hidden'))\n",
    "    network.add(keras.layers.Dense(10, activation='softmax', name='output'))\n",
    "\n",
    "    network.compile(optimizer=keras.optimizers.sgd(lr=0.01, momentum=0.9), loss='categorical_crossentropy', metrics=['accuracy'])\n",
    "\n",
    "    return network"
   ]
  },
  {
   "cell_type": "code",
   "execution_count": null,
   "metadata": {},
   "outputs": [],
   "source": [
    "network = build_network()\n",
    "network.summary()\n",
    "\n",
    "loss_plt = ipywidgets.Image()\n",
    "acc_plt = ipywidgets.Image()\n",
    "display(ipywidgets.HBox([loss_plt, acc_plt]))\n",
    "\n",
    "epochs = 50\n",
    "history = network.fit(train_images, train_labels, epochs=epochs, \n",
    "                      batch_size=128, validation_split=0.25, verbose=0, callbacks=[plot_history(loss_plt, acc_plt)])"
   ]
  },
  {
   "cell_type": "code",
   "execution_count": null,
   "metadata": {},
   "outputs": [],
   "source": [
    "network = build_network()\n",
    "network.summary()\n",
    "\n",
    "loss_plt = ipywidgets.Image()\n",
    "acc_plt = ipywidgets.Image()\n",
    "display(ipywidgets.HBox([loss_plt, acc_plt]))\n",
    "\n",
    "epochs = 25\n",
    "network.fit(train_images, train_labels, epochs=epochs, \n",
    "            batch_size=128, validation_data=((test_images, test_labels)), verbose=0, \n",
    "            callbacks=[plot_history(loss_plt, acc_plt, mode='final', history=history.history)])"
   ]
  },
  {
   "cell_type": "code",
   "execution_count": null,
   "metadata": {},
   "outputs": [],
   "source": [
    "entry=1\n",
    "\n",
    "prediction = network.predict(test_images[entry:entry+1])\n",
    "predicted_label = np.argmax(prediction, axis=1)\n",
    "\n",
    "img = test_images[entry].reshape((28,28))\n",
    "plt.imshow(img, cmap=plt.cm.binary)\n",
    "plt.show()\n",
    "print(\"Ground truth: {} | Predicted: {}\".format(np.argmax(test_labels[entry]),predicted_label[0]))\n",
    "results = [{'label': l, 'score': s*100} for l,s in enumerate(prediction[0])]\n",
    "print('-' * 20)\n",
    "print(\"{0:>5} | {1:>6} \".format(\"Label\", \"Score\"))\n",
    "print('-' * 20)\n",
    "for r in results:\n",
    "    print(\"{label:>5} | {score:>6.2f}% \".format(**r))\n",
    "print('-' * 20)"
   ]
  },
  {
   "cell_type": "code",
   "execution_count": null,
   "metadata": {},
   "outputs": [],
   "source": []
  }
 ],
 "metadata": {
  "kernelspec": {
   "display_name": "Python 3",
   "language": "python",
   "name": "python3"
  },
  "language_info": {
   "codemirror_mode": {
    "name": "ipython",
    "version": 3
   },
   "file_extension": ".py",
   "mimetype": "text/x-python",
   "name": "python",
   "nbconvert_exporter": "python",
   "pygments_lexer": "ipython3",
   "version": "3.5.2"
  }
 },
 "nbformat": 4,
 "nbformat_minor": 2
}
