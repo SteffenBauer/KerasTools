{
 "cells": [
  {
   "cell_type": "code",
   "execution_count": null,
   "metadata": {},
   "outputs": [],
   "source": [
    "import random\n",
    "import io\n",
    "\n",
    "import PIL\n",
    "import bqplot, bqplot.pyplot\n",
    "import ipywidgets\n",
    "\n",
    "import keras\n",
    "import numpy as np\n",
    "import tensorflow as tf\n",
    "tf.logging.set_verbosity(tf.logging.ERROR)"
   ]
  },
  {
   "cell_type": "code",
   "execution_count": null,
   "metadata": {},
   "outputs": [],
   "source": [
    "(train_images, train_labels), (test_images, test_labels) = keras.datasets.mnist.load_data()\n",
    "x_train = train_images.reshape((60000, 28 * 28)).astype('float32') / 255\n",
    "x_test = test_images.reshape((10000, 28 * 28)).astype('float32') / 255\n",
    "\n",
    "y_train = keras.utils.to_categorical(train_labels)\n",
    "y_test = keras.utils.to_categorical(test_labels)"
   ]
  },
  {
   "cell_type": "code",
   "execution_count": null,
   "metadata": {},
   "outputs": [],
   "source": [
    "r, c, s = 6, 8, 96\n",
    "digits = train_images[np.random.randint(train_images.shape[0], size=r*c), :, :]\n",
    "canvas = PIL.Image.new('RGB', (c*s+2, r*s+2), color='white')\n",
    "for i,d in enumerate(digits):\n",
    "    dimg = PIL.Image.fromarray(255-d).resize((s-8, s-8))\n",
    "    canvas.paste(dimg, box=(s*int(i/r), s*(i%r)))\n",
    "\n",
    "buf = io.BytesIO()\n",
    "canvas.save(buf, 'gif')\n",
    "img = ipywidgets.Image(value=buf.getvalue())\n",
    "display(img)"
   ]
  },
  {
   "cell_type": "code",
   "execution_count": null,
   "metadata": {},
   "outputs": [],
   "source": [
    "def init_plots():\n",
    "    axes_loss = {'x': {'label': 'Epochs'}, \n",
    "                 'y': {'label': 'Losses', \n",
    "                       'label_offset': '50px',\n",
    "                       'tick_style': {'font-size': 10}}}\n",
    "    axes_acc = {'x': {'label': 'Epochs'}, \n",
    "                'y': {'label': 'Accuracy', \n",
    "                      'label_offset': '50px',\n",
    "                       'tick_style': {'font-size': 10}}}\n",
    "        \n",
    "    loss_plt = bqplot.pyplot.figure(min_aspect_ratio=4/3, max_aspect_ratio=4/3)\n",
    "    bqplot.pyplot.plot([0,1],[0.5,0.5], axes_options=axes_loss)\n",
    "    bqplot.pyplot.plot([0,1],[0.75,0.75], colors=['orange'])\n",
    "    acc_plt  = bqplot.pyplot.figure(min_aspect_ratio=4/3, max_aspect_ratio=4/3)\n",
    "    bqplot.pyplot.plot([0,1],[0.5,0.5], axes_options=axes_acc)\n",
    "    bqplot.pyplot.plot([0,1],[0.75,0.75], colors=['orange'])        \n",
    "\n",
    "    return (loss_plt, acc_plt)\n",
    "\n",
    "class plot_history(keras.callbacks.Callback):\n",
    "    def __init__(self, loss_plt, acc_plt):\n",
    "        self.loss_plt = loss_plt\n",
    "        self.acc_plt  = acc_plt\n",
    "        self.history = {'loss':[], 'val_loss':[], 'acc': [], 'val_acc':[]}\n",
    "\n",
    "    def on_epoch_end(self, epoch, logs={}):\n",
    "        self.history['loss'].append(logs.get('loss'))\n",
    "        self.history['val_loss'].append(logs.get('val_loss'))\n",
    "        self.history['acc'].append(logs.get('acc'))\n",
    "        self.history['val_acc'].append(logs.get('val_acc'))\n",
    "\n",
    "        x_data = range(1, len(self.history['loss'])+1)\n",
    "        self.loss_plt.marks[0].x = x_data\n",
    "        self.loss_plt.marks[0].y = self.history['loss']\n",
    "        self.loss_plt.marks[1].x = x_data\n",
    "        self.loss_plt.marks[1].y = self.history['val_loss']\n",
    "        \n",
    "        x_data = range(1, len(self.history['acc'])+1)\n",
    "        self.acc_plt.marks[0].x = x_data\n",
    "        self.acc_plt.marks[0].y = self.history['acc']\n",
    "        self.acc_plt.marks[1].x = x_data\n",
    "        self.acc_plt.marks[1].y = self.history['val_acc']"
   ]
  },
  {
   "cell_type": "code",
   "execution_count": null,
   "metadata": {},
   "outputs": [],
   "source": [
    "def build_network():\n",
    "    network = keras.models.Sequential(name='MNIST_DNN')\n",
    "    network.add(keras.layers.Dense(32, activation='relu', name='input', input_shape=(28*28*1,)))\n",
    "    network.add(keras.layers.Dense(32, activation='relu', name='hidden'))\n",
    "    network.add(keras.layers.Dense(10, activation='softmax', name='output'))\n",
    "\n",
    "    network.compile(optimizer=keras.optimizers.sgd(lr=0.01, momentum=0.9), loss='categorical_crossentropy', metrics=['accuracy'])\n",
    "\n",
    "    return network"
   ]
  },
  {
   "cell_type": "code",
   "execution_count": null,
   "metadata": {},
   "outputs": [],
   "source": [
    "network = build_network()\n",
    "network.summary()\n",
    "\n",
    "loss_plt, acc_plt = init_plots()\n",
    "display(ipywidgets.HBox([loss_plt, acc_plt]))"
   ]
  },
  {
   "cell_type": "code",
   "execution_count": null,
   "metadata": {},
   "outputs": [],
   "source": [
    "epochs = 50\n",
    "history = network.fit(x_train, y_train, epochs=epochs, \n",
    "                      batch_size=128, validation_data=(x_test, y_test), \n",
    "                      verbose=0, callbacks=[plot_history(loss_plt, acc_plt)])"
   ]
  },
  {
   "cell_type": "code",
   "execution_count": null,
   "metadata": {},
   "outputs": [],
   "source": [
    "entry=11\n",
    "\n",
    "prediction = network.predict(x_test[entry:entry+1])\n",
    "predicted_label = np.argmax(prediction, axis=1)\n",
    "\n",
    "print(\"Ground truth: {} | Predicted: {}\".format(np.argmax(y_test[entry]),predicted_label[0]))\n",
    "\n",
    "img = test_images[entry].reshape((28,28))\n",
    "\n",
    "pimg = ipywidgets.Image(width=256, height=256)\n",
    "\n",
    "imbuf = io.BytesIO()\n",
    "dimg = PIL.Image.fromarray((255-img).astype('uint8')).resize((256, 256))\n",
    "dimg.save(imbuf, 'gif')\n",
    "pimg.value = imbuf.getvalue()\n",
    "\n",
    "columns = range(10)\n",
    "axes_pred = {'x': {'label': '', 'tick_style': {'font-weight': 'bold', 'font-size': \"16px\"}}, \n",
    "             'y': {'label': '', \n",
    "                   'tick_style': {'font-weight': 'bold', 'font-size': \"16px\"}}}\n",
    "opts_pred = {'y': {'min': 0.0, 'max':1.0}}        \n",
    "\n",
    "pred_plt = bqplot.pyplot.figure(min_aspect_ratio=1.0, max_aspect_ratio=1.0)\n",
    "bqplot.pyplot.bar(columns, prediction, options=opts_pred, axes_options=axes_pred)\n",
    "pimg.layout.object_fit = 'contain'\n",
    "pimg.layout.object_position = \"center center\"\n",
    "pimg.layout.border = '1px solid black'\n",
    "result_box = ipywidgets.HBox([pimg, pred_plt])\n",
    "result_box.layout.align_items = 'center'\n",
    "display(result_box)"
   ]
  },
  {
   "cell_type": "code",
   "execution_count": null,
   "metadata": {},
   "outputs": [],
   "source": []
  }
 ],
 "metadata": {
  "kernelspec": {
   "display_name": "Python 3",
   "language": "python",
   "name": "python3"
  },
  "language_info": {
   "codemirror_mode": {
    "name": "ipython",
    "version": 3
   },
   "file_extension": ".py",
   "mimetype": "text/x-python",
   "name": "python",
   "nbconvert_exporter": "python",
   "pygments_lexer": "ipython3",
   "version": "3.5.2"
  }
 },
 "nbformat": 4,
 "nbformat_minor": 2
}
