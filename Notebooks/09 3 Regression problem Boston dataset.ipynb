{
 "cells": [
  {
   "cell_type": "code",
   "execution_count": null,
   "metadata": {},
   "outputs": [],
   "source": [
    "import os, sys\n",
    "import keras\n",
    "import numpy as np\n",
    "import pandas as pd\n",
    "\n",
    "import tensorflow as tf\n",
    "tf.logging.set_verbosity(tf.logging.ERROR)"
   ]
  },
  {
   "cell_type": "code",
   "execution_count": null,
   "metadata": {},
   "outputs": [],
   "source": [
    "(raw_train_data, train_targets), (raw_test_data, test_targets) =  keras.datasets.boston_housing.load_data()\n",
    "\n",
    "mean = raw_train_data.mean(axis=0)\n",
    "train_data = raw_train_data - mean\n",
    "std = train_data.std(axis=0)\n",
    "train_data /= std\n",
    "\n",
    "test_data = raw_test_data - mean\n",
    "test_data /= std\n",
    "\n",
    "print(mean)\n",
    "print(std)"
   ]
  },
  {
   "cell_type": "code",
   "execution_count": null,
   "metadata": {},
   "outputs": [],
   "source": [
    "bos = pd.DataFrame(raw_train_data)\n",
    "bos.columns = ['CRIM', 'ZN', 'INDUS', 'CHAS', 'NOX', 'RM', 'AGE', 'DIS', 'RAD', 'TAX', 'PTRATIO', 'B', 'LSTAT'] #boston.feature_names\n",
    "print(bos.head())\n",
    "print(bos.describe())\n",
    "\n",
    "medv = pd.DataFrame(train_targets)\n",
    "medv.columns = ['MEDV']\n",
    "print(medv.head())\n",
    "print(medv.describe())\n"
   ]
  },
  {
   "cell_type": "code",
   "execution_count": null,
   "metadata": {},
   "outputs": [],
   "source": [
    "model = keras.models.Sequential()\n",
    "model.add(keras.layers.Dense(64, activation='relu', input_shape=(train_data.shape[1],)))\n",
    "model.add(keras.layers.Dense(64, activation='relu'))\n",
    "model.add(keras.layers.Dense(1))\n",
    "model.compile(optimizer='rmsprop', loss='logcosh', metrics=['mape'])\n",
    "model.summary()"
   ]
  },
  {
   "cell_type": "code",
   "execution_count": null,
   "metadata": {},
   "outputs": [],
   "source": [
    "history = model.fit(train_data, train_targets, epochs=300, batch_size=16, verbose=1, validation_data=(test_data, test_targets))"
   ]
  },
  {
   "cell_type": "code",
   "execution_count": null,
   "metadata": {},
   "outputs": [],
   "source": [
    "import matplotlib.pyplot as plt\n",
    "%matplotlib inline\n",
    "\n",
    "epochs = range(10, len(history.history['loss']) + 1)\n",
    "plt.plot(epochs, history.history['loss'][9:], label='train loss')\n",
    "plt.plot(epochs, history.history['val_loss'][9:], label='validation loss')\n",
    "plt.legend()\n",
    "plt.show()\n",
    "\n",
    "plt.plot(epochs, history.history['mean_absolute_percentage_error'][9:], label='train MAPE')\n",
    "plt.plot(epochs, history.history['val_mean_absolute_percentage_error'][9:], label='validation MAPE')\n",
    "plt.legend()\n",
    "plt.show()"
   ]
  },
  {
   "cell_type": "code",
   "execution_count": null,
   "metadata": {},
   "outputs": [],
   "source": [
    "# CRIM    - per capita crime rate by town\",\n",
    "# ZN      - proportion of residential land zoned for lots over 25,000 sq.ft.\",\n",
    "# INDUS   - proportion of non-retail business acres per town.\",\n",
    "# CHAS    - Charles River dummy variable (1 if tract bounds river; 0 otherwise)\",\n",
    "# NOX     - nitric oxides concentration (parts per 10 million)\",\n",
    "# RM      - average number of rooms per dwelling\",\n",
    "# AGE     - proportion of owner-occupied units built prior to 1940\",\n",
    "# DIS     - weighted distances to five Boston employment centres\",\n",
    "# RAD     - index of accessibility to radial highways\",\n",
    "# TAX     - full-value property-tax rate per $10,000\",\n",
    "# PTRATIO - pupil-teacher ratio by town\",\n",
    "# B       - 1000(Bk - 0.63)^2 where Bk is the proportion of blacks by town\",\n",
    "# LSTAT   - % lower status of the population\",\n",
    "# \n",
    "# MEDV    - Median value of owner-occupied homes in $1000's\"]\n",
    " \n",
    "sample = 5\n",
    "pred_input = np.expand_dims(test_data[sample], axis=0)\n",
    "print(pred_input)\n",
    "\n",
    "print('-' * 60)\n",
    "print(\" CRIM    ZN    INDUS   CHAS   NOX    RM    AGE      DIS   RAD    TAX     PTR     B     LSTAT ---   MEDV\")\n",
    "for i in range(13):\n",
    "    print(\"{: 6.2f}\".format(raw_test_data[sample][i]), end=' ')\n",
    "print(\"    {: 6.2f}\".format(test_targets[sample]))\n",
    "print('-' * 60)\n",
    "print(\"Predicted MEDV: {: 6.2f}\".format(model.predict(pred_input)[0][0]))\n",
    "print('-' * 60)\n"
   ]
  },
  {
   "cell_type": "code",
   "execution_count": null,
   "metadata": {},
   "outputs": [],
   "source": [
    "for i in range(1,10):\n",
    "    new_test_data = np.array(raw_test_data[12])\n",
    "    new_test_data[0] = 0.06 * 100.0 *i\n",
    "    new_test_data -= mean\n",
    "    new_test_data /= std\n",
    "    \n",
    "    pred_input = np.expand_dims(new_test_data, axis=0)\n",
    "    res = model.predict(pred_input)[0][0]\n",
    "    print(\"Crime ratio: {} Prediction MEDV {}\".format(0.06*100.0*i, res))"
   ]
  },
  {
   "cell_type": "code",
   "execution_count": null,
   "metadata": {},
   "outputs": [],
   "source": []
  }
 ],
 "metadata": {
  "kernelspec": {
   "display_name": "Python 3",
   "language": "python",
   "name": "python3"
  },
  "language_info": {
   "codemirror_mode": {
    "name": "ipython",
    "version": 3
   },
   "file_extension": ".py",
   "mimetype": "text/x-python",
   "name": "python",
   "nbconvert_exporter": "python",
   "pygments_lexer": "ipython3",
   "version": "3.5.2"
  }
 },
 "nbformat": 4,
 "nbformat_minor": 2
}
