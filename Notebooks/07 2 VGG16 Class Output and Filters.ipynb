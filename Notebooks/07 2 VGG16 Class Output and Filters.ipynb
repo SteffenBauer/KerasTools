{
 "cells": [
  {
   "cell_type": "code",
   "execution_count": null,
   "metadata": {},
   "outputs": [],
   "source": [
    "from __future__ import print_function\n",
    "from keras.applications import VGG16\n",
    "from vis.utils import utils\n",
    "from keras import activations\n",
    "\n",
    "# Load the VGG16 network with ImageNet weights and original classificator\n",
    "model = VGG16(weights='imagenet', include_top=True)\n",
    "\n",
    "# Swap softmax activation with linear in the prediction layer and rebuilt the model.\n",
    "# Necessary to run gradient optimization over class output visualizations.\n",
    "# The warning 'the model was *not* compiled' can be ignored, we dont train here.\n",
    "layer_idx = utils.find_layer_idx(model, 'predictions')\n",
    "model.layers[layer_idx].activation = activations.linear\n",
    "model = utils.apply_modifications(model)\n",
    "\n",
    "model.summary()\n",
    "\n",
    "from vis.visualization import visualize_activation\n",
    "from vis.input_modifiers import Jitter\n",
    "\n",
    "from matplotlib import pyplot as plt\n",
    "%matplotlib inline\n",
    "plt.rcParams['figure.figsize'] = (18, 6)\n",
    "\n",
    "# Callback for a nice progress bar (standard messages of keras-vis are quite ugly)\n",
    "from vis.callbacks import Print\n",
    "import sys\n",
    "class myprint(Print):\n",
    "    def __init__(self, maxiter): \n",
    "        self.barLength = 40\n",
    "        self.maxiter = maxiter\n",
    "    def callback(self, i, named_losses, overall_loss, grads, wrt_value):\n",
    "        progress = float(i) / float(self.maxiter)\n",
    "        block = int(round(self.barLength*progress))\n",
    "        msg = \"Iteration {0} Loss {1:2.4f} \".format(i, overall_loss)\n",
    "        text = \"\\r{0}: [{1}] {2:.2%}      \".format(msg, \"=\"*(block-1) + \">\" + \"-\"*(self.barLength-block), progress)\n",
    "        sys.stdout.write(text)\n",
    "        sys.stdout.flush()    \n",
    "    def on_end(self):\n",
    "        sys.stdout.write(\"\\n\")\n",
    "        sys.stdout.flush()\n"
   ]
  },
  {
   "cell_type": "code",
   "execution_count": null,
   "metadata": {
    "scrolled": true
   },
   "outputs": [],
   "source": [
    "# Generate a filter response visualization\n",
    "layer_name = 'block4_conv2'  # Layer name to pick a filter from\n",
    "filter_number = 35           # Number of the filter to generate a visualization\n",
    "maxiterations = 50           # Increase for more pronounced picture\n",
    "\n",
    "layer_idx = utils.find_layer_idx(model, layer_name)\n",
    "img = visualize_activation(model, layer_idx, filter_indices=filter_number, max_iter=maxiterations, \n",
    "                           input_modifiers=[Jitter(0.05)], callbacks=[myprint(maxiterations)])\n",
    "plt.imshow(img)\n",
    "plt.show()"
   ]
  },
  {
   "cell_type": "code",
   "execution_count": null,
   "metadata": {},
   "outputs": [],
   "source": [
    "# In case that filter response does not converge, (happens especially in block4/5 filters)\n",
    "# a two-pass approach might give results.\n",
    "#\n",
    "# First pass: Generate a preliminary image without regularization weights\n",
    "# Second pass: Feed this image as initial seed into the regular optimizer\n",
    "\n",
    "layer_name = 'block5_conv3'\n",
    "filter_number = 490\n",
    "maxiterations = [50, 200] # Iterations for pass 1 / pass 2\n",
    "\n",
    "layer_idx = utils.find_layer_idx(model, layer_name)\n",
    "img = visualize_activation(model, layer_idx, filter_indices=filter_number, \n",
    "                           max_iter=maxiterations[0], tv_weight=0., \n",
    "                           input_modifiers=[Jitter(0.05)], callbacks=[myprint(maxiterations[0])])\n",
    "img = visualize_activation(model, layer_idx, filter_indices=filter_number, \n",
    "                           max_iter=maxiterations[1], seed_input=img, \n",
    "                           input_modifiers=[Jitter(0.05)], callbacks=[myprint(maxiterations[1])])\n",
    "plt.imshow(img)\n",
    "plt.show()"
   ]
  },
  {
   "cell_type": "code",
   "execution_count": null,
   "metadata": {},
   "outputs": [],
   "source": [
    "# Generate a class output visualization.\n",
    "class_number = 980  # Class number to generate a visualization (see 'Imagenet_Classes.dat') (980 = Volcano)\n",
    "maxiterations = 100  # Increase for more pronounced picture\n",
    "\n",
    "layer_idx = utils.find_layer_idx(model, 'predictions')\n",
    "img = visualize_activation(model, layer_idx, filter_indices=class_number, max_iter=maxiterations, \n",
    "                           input_modifiers=[Jitter(16)], callbacks=[myprint(maxiterations)])\n",
    "plt.imshow(img)\n",
    "plt.show()"
   ]
  },
  {
   "cell_type": "code",
   "execution_count": null,
   "metadata": {},
   "outputs": [],
   "source": [
    "class_number = 980  # Class number to generate a visualization (see 'Imagenet_Classes.dat') (980 = Volcano)\n",
    "maxiterations = [50, 200] # Iterations for pass 1 / pass 2\n",
    "\n",
    "layer_idx = utils.find_layer_idx(model, 'predictions')\n",
    "img = visualize_activation(model, layer_idx, filter_indices=class_number, \n",
    "                           max_iter=maxiterations[0], tv_weight=0., \n",
    "                           input_modifiers=[Jitter(0.05)], callbacks=[myprint(maxiterations[0])])\n",
    "img = visualize_activation(model, layer_idx, filter_indices=class_number, \n",
    "                           max_iter=maxiterations[1], seed_input=img, \n",
    "                           input_modifiers=[Jitter(16)], callbacks=[myprint(maxiterations[1])])\n",
    "plt.imshow(img)\n",
    "plt.show()"
   ]
  },
  {
   "cell_type": "code",
   "execution_count": null,
   "metadata": {},
   "outputs": [],
   "source": []
  }
 ],
 "metadata": {
  "kernelspec": {
   "display_name": "Python 2",
   "language": "python",
   "name": "python2"
  },
  "language_info": {
   "codemirror_mode": {
    "name": "ipython",
    "version": 2
   },
   "file_extension": ".py",
   "mimetype": "text/x-python",
   "name": "python",
   "nbconvert_exporter": "python",
   "pygments_lexer": "ipython2",
   "version": "2.7.13"
  }
 },
 "nbformat": 4,
 "nbformat_minor": 2
}
