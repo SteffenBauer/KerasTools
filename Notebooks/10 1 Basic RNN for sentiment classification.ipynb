{
 "cells": [
  {
   "cell_type": "code",
   "execution_count": null,
   "metadata": {},
   "outputs": [],
   "source": [
    "from __future__ import print_function\n",
    "import os, sys\n",
    "module_path = os.path.abspath(os.path.join('..'))\n",
    "if module_path not in sys.path:\n",
    "    sys.path.append(module_path)\n",
    "\n",
    "os.environ[\"CUDA_DEVICE_ORDER\"] = \"PCI_BUS_ID\"\n",
    "os.environ[\"CUDA_VISIBLE_DEVICES\"] = \"-1\"\n",
    "    \n",
    "import keras\n",
    "import KerasTools as KT\n",
    "import numpy as np"
   ]
  },
  {
   "cell_type": "code",
   "execution_count": null,
   "metadata": {},
   "outputs": [],
   "source": [
    "max_features = 1000 # Top most frequent words to consider\n",
    "maxlen = 200       # Cut texts after this number of words\n",
    "\n",
    "print('Load data...')\n",
    "(train_data, train_labels), (test_data, test_labels) = KT.datasets.imdb.load_data(num_words=max_features)\n",
    "\n",
    "print('Pad sequences (samples x time)')\n",
    "x_train = keras.preprocessing.sequence.pad_sequences(train_data, maxlen=maxlen)\n",
    "x_test = keras.preprocessing.sequence.pad_sequences(test_data, maxlen=maxlen)\n",
    "print('x_train shape:', x_train.shape)\n",
    "print('x_test shape:', x_test.shape)"
   ]
  },
  {
   "cell_type": "code",
   "execution_count": null,
   "metadata": {},
   "outputs": [],
   "source": [
    "print('Build model...')\n",
    "model = keras.models.Sequential()\n",
    "model.add(keras.layers.Embedding(max_features, 3, input_shape=(None, ), mask_zero=True))\n",
    "model.add(keras.layers.SimpleRNN(4))\n",
    "model.add(keras.layers.Dense(4, activation='relu'))\n",
    "model.add(keras.layers.Dense(1, activation='sigmoid'))\n",
    "\n",
    "model.compile(loss='binary_crossentropy',\n",
    "              optimizer=keras.optimizers.RMSprop(),\n",
    "              metrics=['accuracy'])\n",
    "model.summary()"
   ]
  },
  {
   "cell_type": "code",
   "execution_count": null,
   "metadata": {},
   "outputs": [],
   "source": [
    "print('Train...')\n",
    "history = model.fit(x_train, train_labels,\n",
    "          batch_size=256, epochs=30, validation_split=0.1)"
   ]
  },
  {
   "cell_type": "code",
   "execution_count": null,
   "metadata": {},
   "outputs": [],
   "source": [
    "KT.plot_history(history.history)"
   ]
  },
  {
   "cell_type": "code",
   "execution_count": null,
   "metadata": {},
   "outputs": [],
   "source": [
    "print('Build and train final model...')\n",
    "model = keras.models.Sequential()\n",
    "model.add(keras.layers.Embedding(max_features, 3, input_shape=(None, ), mask_zero=True))\n",
    "model.add(keras.layers.SimpleRNN(4))\n",
    "model.add(keras.layers.Dense(4, activation='relu'))\n",
    "model.add(keras.layers.Dense(1, activation='sigmoid'))\n",
    "\n",
    "model.compile(loss='binary_crossentropy',\n",
    "              optimizer=keras.optimizers.RMSprop(),\n",
    "              metrics=['accuracy'])\n",
    "model.fit(x_train, train_labels, batch_size=256, epochs=10)\n",
    "test_loss, test_acc = model.evaluate(x_test, test_labels)"
   ]
  },
  {
   "cell_type": "code",
   "execution_count": null,
   "metadata": {},
   "outputs": [],
   "source": [
    "history.history['test_loss'] = test_loss\n",
    "history.history['test_acc'] = test_acc\n",
    "history.history['epochs'] = 10\n",
    "KT.plot_history(history.history)"
   ]
  },
  {
   "cell_type": "code",
   "execution_count": null,
   "metadata": {},
   "outputs": [],
   "source": [
    "model.save(\"IMDB.h5\")"
   ]
  },
  {
   "cell_type": "code",
   "execution_count": null,
   "metadata": {},
   "outputs": [],
   "source": [
    "review = \"\"\"\n",
    "As far as the show goes it's fantastic \n",
    "but what really stood out in my opinion was the performance of Joaquín Cosío as 'Don Neto' \n",
    "I believe this is one of the best supporting performances in any Netflix series to date! \n",
    "The arc that he goes through and the performance that he turns in cannot be ignored. \n",
    "He is a very talented actor and displays this in every scene he's in! \n",
    "He is the most believeable character in the show shining brightly over an already brilliant cast of actors.\n",
    "\"\"\""
   ]
  },
  {
   "cell_type": "code",
   "execution_count": null,
   "metadata": {},
   "outputs": [],
   "source": [
    "word_index = KT.datasets.imdb.get_word_index()\n",
    "text_split = keras.preprocessing.text.text_to_word_sequence(review)\n",
    "print(text_split)\n",
    "text_token = [word_index.get(t, max_features+1) for t in text_split]\n",
    "text_dict = [1] + [2 if d > max_features else d+3 for d in text_token]\n",
    "text_predict= np.asarray(text_dict).reshape(1, len(text_dict))\n",
    "print(text_predict)\n",
    "reverse_word_index = {v+3:k for k,v in word_index.items()}\n",
    "reverse_word_index[0] = '-PAD-'\n",
    "reverse_word_index[1] = '-START-'\n",
    "reverse_word_index[2] = '-UNK-'\n",
    "print(\" \".join([reverse_word_index[t] for t in text_dict]))"
   ]
  },
  {
   "cell_type": "code",
   "execution_count": null,
   "metadata": {},
   "outputs": [],
   "source": [
    "result = model.predict(text_predict)\n",
    "print('-' * 24)\n",
    "print(\" Good movie | {0:>6.2f}%\".format(100*result[0][0]))\n",
    "print(\" Bad movie  | {0:>6.2f}%\".format(100.0 - 100*result[0][0]))\n",
    "print('-' * 24)"
   ]
  },
  {
   "cell_type": "code",
   "execution_count": null,
   "metadata": {},
   "outputs": [],
   "source": []
  }
 ],
 "metadata": {
  "kernelspec": {
   "display_name": "Python 2",
   "language": "python",
   "name": "python2"
  },
  "language_info": {
   "codemirror_mode": {
    "name": "ipython",
    "version": 2
   },
   "file_extension": ".py",
   "mimetype": "text/x-python",
   "name": "python",
   "nbconvert_exporter": "python",
   "pygments_lexer": "ipython2",
   "version": "2.7.13"
  }
 },
 "nbformat": 4,
 "nbformat_minor": 2
}
