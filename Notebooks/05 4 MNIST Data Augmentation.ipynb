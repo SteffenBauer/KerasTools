{
 "cells": [
  {
   "cell_type": "code",
   "execution_count": null,
   "metadata": {},
   "outputs": [],
   "source": [
    "from __future__ import print_function\n",
    "import KerasTools as KT\n",
    "import numpy as np\n",
    "from keras.datasets import mnist\n",
    "from keras import models\n",
    "from keras import layers\n",
    "from keras import optimizers\n",
    "from keras.utils import to_categorical"
   ]
  },
  {
   "cell_type": "code",
   "execution_count": null,
   "metadata": {},
   "outputs": [],
   "source": [
    "# Load MNIST data and preprocess it\n",
    "(train_images, train_labels), (test_images, test_labels) = mnist.load_data()\n",
    "train_images = train_images.reshape((60000, 28 * 28))\n",
    "train_images = train_images.astype('float32') / 255\n",
    "test_images = test_images.reshape((10000, 28 * 28))\n",
    "test_images = test_images.astype('float32') / 255\n",
    "\n",
    "train_labels = to_categorical(train_labels)\n",
    "test_labels = to_categorical(test_labels)"
   ]
  },
  {
   "cell_type": "code",
   "execution_count": null,
   "metadata": {},
   "outputs": [],
   "source": [
    "# Generate a neural network\n",
    "#\n",
    "# For this example we will deliberately use a network \n",
    "# with too much capacity to provoke early overfitting\n",
    "\n",
    "def build_network():\n",
    "    network = models.Sequential()\n",
    "    network.add(layers.Dense(256, activation='relu', input_shape=(28*28*1,)))\n",
    "    network.add(layers.Dense(256, activation='relu'))\n",
    "    network.add(layers.Dense(10, activation='softmax'))\n",
    "\n",
    "    network.compile(optimizer=optimizers.rmsprop(lr=0.001), loss='categorical_crossentropy', metrics=['accuracy'])\n",
    "\n",
    "    return network\n",
    "\n",
    "network = build_network()\n",
    "network.summary()\n",
    "\n",
    "epochs = 20\n",
    "history = network.fit(train_images, train_labels, epochs=epochs, batch_size=128, validation_split=0.2)"
   ]
  },
  {
   "cell_type": "code",
   "execution_count": null,
   "metadata": {},
   "outputs": [],
   "source": [
    "KT.plot_history(history.history)"
   ]
  },
  {
   "cell_type": "code",
   "execution_count": null,
   "metadata": {},
   "outputs": [],
   "source": [
    "# Now we apply image data augmentation to address early overfitting\n",
    "\n",
    "# Image augmentation needs 2D with channel data.\n",
    "# We therefore reload the MNIST data and reshape it this time to (28, 28, 1) arrays\n",
    "(train_images, train_labels), (test_images, test_labels) = mnist.load_data()\n",
    "train_images = train_images.reshape((60000, 28, 28, 1))\n",
    "train_images = train_images.astype('float32') / 255\n",
    "test_images = test_images.reshape((10000, 28, 28, 1))\n",
    "test_images = test_images.astype('float32') / 255\n",
    "\n",
    "train_labels = to_categorical(train_labels)\n",
    "test_labels = to_categorical(test_labels)\n",
    "\n",
    "# As the augmented input data is now a 3D array, \n",
    "# the first network layer must flatten the data to a 1D array suitable for Dense layers. \n",
    "def build_generator_network():\n",
    "    network = models.Sequential()\n",
    "    network.add(layers.Flatten(input_shape=(28,28,1)))\n",
    "    network.add(layers.Dense(256, activation='relu', input_shape=(28*28*1,)))\n",
    "    network.add(layers.Dense(256, activation='relu'))\n",
    "    network.add(layers.Dense(10, activation='softmax'))\n",
    "\n",
    "    network.compile(optimizer=optimizers.rmsprop(lr=0.001), loss='categorical_crossentropy', metrics=['accuracy'])\n",
    "\n",
    "    return network\n",
    "\n",
    "network = build_generator_network()\n",
    "\n",
    "# Build the Image data generator, using various image modification techniques.\n",
    "# We take 20% of the training data for validation\n",
    "from keras.preprocessing.image import ImageDataGenerator\n",
    "datagen = ImageDataGenerator(\n",
    "    rotation_range=20,\n",
    "    width_shift_range=0.2, height_shift_range=0.2,\n",
    "    horizontal_flip=False, validation_split=0.2)\n",
    "\n",
    "# Define the actual generators, one each for the training and validation subsets\n",
    "train_generator = datagen.flow(train_images, train_labels, batch_size=128, subset='training')\n",
    "validation_generator = datagen.flow(train_images, train_labels, batch_size=128, subset='validation')\n",
    "\n",
    "# We use the method `fit_generator` to use generators as input for training / validation data.\n",
    "# On a multi-core machine, we can apply multiprocessing to do the augmentation work in parallel.\n",
    "history = network.fit_generator(train_generator, \n",
    "                                epochs=20, \n",
    "                                validation_data = validation_generator, \n",
    "                                use_multiprocessing=True)"
   ]
  },
  {
   "cell_type": "code",
   "execution_count": null,
   "metadata": {},
   "outputs": [],
   "source": [
    "KT.plot_history(history.history)"
   ]
  },
  {
   "cell_type": "code",
   "execution_count": null,
   "metadata": {},
   "outputs": [],
   "source": []
  }
 ],
 "metadata": {
  "kernelspec": {
   "display_name": "Python 2",
   "language": "python",
   "name": "python2"
  },
  "language_info": {
   "codemirror_mode": {
    "name": "ipython",
    "version": 2
   },
   "file_extension": ".py",
   "mimetype": "text/x-python",
   "name": "python",
   "nbconvert_exporter": "python",
   "pygments_lexer": "ipython2",
   "version": "2.7.13"
  }
 },
 "nbformat": 4,
 "nbformat_minor": 2
}
