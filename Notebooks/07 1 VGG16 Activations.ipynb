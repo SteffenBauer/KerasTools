{
 "cells": [
  {
   "cell_type": "code",
   "execution_count": null,
   "metadata": {},
   "outputs": [],
   "source": [
    "import keras\n",
    "from keras import models\n",
    "from keras.preprocessing import image\n",
    "import tensorflow as tf\n",
    "import numpy as np\n",
    "from keras import backend as K\n",
    "from keras.applications import vgg16\n",
    "import matplotlib.pyplot as plt\n",
    "%matplotlib inline\n",
    "\n",
    "tf.logging.set_verbosity(tf.logging.ERROR)\n",
    "\n",
    "model = vgg16.VGG16(weights='imagenet',\n",
    "              include_top=False)\n",
    "model.summary()"
   ]
  },
  {
   "cell_type": "code",
   "execution_count": null,
   "metadata": {},
   "outputs": [],
   "source": [
    "# Load a source image\n",
    "img = image.load_img(\"/tmp/workspace/Pictures/cat_1700.jpg\", target_size=(150, 150))\n",
    "plt.imshow(img)\n",
    "plt.show()\n",
    "\n",
    "img_tensor = image.img_to_array(img)\n",
    "img_tensor = np.expand_dims(img_tensor, axis=0)\n",
    "img_tensor = vgg16.preprocess_input(img_tensor)"
   ]
  },
  {
   "cell_type": "code",
   "execution_count": null,
   "metadata": {},
   "outputs": [],
   "source": [
    "# Set here the layer name and filter number for analysis\n",
    "layer_name = 'block1_conv1'\n",
    "filter_num = 0"
   ]
  },
  {
   "cell_type": "code",
   "execution_count": null,
   "metadata": {},
   "outputs": [],
   "source": [
    "# Display raw kernel values of a filter in a convolutional layer\n",
    "kernel = model.get_layer(layer_name).kernel\n",
    "c_filter = kernel[:,:,:,filter_num]\n",
    "print(\"Shape of filter No. {} in layer {}: {}\".format(filter_num, layer_name, c_filter.shape))\n",
    "print()\n",
    "print(\"Raw kernel values:\")\n",
    "with tf.Session() as sess:\n",
    "    sess.run(tf.global_variables_initializer())\n",
    "    print(sess.run(c_filter))"
   ]
  },
  {
   "cell_type": "code",
   "execution_count": null,
   "metadata": {},
   "outputs": [],
   "source": [
    "# Display the activation of a single filter in a specific convolutional layer\n",
    "layer_output = [model.get_layer(layer_name).output]\n",
    "\n",
    "# Creates a model that will return these outputs, given the model input:\n",
    "activation_model = models.Model(inputs=model.input, outputs=layer_output)\n",
    "\n",
    "activation = activation_model.predict(img_tensor)\n",
    "print(\"Activation map shape:\", activation.shape)\n",
    "plt.matshow(activation[0, :, :, filter_num])\n",
    "plt.show()"
   ]
  },
  {
   "cell_type": "code",
   "execution_count": null,
   "metadata": {},
   "outputs": [],
   "source": [
    "# Create a map of all filter activations in a specific layer\n",
    "images_per_row = 16\n",
    "\n",
    "n_features = activation.shape[-1]\n",
    "size = activation.shape[1]\n",
    "n_cols = n_features // images_per_row\n",
    "display_grid = np.zeros((size * n_cols, images_per_row * size))\n",
    "for col in range(n_cols):\n",
    "    for row in range(images_per_row):\n",
    "        channel_image = activation[0, :, :, col * images_per_row + row]\n",
    "        # Post-process the feature to make it visually palatable\n",
    "        channel_image -= channel_image.mean()\n",
    "        channel_image /= (channel_image.std() + 1e-5)\n",
    "        channel_image *= 64\n",
    "        channel_image += 128\n",
    "        channel_image = np.clip(channel_image, 0, 255).astype('uint8')\n",
    "        display_grid[col * size : (col + 1) * size,\n",
    "                     row * size : (row + 1) * size] = channel_image\n",
    "\n",
    "scale = 1. / size\n",
    "plt.figure(figsize=(scale * display_grid.shape[1],\n",
    "                    scale * display_grid.shape[0]))\n",
    "plt.title(layer_name)\n",
    "plt.grid(False)\n",
    "plt.imshow(display_grid, aspect='auto')\n",
    "plt.show()"
   ]
  },
  {
   "cell_type": "code",
   "execution_count": null,
   "metadata": {},
   "outputs": [],
   "source": []
  }
 ],
 "metadata": {
  "kernelspec": {
   "display_name": "Python 3",
   "language": "python",
   "name": "python3"
  },
  "language_info": {
   "codemirror_mode": {
    "name": "ipython",
    "version": 3
   },
   "file_extension": ".py",
   "mimetype": "text/x-python",
   "name": "python",
   "nbconvert_exporter": "python",
   "pygments_lexer": "ipython3",
   "version": "3.5.2"
  }
 },
 "nbformat": 4,
 "nbformat_minor": 2
}
