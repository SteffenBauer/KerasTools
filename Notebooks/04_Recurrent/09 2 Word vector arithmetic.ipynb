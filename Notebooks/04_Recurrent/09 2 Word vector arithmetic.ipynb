{
 "cells": [
  {
   "cell_type": "code",
   "execution_count": null,
   "metadata": {},
   "outputs": [],
   "source": [
    "import numpy as np\n",
    "import scipy.spatial.distance\n",
    "import sklearn.cluster"
   ]
  },
  {
   "cell_type": "code",
   "execution_count": null,
   "metadata": {},
   "outputs": [],
   "source": [
    "maxwords = 10000\n",
    "words, vecs = [], []\n",
    "with open('/tmp/workspace/glove.6B.50d.txt') as fp:\n",
    "    for line in fp:\n",
    "        values = line.split()\n",
    "        words.append(values[0])\n",
    "        vecs.append(np.asarray(values[1:], dtype='float32'))\n",
    "        maxwords -= 1\n",
    "        if maxwords == 0: break"
   ]
  },
  {
   "cell_type": "code",
   "execution_count": null,
   "metadata": {},
   "outputs": [],
   "source": [
    "def find_nearest(vec, nr=5):\n",
    "    dists = scipy.spatial.distance.cdist([vec], vecs, 'cosine')\n",
    "    nearest = dists.argsort()[0][:nr]\n",
    "    return [(words[n], dists[0][n]) for n in nearest]\n",
    "\n",
    "def emb(word):\n",
    "    return vecs[words.index(word)]"
   ]
  },
  {
   "cell_type": "code",
   "execution_count": null,
   "metadata": {},
   "outputs": [],
   "source": [
    "find_nearest(emb('forest'), nr=10)"
   ]
  },
  {
   "cell_type": "code",
   "execution_count": null,
   "metadata": {},
   "outputs": [],
   "source": [
    "find_nearest(emb('mountain') + emb('river'), nr=5)"
   ]
  },
  {
   "cell_type": "code",
   "execution_count": null,
   "metadata": {},
   "outputs": [],
   "source": [
    "find_nearest(emb('rain') + emb('winter'), nr=3)"
   ]
  },
  {
   "cell_type": "code",
   "execution_count": null,
   "metadata": {},
   "outputs": [],
   "source": [
    "find_nearest(emb('boy') - emb('man') + emb('woman'), nr=1)"
   ]
  },
  {
   "cell_type": "code",
   "execution_count": null,
   "metadata": {},
   "outputs": [],
   "source": [
    "feminine = emb('woman') - emb('man')\n",
    "print(find_nearest(emb('boy') + feminine, nr=2))\n",
    "print(find_nearest(emb('king') + feminine, nr=2))"
   ]
  },
  {
   "cell_type": "code",
   "execution_count": null,
   "metadata": {},
   "outputs": [],
   "source": [
    "find_nearest(emb('berlin') - emb('germany') + emb('france'), nr=1)"
   ]
  },
  {
   "cell_type": "code",
   "execution_count": null,
   "metadata": {},
   "outputs": [],
   "source": [
    "find_nearest(emb('germany') - emb('europe') + emb('asia'), nr=3)"
   ]
  },
  {
   "cell_type": "code",
   "execution_count": null,
   "metadata": {},
   "outputs": [],
   "source": [
    "plural = emb('forests') - emb('forest')\n",
    "find_nearest(emb('car') + plural, nr=1)\n"
   ]
  },
  {
   "cell_type": "code",
   "execution_count": null,
   "metadata": {},
   "outputs": [],
   "source": [
    "kmeans = sklearn.cluster.KMeans(n_clusters=20).fit(vecs)\n",
    "kmeans.predict([emb('king'), emb('queen'), emb('man'), emb('woman'), emb('car'), emb('motorcycle')])"
   ]
  },
  {
   "cell_type": "code",
   "execution_count": null,
   "metadata": {},
   "outputs": [],
   "source": []
  }
 ],
 "metadata": {
  "kernelspec": {
   "display_name": "Python 3",
   "language": "python",
   "name": "python3"
  },
  "language_info": {
   "codemirror_mode": {
    "name": "ipython",
    "version": 3
   },
   "file_extension": ".py",
   "mimetype": "text/x-python",
   "name": "python",
   "nbconvert_exporter": "python",
   "pygments_lexer": "ipython3",
   "version": "3.5.2"
  }
 },
 "nbformat": 4,
 "nbformat_minor": 2
}
