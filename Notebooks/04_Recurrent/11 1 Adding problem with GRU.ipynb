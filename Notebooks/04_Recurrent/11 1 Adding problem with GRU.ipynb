{
 "cells": [
  {
   "cell_type": "code",
   "execution_count": null,
   "metadata": {},
   "outputs": [],
   "source": [
    "import ipywidgets\n",
    "import PIL\n",
    "import bqplot.pyplot\n",
    "\n",
    "import keras\n",
    "import numpy as np\n",
    "import tensorflow as tf\n",
    "tf.logging.set_verbosity(tf.logging.ERROR)\n",
    "\n",
    "import os\n",
    "os.environ['CUDA_VISIBLE_DEVICES'] = ''"
   ]
  },
  {
   "cell_type": "code",
   "execution_count": null,
   "metadata": {},
   "outputs": [],
   "source": [
    "def adding_problem_generator(N, seq_len=6, high=1):\n",
    "    \"\"\" A data generator for the adding problem.\n",
    "\n",
    "    The data definition strictly follows Quoc V. Le, Navdeep Jaitly, Geoffrey E.\n",
    "    Hintan's paper, A Simple Way to Initialize Recurrent Networks of Rectified\n",
    "    Linear Units.\n",
    "\n",
    "    The single datum entry is a 2D vector with two rows with same length.\n",
    "    The first row is a list of random data; the second row is a list of binary\n",
    "    mask with all ones, except two positions sampled by uniform distribution.\n",
    "    The corresponding label entry is the sum of the masked data. For\n",
    "    example:\n",
    "\n",
    "     input          label\n",
    "     -----          -----\n",
    "    1 4 5 3  ----->   9 (4 + 5)\n",
    "    0 1 1 0\n",
    "\n",
    "    :param N: the number of the entries.\n",
    "    :param seq_len: the length of a single sequence.\n",
    "    :param p: the probability of 1 in generated mask\n",
    "    :param high: the random data is sampled from a [0, high] uniform distribution.\n",
    "    :return: (X, Y), X the data, Y the label.\n",
    "    \"\"\"    \n",
    "    X_num = np.random.uniform(low=0, high=high, size=(N, seq_len, 1))\n",
    "    X_mask = np.zeros((N, seq_len, 1))\n",
    "    Y = np.ones((N, 1))\n",
    "    for i in range(N):\n",
    "        # Default uniform distribution on position sampling\n",
    "        positions = np.random.choice(seq_len, size=2, replace=False)\n",
    "        X_mask[i, positions] = 1\n",
    "        Y[i, 0] = np.sum(X_num[i, positions])\n",
    "    X = np.append(X_num, X_mask, axis=2)\n",
    "    return X, Y"
   ]
  },
  {
   "cell_type": "code",
   "execution_count": null,
   "metadata": {},
   "outputs": [],
   "source": [
    "def init_plot(baseline):\n",
    "    axes = {'x': {'label': 'Epochs'}, \n",
    "            'y': {'label': 'Losses', \n",
    "                  'label_offset': '50px',\n",
    "                  'tick_style': {'font-size': 10}}}\n",
    "    y_sc = bqplot.LinearScale(min=0.0, max=0.25)\n",
    "    \n",
    "    loss_plt = bqplot.pyplot.figure(min_aspect_ratio=8/5, max_aspect_ratio=8/5, scales={'y': y_sc})\n",
    "    bqplot.pyplot.plot([0,1],[0.0,0.0], axes_options=axes)\n",
    "    bqplot.pyplot.plot([0,1],[0.0,0.0], colors=['orange'])\n",
    "    bqplot.pyplot.hline(baseline, line_style='dashed', stroke_width=2.0, colors=['red'])\n",
    "    bqplot.pyplot.hline(0.0, line_style='dashed', stroke_width=2.0, colors=['green'])\n",
    "    bqplot.pyplot.scatter([0], [0.0], colors=['red'], stroke_width = 0.5, marker='circle', visible=False)\n",
    "    return loss_plt\n",
    "\n",
    "class plot_history(keras.callbacks.Callback):\n",
    "    def __init__(self, loss_plt):\n",
    "        self.loss_plt = loss_plt\n",
    "        self.history = {'loss':[], 'val_loss':[]}\n",
    "    \n",
    "    def on_epoch_end(self, epoch, logs={}):\n",
    "        self.history['loss'].append(logs.get('loss'))\n",
    "        self.history['val_loss'].append(logs.get('val_loss'))\n",
    "        \n",
    "        x_data = range(1, len(self.history['loss'])+1)\n",
    "        self.loss_plt.marks[0].x = x_data\n",
    "        self.loss_plt.marks[0].y = self.history['loss']\n",
    "        self.loss_plt.marks[1].x = x_data\n",
    "        self.loss_plt.marks[1].y = self.history['val_loss']\n",
    "\n",
    "def plot_test_loss(loss_plt, epochs, loss):\n",
    "    loss_plt.marks[4].x = [epochs]\n",
    "    loss_plt.marks[4].y = [loss]\n",
    "    loss_plt.marks[4].visible=True"
   ]
  },
  {
   "cell_type": "code",
   "execution_count": null,
   "metadata": {},
   "outputs": [],
   "source": [
    "seqlen = 64\n",
    "epochs = 300\n",
    "batch_size = 100\n",
    "x_train, y_train = adding_problem_generator(1000, seq_len=seqlen)\n",
    "\n",
    "model = keras.models.Sequential()\n",
    "model.add(keras.layers.GRU(8, input_shape=(seqlen, 2)))\n",
    "model.add(keras.layers.Dense(1, activation='linear'))\n",
    "model.compile(optimizer='rmsprop', loss='mse')\n",
    "model.summary()\n",
    "\n",
    "loss_plt = init_plot(0.1767)\n",
    "display(loss_plt)"
   ]
  },
  {
   "cell_type": "code",
   "execution_count": null,
   "metadata": {},
   "outputs": [],
   "source": [
    "history = model.fit(x_train, y_train, batch_size=batch_size, epochs=epochs, verbose=0,\n",
    "                    validation_split=0.2, callbacks=[plot_history(loss_plt)])"
   ]
  },
  {
   "cell_type": "code",
   "execution_count": null,
   "metadata": {},
   "outputs": [],
   "source": [
    "x_test, y_test = adding_problem_generator(500, seq_len=seqlen)\n",
    "test_loss = model.evaluate(x_test, y_test)\n",
    "plot_test_loss(loss_plt, epochs, test_loss)"
   ]
  },
  {
   "cell_type": "code",
   "execution_count": null,
   "metadata": {},
   "outputs": [],
   "source": []
  }
 ],
 "metadata": {
  "kernelspec": {
   "display_name": "Python 3",
   "language": "python",
   "name": "python3"
  },
  "language_info": {
   "codemirror_mode": {
    "name": "ipython",
    "version": 3
   },
   "file_extension": ".py",
   "mimetype": "text/x-python",
   "name": "python",
   "nbconvert_exporter": "python",
   "pygments_lexer": "ipython3",
   "version": "3.5.2"
  }
 },
 "nbformat": 4,
 "nbformat_minor": 2
}
