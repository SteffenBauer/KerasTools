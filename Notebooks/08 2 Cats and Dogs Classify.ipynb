{
 "cells": [
  {
   "cell_type": "code",
   "execution_count": null,
   "metadata": {},
   "outputs": [],
   "source": [
    "import keras\n",
    "from keras.models import load_model\n",
    "from keras.applications import mobilenet\n",
    "from keras.preprocessing.image import img_to_array\n",
    "from keras.preprocessing.image import load_img\n",
    "import numpy as np\n",
    "import matplotlib.pyplot as plt\n",
    "%matplotlib inline \n",
    "\n",
    "import tensorflow as tf\n",
    "tf.logging.set_verbosity(tf.logging.ERROR)\n",
    "\n",
    "model_file = \"./cats_and_dogs_trained.h5\"\n",
    "\n",
    "print(\"[INFO] loading {}...\".format(model_file))\n",
    "model = load_model(model_file)\n",
    "#if keras.__version__.startswith('2.2'):\n",
    "#    model = load_model(model_file,\n",
    "#            # Needed to import a model containing a saved MobileNet convolutional base.\n",
    "#            custom_objects={'relu6': mobilenet.mobilenet.relu6})\n",
    "#else:\n",
    "#    model = load_model(model_file,\n",
    "#            # Needed to import a model containing a saved MobileNet convolutional base.\n",
    "#            custom_objects={'relu6': mobilenet.relu6, 'DepthwiseConv2D': mobilenet.DepthwiseConv2D})\n",
    "\n",
    "inputShape = model.input_shape[1:3]\n",
    "model.summary()"
   ]
  },
  {
   "cell_type": "code",
   "execution_count": null,
   "metadata": {},
   "outputs": [],
   "source": [
    "image_file = \"/tmp/workspace/Pet_Dataset/production/Pet_00001.jpg\"\n",
    "\n",
    "print(\"[INFO] loading and pre-processing image...\")\n",
    "\n",
    "raw_image = load_img(image_file)\n",
    "plt.imshow(raw_image)\n",
    "plt.show()\n",
    "image = load_img(image_file, target_size=inputShape)\n",
    "image = img_to_array(image)\n",
    "image = np.expand_dims(image, axis=0)\n",
    "image = mobilenet.preprocess_input(image)\n",
    "\n",
    "print(\"[INFO] classifying image {} with {}...\".format(image_file, model_file))\n",
    "preds = model.predict(image)\n",
    "\n",
    "print('-' * 16)\n",
    "print(\"Cat | {0:>6.2f}%\".format(100*preds[0][0]))\n",
    "print(\"Dog | {0:>6.2f}%\".format(100*preds[0][1]))\n",
    "print('-' * 16)\n"
   ]
  },
  {
   "cell_type": "code",
   "execution_count": null,
   "metadata": {},
   "outputs": [],
   "source": []
  }
 ],
 "metadata": {
  "kernelspec": {
   "display_name": "Python 3",
   "language": "python",
   "name": "python3"
  },
  "language_info": {
   "codemirror_mode": {
    "name": "ipython",
    "version": 3
   },
   "file_extension": ".py",
   "mimetype": "text/x-python",
   "name": "python",
   "nbconvert_exporter": "python",
   "pygments_lexer": "ipython3",
   "version": "3.5.2"
  }
 },
 "nbformat": 4,
 "nbformat_minor": 2
}
