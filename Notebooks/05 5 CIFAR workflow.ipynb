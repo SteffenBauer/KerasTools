{
 "cells": [
  {
   "cell_type": "code",
   "execution_count": null,
   "metadata": {
    "scrolled": true
   },
   "outputs": [],
   "source": [
    "import os, sys\n",
    "module_path = os.path.abspath(os.path.join('..'))\n",
    "if module_path not in sys.path:\n",
    "    sys.path.append(module_path)\n",
    "import KerasTools as KT\n",
    "\n",
    "import random\n",
    "import io\n",
    "\n",
    "import keras\n",
    "import numpy as np\n",
    "import tensorflow as tf\n",
    "import PIL\n",
    "import bqplot.pyplot\n",
    "import ipywidgets\n",
    "\n",
    "tf.logging.set_verbosity(tf.logging.ERROR)"
   ]
  },
  {
   "cell_type": "code",
   "execution_count": null,
   "metadata": {
    "scrolled": false
   },
   "outputs": [],
   "source": [
    "(train_images, train_labels), (test_images, test_labels) = keras.datasets.cifar10.load_data()\n",
    "mapping = KT.datasets.decode._mapping['cifar10']\n",
    "labels = ['Airplane', 'Bird']\n",
    "\n",
    "#(train_images, train_labels), (test_images, test_labels) = keras.datasets.cifar100.load_data(label_mode='fine')\n",
    "#mapping = KT.datasets.decode._mapping['cifar100_fine']\n",
    "#labels = ['Roses', 'Sunflowers']\n",
    "\n",
    "cifar_map = dict()\n",
    "random.seed(0)\n",
    "\n",
    "train_pairs = []\n",
    "test_pairs = []\n",
    "for i,l in enumerate(labels):\n",
    "    idx = mapping.index(l)\n",
    "    cifar_map[i] = l\n",
    "    idx_train = train_images[train_labels.flatten() == idx]\n",
    "    idx_test = test_images[test_labels.flatten() == idx]\n",
    "    train_pairs.extend([(img,i) for img in idx_train])\n",
    "    test_pairs.extend([(img,i) for img in idx_test])\n",
    "\n",
    "random.shuffle(train_pairs)\n",
    "random.shuffle(test_pairs)\n",
    "\n",
    "train_images, train_labels = zip(*train_pairs)\n",
    "test_images, test_labels = zip(*test_pairs)\n",
    "train_images = np.asarray(train_images)\n",
    "train_labels = np.asarray(train_labels)\n",
    "test_images = np.asarray(test_images)\n",
    "test_labels = np.asarray(test_labels)\n",
    "print(cifar_map)\n",
    "print(train_images.shape, train_labels.shape)\n",
    "print(test_images.shape, test_labels.shape)"
   ]
  },
  {
   "cell_type": "code",
   "execution_count": null,
   "metadata": {},
   "outputs": [],
   "source": [
    "r, c, s = 6, 8, 72\n",
    "pics = train_images[np.random.randint(train_images.shape[0], size=r*c)]\n",
    "canvas = PIL.Image.new('RGB', (c*s+2, r*s+2), color='white')\n",
    "for i,d in enumerate(pics):\n",
    "    dimg = PIL.Image.fromarray(d).resize((s-8, s-8))\n",
    "    canvas.paste(dimg, box=(s*int(i/r), s*(i%r)))\n",
    "\n",
    "buf = io.BytesIO()\n",
    "canvas.save(buf, 'gif')\n",
    "img = ipywidgets.Image(value=buf.getvalue())\n",
    "display(img)"
   ]
  },
  {
   "cell_type": "code",
   "execution_count": null,
   "metadata": {
    "scrolled": true
   },
   "outputs": [],
   "source": [
    "x_train = train_images.astype('float32') / 255\n",
    "x_test = test_images.astype('float32') / 255\n",
    "\n",
    "y_train = keras.utils.to_categorical(train_labels)\n",
    "y_test = keras.utils.to_categorical(test_labels)\n",
    "print(x_train.shape, y_train.shape)\n",
    "print(x_test.shape, y_test.shape)\n"
   ]
  },
  {
   "cell_type": "code",
   "execution_count": null,
   "metadata": {
    "scrolled": true
   },
   "outputs": [],
   "source": [
    "class plot_history(keras.callbacks.Callback):\n",
    "    def __init__(self, loss_plt, acc_plt, mode='val', history = None):\n",
    "        self.loss_plt = loss_plt\n",
    "        self.acc_plt = acc_plt\n",
    "        self.mode = mode\n",
    "        if history is None:\n",
    "            history = {'loss':[], 'val_loss':[], 'acc': [], 'val_acc':[]}\n",
    "        self.history = history\n",
    "    def on_epoch_end(self, epoch, logs={}):\n",
    "        if self.mode == 'val':\n",
    "            self.history['loss'].append(logs.get('loss'))\n",
    "            self.history['val_loss'].append(logs.get('val_loss'))\n",
    "            self.history['acc'].append(logs.get('acc'))\n",
    "            self.history['val_acc'].append(logs.get('val_acc'))\n",
    "        \n",
    "        imbuf = BytesIO()\n",
    "\n",
    "        plt.plot(range(1, len(self.history['loss'])+1), self.history['loss'], linewidth=2)\n",
    "        plt.plot(range(1, len(self.history['val_loss'])+1), self.history['val_loss'], linewidth=2)\n",
    "        if self.mode == 'final':\n",
    "            plt.plot([epoch+1], [logs.get('val_loss')], 'rx', ms=5.0)\n",
    "            plt.axvline(epoch+1, ls=':')\n",
    "        plt.ylabel('Loss')\n",
    "        plt.xlabel('Epochs')\n",
    "        plt.savefig(imbuf)\n",
    "        imbuf.seek(0)\n",
    "        self.loss_plt.value = imbuf.getvalue()\n",
    "        plt.clf()\n",
    "        plt.plot(range(1, len(self.history['acc'])+1), self.history['acc'], linewidth=2)\n",
    "        plt.plot(range(1, len(self.history['val_acc'])+1), self.history['val_acc'], linewidth=2)\n",
    "        if self.mode == 'final':\n",
    "            plt.plot([epoch+1], [logs.get('val_acc')], 'rx', ms=5.0)\n",
    "            plt.axvline(epoch+1, ls=':')\n",
    "        plt.ylabel('Accuracy')\n",
    "        plt.xlabel('Steps')\n",
    "        plt.savefig(imbuf)\n",
    "        imbuf.seek(0)\n",
    "        self.acc_plt.value = imbuf.getvalue()\n",
    "        plt.clf()\n",
    "        \n",
    "        vt = \"Validation\" if self.mode == 'val' else \"Test\"\n",
    "        print(\"Epoch {: 4d} | Loss: {:5.4f} Accuracy: {:5.4f} | {} Loss: {:5.4f} {} Accuracy {:5.4f}\".format(\n",
    "            epoch+1,logs.get('loss'),logs.get('acc'),vt,logs.get('val_loss'),vt,logs.get('val_acc')))"
   ]
  },
  {
   "cell_type": "code",
   "execution_count": null,
   "metadata": {
    "scrolled": true
   },
   "outputs": [],
   "source": [
    "def build_network():\n",
    "    network = keras.models.Sequential(name='CIFAR_CNN')\n",
    "    network.add(keras.layers.Conv2D(4, 3, padding='same', activation='relu', input_shape=(32,32,3), name='conv1a'))\n",
    "    network.add(keras.layers.MaxPooling2D(2, name='pool1'))\n",
    "    network.add(keras.layers.Conv2D(8, 3, padding='same', activation='relu', name='conv2a'))\n",
    "    network.add(keras.layers.MaxPooling2D(2, name='pool2'))\n",
    "    network.add(keras.layers.Conv2D(16, 3, padding='same', activation='relu', name='conv3a'))\n",
    "    network.add(keras.layers.MaxPooling2D(2, name='pool3'))\n",
    "    network.add(keras.layers.Conv2D(32, 3, padding='same', activation='relu', name='conv4a'))\n",
    "    network.add(keras.layers.GlobalMaxPooling2D(name='globalpool'))\n",
    "    network.add(keras.layers.Dropout(0.25, name='dropout'))\n",
    "    network.add(keras.layers.Dense(64, activation='relu', name='dense1'))\n",
    "    network.add(keras.layers.Dense(len(cifar_map), activation='softmax', name='output'))\n",
    "\n",
    "    network.compile(optimizer=keras.optimizers.adam(), loss='categorical_crossentropy', metrics=['accuracy'])\n",
    "\n",
    "    return network"
   ]
  },
  {
   "cell_type": "code",
   "execution_count": null,
   "metadata": {
    "scrolled": true
   },
   "outputs": [],
   "source": [
    "def build_network():\n",
    "    inp = keras.layers.Input(shape=(32,32,3))\n",
    "    x = keras.layers.Conv2D(8, 3, strides=1, activation='relu', name='conv1')(inp)\n",
    "    x = keras.layers.MaxPooling2D(2, name='pool1')(x)\n",
    "    y = keras.layers.Conv2D(8, 3, strides=1, padding='same', activation='relu', name='res1a')(x)\n",
    "    y = keras.layers.Conv2D(8, 3, strides=1, padding='same', activation='relu', name='res1b')(y)\n",
    "    x = keras.layers.add([x, y], name='add1')\n",
    "    x = keras.layers.Activation('relu', name='activation1')(x)\n",
    "    \n",
    "    x = keras.layers.Conv2D(16, 3, strides=1, activation='relu', name='conv2')(x)\n",
    "    x = keras.layers.MaxPooling2D(2, name='pool2')(x)\n",
    "    y = keras.layers.Conv2D(16, 3, strides=1, padding='same', activation='relu', name='res2a')(x)\n",
    "    y = keras.layers.Conv2D(16, 3, strides=1, padding='same', activation='relu', name='res2b')(y)\n",
    "    x = keras.layers.add([x, y], name='add2')\n",
    "    x = keras.layers.Activation('relu', name='activation2')(x)\n",
    "\n",
    "    x = keras.layers.Conv2D(32, 3, strides=1, activation='relu', name='conv3')(x)\n",
    "    x = keras.layers.MaxPooling2D(2, name='pool3')(x)\n",
    "    y = keras.layers.Conv2D(32, 3, strides=1, padding='same', activation='relu', name='res3a')(x)\n",
    "    y = keras.layers.Conv2D(32, 3, strides=1, padding='same', activation='relu', name='res3b')(y)\n",
    "    x = keras.layers.add([x, y], name='add3')\n",
    "    x = keras.layers.Activation('relu', name='activation3')(x)\n",
    "\n",
    "    x = keras.layers.GlobalMaxPooling2D(name='globalpool')(x)\n",
    "    x = keras.layers.Dropout(0.25, name='dropout')(x)\n",
    "    out = keras.layers.Dense(4, activation='softmax', name='output')(x)\n",
    "    network = keras.models.Model(inputs=[inp], outputs=[out])\n",
    "    \n",
    "    network.compile(optimizer=keras.optimizers.adam(), loss='categorical_crossentropy', metrics=['accuracy'])\n",
    "    \n",
    "    return network\n",
    "\n",
    "network = build_network()\n",
    "network.summary()\n",
    "    "
   ]
  },
  {
   "cell_type": "code",
   "execution_count": null,
   "metadata": {
    "scrolled": false
   },
   "outputs": [],
   "source": [
    "network = build_network()\n",
    "network.summary()\n",
    "\n",
    "loss_plt = ipywidgets.Image()\n",
    "acc_plt = ipywidgets.Image()\n",
    "display(ipywidgets.HBox([loss_plt, acc_plt]))\n",
    "\n",
    "datagen = keras.preprocessing.image.ImageDataGenerator(\n",
    "    #zca_whitening=True,\n",
    "    width_shift_range=0.1,\n",
    "    height_shift_range=0.1,\n",
    "    rotation_range=10,\n",
    "    zoom_range=0.1,\n",
    "    horizontal_flip=True, \n",
    "    fill_mode='nearest',\n",
    "    validation_split=0.25)\n",
    "datagen.fit(train_images)\n",
    "\n",
    "train_generator = datagen.flow(train_images, train_labels, batch_size=32, subset='training')\n",
    "val_generator = datagen.flow(train_images, train_labels, batch_size=32, subset='validation')\n",
    "epochs = 100\n",
    "history = network.fit_generator(train_generator, validation_data=val_generator, use_multiprocessing=True, workers=4,\n",
    "                                epochs=epochs, verbose=0, callbacks=[plot_history(loss_plt, acc_plt)])"
   ]
  },
  {
   "cell_type": "code",
   "execution_count": null,
   "metadata": {
    "scrolled": false
   },
   "outputs": [],
   "source": [
    "network = build_network()\n",
    "\n",
    "loss_plt = ipywidgets.Image()\n",
    "acc_plt = ipywidgets.Image()\n",
    "display(ipywidgets.HBox([loss_plt, acc_plt]))\n",
    "\n",
    "datagen = keras.preprocessing.image.ImageDataGenerator(\n",
    "    #zca_whitening=True,\n",
    "    width_shift_range=0.1,\n",
    "    height_shift_range=0.1,\n",
    "    rotation_range=10,\n",
    "    zoom_range=0.1,\n",
    "    horizontal_flip=True, \n",
    "    fill_mode='nearest',\n",
    "    validation_split=0.25)\n",
    "datagen.fit(train_images)\n",
    "\n",
    "train_generator = datagen.flow(train_images, train_labels, batch_size=32)\n",
    "final_epochs = 90\n",
    "network.fit_generator(train_generator, epochs=final_epochs, verbose=0, validation_data=((test_images, test_labels)),\n",
    "                      use_multiprocessing=True, workers=4, \n",
    "                      callbacks=[plot_history(loss_plt, acc_plt, mode='final', history=history.history)])"
   ]
  },
  {
   "cell_type": "code",
   "execution_count": null,
   "metadata": {
    "scrolled": true
   },
   "outputs": [],
   "source": [
    "entry = 6\n",
    "\n",
    "prediction = network.predict(test_images[entry:entry+1])\n",
    "ground_truth = np.argmax(test_labels[entry])\n",
    "prediction_label = np.argmax(prediction[0])\n",
    "img = test_images[entry]\n",
    "plt.figure(figsize=(2,2))\n",
    "plt.imshow(img)\n",
    "plt.show()\n",
    "\n",
    "print(\"Ground truth: {} / {}\".format(ground_truth, cifar_map[ground_truth]))\n",
    "print(\"Prediction:   {} / {}\".format(prediction_label, cifar_map[prediction_label]))\n",
    "print('-' * 26)\n",
    "print(\"{0:<10} | {1:>6} \".format(\"Label\", \"Score\"))\n",
    "print('-' * 26)\n",
    "for i,r in enumerate(prediction[0]):\n",
    "    print(\"{:<10} | {:> 8.2%}\".format(cifar_map[i], r))\n",
    "print('-' * 26)\n",
    "\n"
   ]
  },
  {
   "cell_type": "code",
   "execution_count": null,
   "metadata": {
    "scrolled": true
   },
   "outputs": [],
   "source": []
  }
 ],
 "metadata": {
  "kernelspec": {
   "display_name": "Python 3",
   "language": "python",
   "name": "python3"
  },
  "language_info": {
   "codemirror_mode": {
    "name": "ipython",
    "version": 3
   },
   "file_extension": ".py",
   "mimetype": "text/x-python",
   "name": "python",
   "nbconvert_exporter": "python",
   "pygments_lexer": "ipython3",
   "version": "3.5.2"
  }
 },
 "nbformat": 4,
 "nbformat_minor": 2
}
