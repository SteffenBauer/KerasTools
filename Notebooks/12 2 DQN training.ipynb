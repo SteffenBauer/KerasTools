{
 "cells": [
  {
   "cell_type": "code",
   "execution_count": null,
   "metadata": {},
   "outputs": [],
   "source": [
    "from __future__ import print_function\n",
    "import os, sys, StringIO, time, threading, collections\n",
    "module_path = os.path.abspath(os.path.join('..'))\n",
    "if module_path not in sys.path:\n",
    "    sys.path.append(module_path)\n",
    "\n",
    "import keras\n",
    "import KerasTools as KT\n",
    "import numpy as np\n",
    "\n",
    "import ipywidgets\n",
    "import skimage\n",
    "import matplotlib.pyplot as plt"
   ]
  },
  {
   "cell_type": "code",
   "execution_count": null,
   "metadata": {},
   "outputs": [],
   "source": [
    "stopEvent = threading.Event()\n",
    "currentGame = collections.deque([], 1)\n",
    "class GamePlot(threading.Thread):\n",
    "    def __init__(self):\n",
    "        threading.Thread.__init__(self, name=\"GamePlot\")\n",
    "        self.imbuf = StringIO.StringIO()\n",
    "        self.img = ipywidgets.Image(width=256, height=256)\n",
    "        display(self.img)\n",
    "        self.plot_frame(np.zeros((10,10), np.uint8))\n",
    "    def run(self):\n",
    "        while not stopEvent.isSet():\n",
    "            try: game = currentGame.pop()\n",
    "            except IndexError: time.sleep(0.1)\n",
    "            else:\n",
    "                for frame in game:\n",
    "                    self.plot_frame(frame)\n",
    "                    time.sleep(0.1)\n",
    "                time.sleep(0.5)\n",
    "    def plot_frame(self, frame):\n",
    "        f = skimage.transform.resize(frame,(256,256), order=0, mode='constant', anti_aliasing=False)\n",
    "        plt.imsave(self.imbuf, f, vmin=0.0, vmax=1.0, cmap='nipy_spectral')\n",
    "        self.imbuf.seek(0)           \n",
    "        self.img.value = self.imbuf.buf\n",
    "        \n",
    "class GameStore:\n",
    "    def __init__(self):\n",
    "        self.plotter = GamePlot()\n",
    "        self.plotter.start()\n",
    "    def game_start(self, frame):\n",
    "        self.gamestore = [frame]\n",
    "    def game_frame(self, frame):\n",
    "        self.gamestore.append(frame)\n",
    "    def game_over(self):\n",
    "        currentGame.append(self.gamestore)"
   ]
  },
  {
   "cell_type": "code",
   "execution_count": null,
   "metadata": {},
   "outputs": [],
   "source": [
    "grid_size = 10\n",
    "hidden_size = 100\n",
    "nb_frames = 10\n",
    "\n",
    "model = keras.models.Sequential()\n",
    "model.add(keras.layers.Flatten(input_shape=(nb_frames, grid_size, grid_size)))\n",
    "model.add(keras.layers.Dense(100, activation='relu'))\n",
    "model.add(keras.layers.Dense(3))\n",
    "model.compile(keras.optimizers.rmsprop(), \"logcosh\")\n",
    "model.summary()\n",
    "\n",
    "game = KT.qlearn.catch.Catch(grid_size)\n",
    "agent = KT.qlearn.agent.Agent(model=model, memory_size=20000, nb_frames = nb_frames)\n",
    "stopEvent.clear()\n",
    "agent.train(game, batch_size=256, epochs=10, train_interval=32,\n",
    "            epsilon=[0.5, 0.01], epsilon_rate=0.5, reset_memory=False,\n",
    "            callbacks=[GameStore()])\n",
    "\n",
    "stopEvent.set()"
   ]
  },
  {
   "cell_type": "code",
   "execution_count": null,
   "metadata": {},
   "outputs": [],
   "source": [
    "grid_size = 10\n",
    "hidden_size = 100\n",
    "nb_frames = 10\n",
    "\n",
    "model = keras.models.Sequential()\n",
    "model.add(keras.layers.Reshape((nb_frames, grid_size*grid_size), input_shape=(nb_frames, grid_size, grid_size)))\n",
    "model.add(keras.layers.GRU(10))\n",
    "model.add(keras.layers.Dense(3))\n",
    "model.compile(keras.optimizers.rmsprop(), \"logcosh\")\n",
    "model.summary()\n",
    "\n",
    "game = KT.qlearn.catch.Catch(grid_size)\n",
    "agent = KT.qlearn.agent.Agent(model=model, memory_size=20000, nb_frames = nb_frames)\n",
    "stopEvent.clear()\n",
    "agent.train(game, batch_size=256, epochs=10, train_interval=32,\n",
    "            epsilon=[0.5, 0.01], epsilon_rate=0.5, reset_memory=False,\n",
    "            callbacks=[GameStore()])\n",
    "\n",
    "stopEvent.set()"
   ]
  },
  {
   "cell_type": "code",
   "execution_count": null,
   "metadata": {},
   "outputs": [],
   "source": []
  }
 ],
 "metadata": {
  "kernelspec": {
   "display_name": "Python 2",
   "language": "python",
   "name": "python2"
  },
  "language_info": {
   "codemirror_mode": {
    "name": "ipython",
    "version": 2
   },
   "file_extension": ".py",
   "mimetype": "text/x-python",
   "name": "python",
   "nbconvert_exporter": "python",
   "pygments_lexer": "ipython2",
   "version": "2.7.13"
  }
 },
 "nbformat": 4,
 "nbformat_minor": 2
}
